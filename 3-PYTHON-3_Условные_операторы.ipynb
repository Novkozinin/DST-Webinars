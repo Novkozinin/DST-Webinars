{
 "cells": [
  {
   "cell_type": "markdown",
   "metadata": {},
   "source": [
    "### **PYTHON-3. Условные операторы**\n",
    "\n",
    "<span style=color:green>**3.1  О чём этот вебинар?**\n",
    "\n",
    "![Image](https://lms-cdn.skillfactory.ru/assets/courseware/v1/3ddbf3cb9f5ea26f92c1889e6c81e402/asset-v1:Skillfactory+DST-WEBINARS+MAY2020+type@asset+block/web1.png)\n",
    "\n",
    "Данный вебинар посвящён основам программирования на языке Python. Используя Google Collab, мы поговорим про сравнения значений переменных и решим несколько задач. Мы подробно разберём условные конструкции *if-elif-else*, а также вложенные и составные условия.\n",
    "\n",
    "**ПЛАН ЗАНЯТИЯ:**\n",
    "\n",
    "* Операторы и их виды;\n",
    "* Операторы сравнения;\n",
    "* Логические операторы;\n",
    "* Условный оператор;\n",
    "* Исключения.\n",
    "\n",
    "[<span style=color:green>**3.2  Вебинар «Основы синтаксиса: условные операторы» от 03.09.23. Спикер: Тимур Кильчуков**](https://apps.skillfactory.ru/learning/course/course-v1:Skillfactory+DST-WEBINARS+MAY2020/block-v1:Skillfactory+DST-WEBINARS+MAY2020+type@sequential+block@2349799557b74efebcc7264051accc4a/block-v1:Skillfactory+DST-WEBINARS+MAY2020+type@vertical+block@efd32a861f2c464091dd32aa2bd9fd35)\n",
    "\n",
    "* [Notebook: 3.2_Основы_синтаксиса_условные_операторы](/DST-Webinars/Notebooks/3.2_Основы_синтаксиса_условные_операторы.ipynb)\n",
    "\n",
    "[<span style=color:green>**3.3  Архив: «Основы синтаксиса: условные операторы». Спикер: Андрей Рысистов**](https://apps.skillfactory.ru/learning/course/course-v1:Skillfactory+DST-WEBINARS+MAY2020/block-v1:Skillfactory+DST-WEBINARS+MAY2020+type@sequential+block@2349799557b74efebcc7264051accc4a/block-v1:Skillfactory+DST-WEBINARS+MAY2020+type@vertical+block@1399c6146c3444ebb9da50eafb862877)\n",
    "\n",
    "* [Notebook: 3.3_Основы_синтаксиса_условные_операторы](/DST-Webinars/Notebooks/3.3_Основы_синтаксиса_условные_операторы.ipynb)\n",
    "\n"
   ]
  }
 ],
 "metadata": {
  "language_info": {
   "name": "python"
  }
 },
 "nbformat": 4,
 "nbformat_minor": 2
}
