{
 "cells": [
  {
   "cell_type": "markdown",
   "metadata": {},
   "source": [
    "### **PYTHON-1. Основы Python**\n",
    "\n",
    "<span style=color:green>**1/6  О чём этот вебинар?**\n",
    "\n",
    "Данный вебинар посвящён основам программирования на языке Python. Он особенно полезен тем, кто только начинает изучать язык программирования.\n",
    "\n",
    "Используя Google Collab, мы покажем, как вывести на экран вашу первую программу на Python и использовать разные переменные. Мы подробно разберём основные математические операции и решим несколько задач.\n",
    "\n",
    "**ПЛАН ЗАНЯТИЯ:**\n",
    "\n",
    "* Поговорим о самом языке программирования;\n",
    "* Напишем первую программу;\n",
    "* Познакомимся с основными числовыми типами данных;\n",
    "* Посмотрим на арифметические операторы в Python;\n",
    "* Разберемся с приведением типов;\n",
    "* Поговорим о переменных;\n",
    "* Изучим строковые типы данных.\n",
    "\n",
    "\n",
    "[<span style=color:green>**2/6  Вебинар «Основы синтаксиса: переменные, числовые и строковые типы данных» от 02.09.23. Спикер: Тимур Кильчуков**](https://github.com/Novkozinin/DST-Webinars/blob/master/Notebooks/%D0%9E%D1%81%D0%BD%D0%BE%D0%B2%D1%8B_Python_%D0%BF%D0%B5%D1%80%D0%B5%D0%BC%D0%B5%D0%BD%D0%BD%D1%8B%D0%B5__%D1%87%D0%B8%D1%81%D0%BB%D0%BE%D0%B2%D1%8B%D0%B5_%D0%B8_%D1%81%D1%82%D1%80%D0%BE%D0%BA%D0%BE%D0%B2%D1%8B%D0%B5_%D1%82%D0%B8%D0%BF%D1%8B.ipynb)\n",
    "\n",
    "* [Link](https://apps.skillfactory.ru/learning/course/course-v1:Skillfactory+DST-WEBINARS+MAY2020/block-v1:Skillfactory+DST-WEBINARS+MAY2020+type@sequential+block@af0690c880324a829e73a1e5f3dca93c/block-v1:Skillfactory+DST-WEBINARS+MAY2020+type@vertical+block@b5816872406c49f49824b94b349375d3)\n",
    "\n",
    "* [Notebook](/DST-Webinars/Notebooks/1.2_Типы_данных_списки_и_словари_ipynb.ipynb)\n",
    "\n",
    "[<span style=color:green>**3/6  Вебинар «Основы Python» от 06.06.23. Спикер: Марина Архипцева**](https://github.com/Novkozinin/DST-Webinars/blob/master/Notebooks/%D0%A2%D0%B8%D0%BF%D1%8B_%D0%B4%D0%B0%D0%BD%D0%BD%D1%8B%D1%85_%D1%81%D0%BF%D0%B8%D1%81%D0%BA%D0%B8_%D0%B8_%D1%81%D0%BB%D0%BE%D0%B2%D0%B0%D1%80%D0%B8_ipynb.ipynb)\n",
    "\n",
    "* [Link](https://apps.skillfactory.ru/learning/course/course-v1:Skillfactory+DST-WEBINARS+MAY2020/block-v1:Skillfactory+DST-WEBINARS+MAY2020+type@sequential+block@af0690c880324a829e73a1e5f3dca93c/block-v1:Skillfactory+DST-WEBINARS+MAY2020+type@vertical+block@c9060732406d4a758e4bd09602f5fded)\n",
    "\n",
    "* [Notebook](/DST-Webinars/Notebooks/1.3_Основы_Python_переменные__числовые_и_строковые_типы.ipynb)\n",
    "\n",
    "\n",
    "[<span style=color:green>**4/6  Архив: «Основы синтаксиса: переменные, числовые и строковые типы данных». Спикер: Альмир Шавалиев**]()\n",
    "\n",
    "* [Link](https://apps.skillfactory.ru/learning/course/course-v1:Skillfactory+DST-WEBINARS+MAY2020/block-v1:Skillfactory+DST-WEBINARS+MAY2020+type@sequential+block@af0690c880324a829e73a1e5f3dca93c/block-v1:Skillfactory+DST-WEBINARS+MAY2020+type@vertical+block@c9060732406d4a758e4bd09602f5fded)\n",
    "\n",
    "* [Notebook](/DST-Webinars/Notebooks/1.4_Основы_Python__переменные,_числовые_и_строковые_типы.ipynb)\n",
    "\n",
    "[<span style=color:green>**5/6  Архив: «Основы синтаксиса: переменные, числовые и строковые типы данных». Спикер: Олег Булыгин**]()\n",
    "\n",
    "* [Link](https://apps.skillfactory.ru/learning/course/course-v1:Skillfactory+DST-WEBINARS+MAY2020/block-v1:Skillfactory+DST-WEBINARS+MAY2020+type@sequential+block@af0690c880324a829e73a1e5f3dca93c/block-v1:Skillfactory+DST-WEBINARS+MAY2020+type@vertical+block@c9060732406d4a758e4bd09602f5fded)\n",
    "\n",
    "* [Notebook](/DST-Webinars/Notebooks/Типы_данных_списки_и_словари_ipynb.ipynb)\n",
    "\n",
    "[<span style=color:green>**6/6  Архив: «Основы синтаксиса: переменные, числовые и строковые типы данных». Спикер: Андрей Рысистов**]()\n",
    "\n",
    "* [Link](https://apps.skillfactory.ru/learning/course/course-v1:Skillfactory+DST-WEBINARS+MAY2020/block-v1:Skillfactory+DST-WEBINARS+MAY2020+type@sequential+block@af0690c880324a829e73a1e5f3dca93c/block-v1:Skillfactory+DST-WEBINARS+MAY2020+type@vertical+block@c9060732406d4a758e4bd09602f5fded)\n",
    "\n",
    "* [Notebook](/DST-Webinars/Notebooks/Типы_данных_списки_и_словари_ipynb.ipynb)\n"
   ]
  }
 ],
 "metadata": {
  "language_info": {
   "name": "python"
  },
  "orig_nbformat": 4
 },
 "nbformat": 4,
 "nbformat_minor": 2
}
