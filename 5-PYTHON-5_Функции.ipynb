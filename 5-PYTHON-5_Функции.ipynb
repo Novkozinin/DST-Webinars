{
 "cells": [
  {
   "cell_type": "markdown",
   "metadata": {},
   "source": [
    "### **PYTHON-4. Функции**\n",
    "\n",
    "<span style=color:green>**3.1  О чём этот вебинар?**\n",
    "\n",
    "![Image](https://lms-cdn.skillfactory.ru/assets/courseware/v1/3ddbf3cb9f5ea26f92c1889e6c81e402/asset-v1:Skillfactory+DST-WEBINARS+MAY2020+type@asset+block/web1.png)\n",
    "\n",
    "Данный вебинар посвящён основам программирования на языке *Python*. Используя *Google Collab*, мы поговорим про функции и решим несколько задач.\n",
    "\n",
    "**Функции** – это обособленный участок кода, который можно вызывать, обратившись к нему по имени, которым он был назван (подпрограмма). Это объект, принимающий аргументы и возвращающий значение.\n",
    "\n",
    "Функции помогают избежать дублирования кода, улучшить его структурированность и читаемость.\n",
    "\n",
    "**ПЛАН ЗАНЯТИЯ:**\n",
    "\n",
    "* Основы;\n",
    "* *Return*;\n",
    "* Области видимости;\n",
    "* Параметры функций;\n",
    "* Составной пример;\n",
    "* *Lambda*, *map*, *filter*;\n",
    "* Цикл, рекурсия, *reduce*.\n",
    "\n",
    "[<span style=color:green>**5.1  Вебинар «Функции» от 26.08.23. Спикер: Олег Булыгин**](https://apps.skillfactory.ru/learning/course/course-v1:Skillfactory+DST-WEBINARS+MAY2020/block-v1:Skillfactory+DST-WEBINARS+MAY2020+type@sequential+block@c6da835363c84d2bbe17737731019a94/block-v1:Skillfactory+DST-WEBINARS+MAY2020+type@vertical+block@bda6de5c35404b86bda5e6aa4fe2807a)\n",
    "\n",
    "* [Notebook: 5.1_Функции](/DST-Webinars/Notebooks/5.1_Функции.ipynb)\n",
    "\n",
    "\n",
    "[<span style=color:green>**5.2  Вебинар «Продвинутое использование функций» от 25.06.23. Спикер: Тимур Кильчуков**](https://apps.skillfactory.ru/learning/course/course-v1:Skillfactory+DST-WEBINARS+MAY2020/block-v1:Skillfactory+DST-WEBINARS+MAY2020+type@sequential+block@c6da835363c84d2bbe17737731019a94/block-v1:Skillfactory+DST-WEBINARS+MAY2020+type@vertical+block@1669ff61611d445492e5c8cca6dab36a)\n",
    "\n",
    "* [Notebook: 5.2_Продвинутое_использование_функций](/DST-Webinars/Notebooks/5.2_Продвинутое_использование_функций.ipynb)\n"
   ]
  }
 ],
 "metadata": {
  "language_info": {
   "name": "python"
  }
 },
 "nbformat": 4,
 "nbformat_minor": 2
}
