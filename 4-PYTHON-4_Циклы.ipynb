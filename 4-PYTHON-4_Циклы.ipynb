{
 "cells": [
  {
   "cell_type": "markdown",
   "metadata": {},
   "source": [
    "### **PYTHON-4. Циклы**\n",
    "\n",
    "<span style=color:green>**3.1  О чём этот вебинар?**\n",
    "\n",
    "![Image](https://lms-cdn.skillfactory.ru/assets/courseware/v1/3ddbf3cb9f5ea26f92c1889e6c81e402/asset-v1:Skillfactory+DST-WEBINARS+MAY2020+type@asset+block/web1.png)\n",
    "\n",
    "Данный вебинар посвящён основам программирования на языке Python. Мы поговорим о циклах *for* и *while* и решим несколько задач.\n",
    "\n",
    "**ПЛАН ЗАНЯТИЯ:**\n",
    "\n",
    "* Цикл *for*;\n",
    "* Функции *range* и *enumerate*;\n",
    "* Цикл *while*;\n",
    "* Операторы *break* и *continue*;\n",
    "* *Else* с циклам;\n",
    "* Вложенные циклы.\n",
    "\n",
    "[<span style=color:green>**4.1  Вебинар «Основы синтаксиса: циклы» от 22.07.23. Спикер: Олег Булыгин**](https://apps.skillfactory.ru/learning/course/course-v1:Skillfactory+DST-WEBINARS+MAY2020/block-v1:Skillfactory+DST-WEBINARS+MAY2020+type@sequential+block@59c72b25895945ad9a33eb1912795ecf/block-v1:Skillfactory+DST-WEBINARS+MAY2020+type@vertical+block@1bcfe371be334795b4abc8f69aedeed2)\n",
    "\n",
    "* [Notebook: 4.1_Основы_синтаксиса_циклы](/DST-Webinars/Notebooks/4.1_Основы_синтаксиса_циклы.ipynb)\n",
    "\n",
    "\n"
   ]
  }
 ],
 "metadata": {
  "language_info": {
   "name": "python"
  }
 },
 "nbformat": 4,
 "nbformat_minor": 2
}
