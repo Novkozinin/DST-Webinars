{
 "cells": [
  {
   "cell_type": "markdown",
   "metadata": {},
   "source": [
    "### **PYTHON-2. Погружение в типы данных**\n",
    "\n",
    "<span style=color:green>**2.1  О чём этот вебинар?**\n",
    "\n",
    "![Image](https://lms-cdn.skillfactory.ru/assets/courseware/v1/3ddbf3cb9f5ea26f92c1889e6c81e402/asset-v1:Skillfactory+DST-WEBINARS+MAY2020+type@asset+block/web1.png)\n",
    "\n",
    "В этом вебинаре мы подробно разберём списки и словари  —  структуры, которые позволяют хранить последовательности данных и грамотно с ними взаимодействовать. Мы решим несколько задач на эти темы.\n",
    "\n",
    "**ПЛАН ЗАНЯТИЯ:**\n",
    "\n",
    "* Поговорим о том, что вообще такое структуры данных и зачем они нам нужны;\n",
    "* Разберем структуру данных — список, его возможности и задачи, которые можно решить с помощью него;\n",
    "* Разберем структуру данных — словарь, его возможности и задачи, которые можно решить с помощью него;\n",
    "* Поговорим о том, как работать с комбинациями из этих структур.\n",
    "\n",
    "[<span style=color:green>**2.2  Вебинар «Основы синтаксиса: типы данных» от 02.09.23. Спикер: Тимур Кильчуков**](https://apps.skillfactory.ru/learning/course/course-v1:Skillfactory+DST-WEBINARS+MAY2020/block-v1:Skillfactory+DST-WEBINARS+MAY2020+type@sequential+block@af0690c880324a829e73a1e5f3dca93c/block-v1:Skillfactory+DST-WEBINARS+MAY2020+type@vertical+block@b5816872406c49f49824b94b349375d3)\n",
    "\n",
    "* [Notebook: 1.2_Типы_данных_списки_и_словари](/DST-Webinars/Notebooks/2.2_Типы_данных_списки_и_словари.ipynb)\n",
    "\n",
    "[<span style=color:green>**3/6  Вебинар «Основы Python» от 06.06.23. Спикер: Марина Архипцева**](https://apps.skillfactory.ru/learning/course/course-v1:Skillfactory+DST-WEBINARS+MAY2020/block-v1:Skillfactory+DST-WEBINARS+MAY2020+type@sequential+block@aab57c021a5f448f833ec33229415485/block-v1:Skillfactory+DST-WEBINARS+MAY2020+type@vertical+block@d49d51113a264bb39fe31cec1a04e184)\n",
    "\n",
    "* [Notebook: 1.3_Типы_данных_Условия_Циклы](/DST-Webinars/Notebooks/1.3_Типы_данных_Условия_Циклы.ipynb)\n",
    "\n",
    "[<span style=color:green>**4/6  Архив: «Основы синтаксиса: переменные, числовые и строковые типы данных». Спикер: Альмир Шавалиев**](https://apps.skillfactory.ru/learning/course/course-v1:Skillfactory+DST-WEBINARS+MAY2020/block-v1:Skillfactory+DST-WEBINARS+MAY2020+type@sequential+block@aab57c021a5f448f833ec33229415485/block-v1:Skillfactory+DST-WEBINARS+MAY2020+type@vertical+block@444a59ec280c4e1aa0c00556e9bae2bd)\n",
    "\n",
    "* [Notebook: 1.4_Основы_Python__переменные,_числовые_и_строковые_типы](/DST-Webinars/Notebooks/1.4_Основы_Python__переменные,_числовые_и_строковые_типы.ipynb)\n",
    "\n",
    "[<span style=color:green>**5/6  Архив: «Основы синтаксиса: переменные, числовые и строковые типы данных». Спикер: Олег Булыгин**](https://apps.skillfactory.ru/learning/course/course-v1:Skillfactory+DST-WEBINARS+MAY2020/block-v1:Skillfactory+DST-WEBINARS+MAY2020+type@sequential+block@aab57c021a5f448f833ec33229415485/block-v1:Skillfactory+DST-WEBINARS+MAY2020+type@vertical+block@bbb6024d2e4b432f885b81f9303df91c)\n",
    "\n",
    "* [Notebook](/DST-Webinars/Notebooks/1.5_Основы_Python__переменные,_числовые_и_строковые_типы.ipynb)\n",
    "\n",
    "[<span style=color:green>**6/6  Архив: «Основы синтаксиса: переменные, числовые и строковые типы данных». Спикер: Андрей Рысистов**](https://apps.skillfactory.ru/learning/course/course-v1:Skillfactory+DST-WEBINARS+MAY2020/block-v1:Skillfactory+DST-WEBINARS+MAY2020+type@sequential+block@aab57c021a5f448f833ec33229415485/block-v1:Skillfactory+DST-WEBINARS+MAY2020+type@vertical+block@740983dee65e444fbe79af6d59af1789)\n",
    "\n",
    "* [Notebook](/DST-Webinars/Notebooks/1.6_Основы_Python__переменные,_числовые_и_строковые_типы.ipynb)\n"
   ]
  }
 ],
 "metadata": {
  "language_info": {
   "name": "python"
  }
 },
 "nbformat": 4,
 "nbformat_minor": 2
}
