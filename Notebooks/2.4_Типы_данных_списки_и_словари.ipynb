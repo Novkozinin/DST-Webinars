{
  "nbformat": 4,
  "nbformat_minor": 0,
  "metadata": {
    "colab": {
      "provenance": [],
      "collapsed_sections": [
        "cCxQbcdB5B2r",
        "VobEJHx_5cnZ",
        "KJ8ryfXZQAnF",
        "pMa7bemd9JxZ",
        "0KQmC3aD8WnA",
        "dIVtL8uhALXi",
        "ycQx9qa0m_Dt",
        "e7_K6Qr9m_Dw",
        "9ajno0rag7Rl",
        "NLQDjX6t9J2L",
        "y9QyIRiXFhXr",
        "0rjsQq8G9J2v",
        "vVCdYjHntQJD",
        "5OlCrQFlKQU8",
        "A4xWbvXHKzyl",
        "hLu-sbC2iiZn",
        "AFRIVnWlm_EG",
        "a6lyRtrA9J4L",
        "khxMKXlX9J4k"
      ]
    },
    "kernelspec": {
      "display_name": "Python 3",
      "language": "python",
      "name": "python3"
    },
    "language_info": {
      "codemirror_mode": {
        "name": "ipython",
        "version": 3
      },
      "file_extension": ".py",
      "mimetype": "text/x-python",
      "name": "python",
      "nbconvert_exporter": "python",
      "pygments_lexer": "ipython3",
      "version": "3.8.3"
    },
    "accelerator": "GPU"
  },
  "cells": [
    {
      "cell_type": "markdown",
      "metadata": {
        "id": "-dRFXe9i4HYL"
      },
      "source": [
        "# Погружение в типы (структуры) данных"
      ]
    },
    {
      "cell_type": "markdown",
      "metadata": {
        "id": "yf2ztrfuC54H"
      },
      "source": [
        "Спикер: Андрей Рысистов\n",
        "\n",
        "Контакты(телеграм): @Rysistov\n",
        "\n",
        "Слак: @Андрей Рысистов (эксперт)"
      ]
    },
    {
      "cell_type": "markdown",
      "metadata": {
        "id": "cCxQbcdB5B2r"
      },
      "source": [
        "## 1. План занятия"
      ]
    },
    {
      "cell_type": "markdown",
      "metadata": {
        "id": "-qZUoumK4EBL"
      },
      "source": [
        "План занятия\n",
        "1. Поговорим о том, что вообще такое структуры данных и зачем они нам нужны\n",
        "2. Разберем структуру данных - список, его возможности и задачи, которые можно решить с помощью него\n",
        "3. Разберем структуру данных - словарь, его возможности и задачи, которые можно решить с помощью него\n",
        "4. Поговорим о том, как работать с комбинациями из этих структур"
      ]
    },
    {
      "cell_type": "markdown",
      "metadata": {
        "id": "VobEJHx_5cnZ"
      },
      "source": [
        "## 2. Структуры данных"
      ]
    },
    {
      "cell_type": "markdown",
      "metadata": {
        "id": "FqWF-l4q5ijJ"
      },
      "source": [
        "\n",
        "Структуры данных - это общий термин для различных методов хранения информации.\n",
        "\n",
        "Как только мы начинаем выходить за рамки написания простейших программ у нас возниает потребность в хранении коллекций или наборов данных. Для этого в языке Python предусмотрены 2 очень мощных по своим возможностям типа данных: списки и словари."
      ]
    },
    {
      "cell_type": "code",
      "source": [
        "order1 = 'Порошок, кружка, чай, кофе'\n",
        "order2 = 'Сахар, соль, хлеб'\n",
        "order3 = '...'"
      ],
      "metadata": {
        "id": "LRj85RVYrHFG"
      },
      "execution_count": null,
      "outputs": []
    },
    {
      "cell_type": "markdown",
      "metadata": {
        "id": "xyeCEHEC5wla"
      },
      "source": [
        "## 3. Список"
      ]
    },
    {
      "cell_type": "markdown",
      "metadata": {
        "id": "KJ8ryfXZQAnF"
      },
      "source": [
        "### 3.0 Определение списка"
      ]
    },
    {
      "cell_type": "markdown",
      "metadata": {
        "id": "xj0Dxvpk9JxW"
      },
      "source": [
        "\n",
        "\n",
        "\n",
        "\n",
        "\n",
        "\n",
        "\n",
        "\n",
        "\n",
        "\n",
        "**Список** в Python — это упорядоченная изменяемая коллекция объектов произвольных типов.\n",
        "\n",
        "\n",
        "\n",
        "\n",
        "В этом определении важна каждое слово. Мы будем к нему возвращаться по мере иллюстрации возможностей и свойств списков.\n",
        "\n",
        "\n",
        "\n",
        "* Когда мы называем список коллекцией, мы имеем в виду, что в одном списке может храниться множество объектов (например, чисел или строковых величин)\n",
        "\n",
        "\n",
        "* Говоря о том, что списки представляют собой упорядоченные коллекции, мы обращаем внимание на то, что каждый элемент в списке имеет свой порядковый номер.\n",
        "\n",
        "\n",
        "* Упоминание об изменяемости списков означает, что в процессе исполнения кода можно изменять состав элементов списка и последовательность их расположения.\n",
        "\n",
        "\n",
        "* Выражение «произвольных типов» означает, что в списке могут храниться данные, относящиеся к любым типам из тех, с которыми работает Python. *То есть это могут быть также другие списки и словари*\n",
        "\n",
        "\n",
        "\n"
      ]
    },
    {
      "cell_type": "markdown",
      "metadata": {
        "id": "pMa7bemd9JxZ"
      },
      "source": [
        "### 3.1 Создание списков"
      ]
    },
    {
      "cell_type": "code",
      "metadata": {
        "colab": {
          "base_uri": "https://localhost:8080/"
        },
        "id": "SrhOwmXrm_Df",
        "outputId": "c9574f53-9381-47ad-aa2a-f6dc5c62258d"
      },
      "source": [
        "my_list = list() #первый способ создания пустого списка\n",
        "my_list"
      ],
      "execution_count": null,
      "outputs": [
        {
          "output_type": "execute_result",
          "data": {
            "text/plain": [
              "[]"
            ]
          },
          "metadata": {},
          "execution_count": 6
        }
      ]
    },
    {
      "cell_type": "code",
      "metadata": {
        "colab": {
          "base_uri": "https://localhost:8080/"
        },
        "id": "ZCWXOwT5m_Dh",
        "outputId": "8aef4c89-bb1e-4676-f958-9a2280159346"
      },
      "source": [
        "my_list1 = [] #второй способ создания пустого списка\n",
        "my_list1"
      ],
      "execution_count": null,
      "outputs": [
        {
          "output_type": "execute_result",
          "data": {
            "text/plain": [
              "[]"
            ]
          },
          "metadata": {},
          "execution_count": 7
        }
      ]
    },
    {
      "cell_type": "code",
      "metadata": {
        "id": "_qajMTeL9Jxd",
        "colab": {
          "base_uri": "https://localhost:8080/"
        },
        "outputId": "aaa24c7a-6674-4586-8f7d-71a12472fc6c"
      },
      "source": [
        "spisok = ['лебедь', 'рак', 'щука'] # в списке хранится 3 объекта\n",
        "spisok"
      ],
      "execution_count": null,
      "outputs": [
        {
          "output_type": "execute_result",
          "data": {
            "text/plain": [
              "['лебедь', 'рак', 'щука']"
            ]
          },
          "metadata": {},
          "execution_count": 8
        }
      ]
    },
    {
      "cell_type": "code",
      "metadata": {
        "colab": {
          "base_uri": "https://localhost:8080/"
        },
        "id": "W2MWA877chhi",
        "outputId": "00e3e904-5a10-477a-f438-826c4f9b5c1a"
      },
      "source": [
        "languages = ['Java', 'C', 'Python', 'C++', 'Visual Basic.NET']\n",
        "languages"
      ],
      "execution_count": null,
      "outputs": [
        {
          "output_type": "execute_result",
          "data": {
            "text/plain": [
              "['Java', 'C', 'Python', 'C++', 'Visual Basic.NET']"
            ]
          },
          "metadata": {},
          "execution_count": 9
        }
      ]
    },
    {
      "cell_type": "code",
      "source": [
        "type(range(1, 20))"
      ],
      "metadata": {
        "colab": {
          "base_uri": "https://localhost:8080/"
        },
        "id": "Wq2WH2wPtwXs",
        "outputId": "a463de17-871f-4d58-a780-aea5e1397b99"
      },
      "execution_count": null,
      "outputs": [
        {
          "output_type": "execute_result",
          "data": {
            "text/plain": [
              "range"
            ]
          },
          "metadata": {},
          "execution_count": 11
        }
      ]
    },
    {
      "cell_type": "code",
      "metadata": {
        "colab": {
          "base_uri": "https://localhost:8080/"
        },
        "id": "vvnrAlurdHWM",
        "outputId": "5ca854f5-2702-471b-8ac8-0b5e91953676"
      },
      "source": [
        "range_list = list(range(1, 20))\n",
        "range_list"
      ],
      "execution_count": null,
      "outputs": [
        {
          "output_type": "execute_result",
          "data": {
            "text/plain": [
              "[1, 2, 3, 4, 5, 6, 7, 8, 9, 10, 11, 12, 13, 14, 15, 16, 17, 18, 19]"
            ]
          },
          "metadata": {},
          "execution_count": 12
        }
      ]
    },
    {
      "cell_type": "markdown",
      "metadata": {
        "id": "0KQmC3aD8WnA"
      },
      "source": [
        "### 3.2 Список - последовательность"
      ]
    },
    {
      "cell_type": "markdown",
      "metadata": {
        "id": "NVxSG55f9JyH"
      },
      "source": [
        "Списки, кортежи и строки являются примерами последовательностей. Но что такое последовательности и что в них такого особенного?\n",
        "\n",
        "Основные возможности – это проверка принадлежности (т.е. выражения **“in”** и **“not in”**) и оператор индексирования, позволяющий получить напрямую некоторый элемент последовательности."
      ]
    },
    {
      "cell_type": "markdown",
      "metadata": {
        "id": "3pJFFRtim_Dl"
      },
      "source": [
        "**Индексация в Python начинается с 0**"
      ]
    },
    {
      "cell_type": "code",
      "metadata": {
        "colab": {
          "base_uri": "https://localhost:8080/"
        },
        "id": "7M32XtV5Sfki",
        "outputId": "e9c00c69-cf0e-4611-8dd4-aba0efb9cc50"
      },
      "source": [
        "spisok"
      ],
      "execution_count": null,
      "outputs": [
        {
          "output_type": "execute_result",
          "data": {
            "text/plain": [
              "['лебедь', 'рак', 'щука']"
            ]
          },
          "metadata": {},
          "execution_count": 13
        }
      ]
    },
    {
      "cell_type": "code",
      "metadata": {
        "colab": {
          "base_uri": "https://localhost:8080/"
        },
        "id": "65B5KaCM-x15",
        "outputId": "82fd4600-7467-4daa-f002-d2237cec450c"
      },
      "source": [
        "print(spisok[2]) # так мы обратились к третьему элементу списка"
      ],
      "execution_count": null,
      "outputs": [
        {
          "output_type": "stream",
          "name": "stdout",
          "text": [
            "щука\n"
          ]
        }
      ]
    },
    {
      "cell_type": "code",
      "metadata": {
        "colab": {
          "base_uri": "https://localhost:8080/"
        },
        "id": "3-Y1VghU_L6P",
        "scrolled": true,
        "outputId": "571670f3-55fc-4cca-f796-c8457bd645ed"
      },
      "source": [
        "spisok[1] = 'форель' # 3аменили второй элемент списка.\n",
        "print(spisok) # В отличие от строк нам не нужно перезаписывать весь объект, мы можем поменять часть списка"
      ],
      "execution_count": null,
      "outputs": [
        {
          "output_type": "stream",
          "name": "stdout",
          "text": [
            "['лебедь', 'форель', 'щука']\n"
          ]
        }
      ]
    },
    {
      "cell_type": "code",
      "metadata": {
        "scrolled": true,
        "colab": {
          "base_uri": "https://localhost:8080/"
        },
        "id": "JOEQg9cim_Dn",
        "outputId": "5dbe5635-2c84-49df-f07e-be16838ab26a"
      },
      "source": [
        "len(spisok) #получение длины списка"
      ],
      "execution_count": null,
      "outputs": [
        {
          "output_type": "execute_result",
          "data": {
            "text/plain": [
              "3"
            ]
          },
          "metadata": {},
          "execution_count": 16
        }
      ]
    },
    {
      "cell_type": "code",
      "metadata": {
        "colab": {
          "base_uri": "https://localhost:8080/"
        },
        "id": "FJdgtO-Agk6A",
        "outputId": "59af0958-304b-4991-db74-2703f59c4a25"
      },
      "source": [
        "'щука' in spisok"
      ],
      "execution_count": null,
      "outputs": [
        {
          "output_type": "execute_result",
          "data": {
            "text/plain": [
              "True"
            ]
          },
          "metadata": {},
          "execution_count": 17
        }
      ]
    },
    {
      "cell_type": "code",
      "metadata": {
        "colab": {
          "base_uri": "https://localhost:8080/"
        },
        "id": "2S2_vH1Y_QrW",
        "outputId": "14a19843-2738-47eb-e547-2e36e45fe92c"
      },
      "source": [
        "if 'щука' in spisok: #проверка на принадлежность строки списку\n",
        "  print('Варим уху')\n",
        "else:\n",
        "  print('Сегодня без ухи')"
      ],
      "execution_count": null,
      "outputs": [
        {
          "output_type": "stream",
          "name": "stdout",
          "text": [
            "Варим уху\n"
          ]
        }
      ]
    },
    {
      "cell_type": "markdown",
      "metadata": {
        "id": "dIVtL8uhALXi"
      },
      "source": [
        "### 3.3 Срезы"
      ]
    },
    {
      "cell_type": "markdown",
      "metadata": {
        "id": "2dsRlZjpwz0T"
      },
      "source": [
        "Также последовательности предоставляют операцию получения вырезки, которая позволяет получить вырезку последовательности, т.е. её фрагмент."
      ]
    },
    {
      "cell_type": "markdown",
      "metadata": {
        "id": "tqX5mRZ__j7t"
      },
      "source": [
        "list[START:STOP:STEP] - берёт срез от номера START, до STOP **не включая его**, с шагом STEP. По умолчанию START = 0, STOP = длине объекта, STEP = 1. Соответственно, какие-нибудь (а возможно, и все) параметры могут быть опущены."
      ]
    },
    {
      "cell_type": "markdown",
      "metadata": {
        "id": "OX04Y_oP5xiu"
      },
      "source": [
        "\n",
        "\n",
        "\n",
        "\n",
        "Срезы позволяют выбрать часть списка, а не один отдельный элемент.\n",
        "\n"
      ]
    },
    {
      "cell_type": "code",
      "metadata": {
        "colab": {
          "base_uri": "https://localhost:8080/"
        },
        "id": "l-hgeS7QAOwf",
        "outputId": "eaa9a0c9-9223-47de-f123-9f600db920cb"
      },
      "source": [
        "vowels = ['а', 'е', 'ё', 'и', 'о', 'у', 'ы', 'э', 'ю', 'я']\n",
        "print(vowels[:3])\n",
        "print(vowels[5:])\n",
        "print(vowels[4::2])\n",
        "print(vowels[:100])"
      ],
      "execution_count": null,
      "outputs": [
        {
          "output_type": "stream",
          "name": "stdout",
          "text": [
            "['а', 'е', 'ё']\n",
            "['у', 'ы', 'э', 'ю', 'я']\n",
            "['о', 'ы', 'ю']\n",
            "['а', 'е', 'ё', 'и', 'о', 'у', 'ы', 'э', 'ю', 'я']\n"
          ]
        }
      ]
    },
    {
      "cell_type": "markdown",
      "metadata": {
        "id": "AtYuPWwSc5kW"
      },
      "source": [
        "**Задача**:\n",
        "\n",
        "Выберите с помощью индексов элементы **о** & **у**"
      ]
    },
    {
      "cell_type": "code",
      "source": [],
      "metadata": {
        "id": "eJWEpGqfVGKD"
      },
      "execution_count": null,
      "outputs": []
    },
    {
      "cell_type": "markdown",
      "metadata": {
        "id": "DRqstxGC6cCo"
      },
      "source": [
        "Отрицательные индексы"
      ]
    },
    {
      "cell_type": "code",
      "metadata": {
        "colab": {
          "base_uri": "https://localhost:8080/"
        },
        "id": "VFShM5Jc6aUS",
        "outputId": "4ed02c38-93e2-4322-bfd2-75b9d5297f4b"
      },
      "source": [
        "vowels[:: -1]"
      ],
      "execution_count": null,
      "outputs": [
        {
          "output_type": "execute_result",
          "data": {
            "text/plain": [
              "['я', 'ю', 'э', 'ы', 'у', 'о', 'и', 'ё', 'е', 'а']"
            ]
          },
          "metadata": {},
          "execution_count": 29
        }
      ]
    },
    {
      "cell_type": "code",
      "source": [
        "print(vowels[4:6])"
      ],
      "metadata": {
        "id": "gDOrKTq6V855"
      },
      "execution_count": null,
      "outputs": []
    },
    {
      "cell_type": "markdown",
      "metadata": {
        "id": "qRY4uYxidct8"
      },
      "source": [
        "**Задача**\n",
        "\n",
        "Создайте список из чисел от -1 до 25. Затем сделайте срез, чтобы в ответе был следующий список: [-1, 1, 3, 5, 7]. В качестве ответа напишите через запятую два числа, являющихся границами среза.\n"
      ]
    },
    {
      "cell_type": "code",
      "source": [],
      "metadata": {
        "id": "aVRIVP0OVNY7"
      },
      "execution_count": null,
      "outputs": []
    },
    {
      "cell_type": "markdown",
      "metadata": {
        "id": "ycQx9qa0m_Dt"
      },
      "source": [
        "### 3.4 Операции со списками"
      ]
    },
    {
      "cell_type": "markdown",
      "metadata": {
        "id": "6CWvdLH-C54G"
      },
      "source": [
        "В список можно добавлять элементы\n",
        "\n",
        "Давайте вернем щуку в наш список, но не заменим ей форель, а как бы добавим скраю.\n",
        "\n",
        "Для этой операции у нас есть метод `append()`. Он добавляет элемент справа (что делает эту операцию достаточно быстрой, в отличие от добавления элемента, например, с левого края)"
      ]
    },
    {
      "cell_type": "code",
      "metadata": {
        "colab": {
          "base_uri": "https://localhost:8080/"
        },
        "id": "V5Y2aVgeDQ5q",
        "outputId": "7bb4279f-cc49-44c9-9acd-8d3089a0350e"
      },
      "source": [
        "spisok = ['лебедь', 'рак', 'форель']\n",
        "spisok.append('щука')\n",
        "print(spisok)"
      ],
      "execution_count": null,
      "outputs": [
        {
          "output_type": "stream",
          "name": "stdout",
          "text": [
            "['лебедь', 'рак', 'форель', 'щука']\n"
          ]
        }
      ]
    },
    {
      "cell_type": "markdown",
      "metadata": {
        "id": "lDptiYpUdyUm"
      },
      "source": [
        "**Задача:**\n",
        "\n",
        "Даны 3 переменные, содержащие в себе информацию о заказах, составьте пустой список orders и добавьте в него все заказы"
      ]
    },
    {
      "cell_type": "code",
      "metadata": {
        "colab": {
          "base_uri": "https://localhost:8080/"
        },
        "id": "NA1S0O03d6qU",
        "outputId": "a36516c2-648f-4e7f-a974-fd191bcab922"
      },
      "source": [
        "order1 = 'Заказ: рыба, молоко, яйца'\n",
        "order2 = 'Заказ: молоко, хлебцы, буженина'\n",
        "order3 = 'Заказ: батон, вода'\n",
        "orders = []\n",
        "orders.append(order1)\n",
        "orders.append(order2)\n",
        "orders.append(order3)\n",
        "print(orders)"
      ],
      "execution_count": null,
      "outputs": [
        {
          "output_type": "stream",
          "name": "stdout",
          "text": [
            "['Заказ: рыба, молоко, яйца', 'Заказ: молоко, хлебцы, буженина', 'Заказ: батон, вода']\n"
          ]
        }
      ]
    },
    {
      "cell_type": "markdown",
      "metadata": {
        "id": "F1hYiVKtejY8"
      },
      "source": [
        "Список можно расширять значениями из другого списка. Для этого используется метод `extend()`:"
      ]
    },
    {
      "cell_type": "code",
      "metadata": {
        "colab": {
          "base_uri": "https://localhost:8080/"
        },
        "id": "cPgQKz0qfEYZ",
        "outputId": "017016bb-a8fd-43ad-bc63-015cc79f7559"
      },
      "source": [
        "a = [\"Красноярский край\", \"Саратовская область\", \"Якутия\"]\n",
        "b = [\"Республика Крым\", \"Калининградская область\"]\n",
        "a.extend(b)\n",
        "print(a)"
      ],
      "execution_count": null,
      "outputs": [
        {
          "output_type": "stream",
          "name": "stdout",
          "text": [
            "['Красноярский край', 'Саратовская область', 'Якутия', 'Республика Крым', 'Калининградская область']\n"
          ]
        }
      ]
    },
    {
      "cell_type": "markdown",
      "metadata": {
        "id": "u14YzxPmfOx-"
      },
      "source": [
        "**Задача:**\n",
        "\n",
        "Вам даны наблюдения температуры воздуха за определенный период. К вам приходят новые наблюдения. Объедините данные в единый список\n"
      ]
    },
    {
      "cell_type": "code",
      "metadata": {
        "id": "90EIzSGefbzo",
        "colab": {
          "base_uri": "https://localhost:8080/"
        },
        "outputId": "09552e3d-7172-497c-a2e3-f11bfdc48ac2"
      },
      "source": [
        "temp_old = [23.3, 24.1, 26.4, 24.2, 20.3]\n",
        "temp_new = [19.8, 15.3, 18.4, 10.4, 8.1, 5.0]\n",
        "temp_old.extend(temp_new)\n",
        "temp_old"
      ],
      "execution_count": null,
      "outputs": [
        {
          "output_type": "execute_result",
          "data": {
            "text/plain": [
              "[23.3, 24.1, 26.4, 24.2, 20.3, 19.8, 15.3, 18.4, 10.4, 8.1, 5.0]"
            ]
          },
          "metadata": {},
          "execution_count": 41
        }
      ]
    },
    {
      "cell_type": "markdown",
      "metadata": {
        "id": "g6AHeIyCDprC"
      },
      "source": [
        "Итак, мы разобрались с добавлением элементов и его расширением, теперь давайте узнаем как удалять элементы списка\n",
        "\n",
        "Для этого у нас есть метод `revome()`, который принимает в качестве аргумента элемент, который мы хотим удалить\n",
        "\n"
      ]
    },
    {
      "cell_type": "code",
      "metadata": {
        "colab": {
          "base_uri": "https://localhost:8080/"
        },
        "id": "UlxR4jtGAUYp",
        "outputId": "7e979efa-a021-43fd-ca39-4e3e24917e50"
      },
      "source": [
        "spisok = ['лебедь', 'рак', 'форель', 'лебедь']\n",
        "spisok.remove('лебедь')\n",
        "spisok"
      ],
      "execution_count": null,
      "outputs": [
        {
          "output_type": "execute_result",
          "data": {
            "text/plain": [
              "['рак', 'форель', 'лебедь']"
            ]
          },
          "metadata": {},
          "execution_count": 43
        }
      ]
    },
    {
      "cell_type": "markdown",
      "metadata": {
        "id": "i9BQ1d5hvwTE"
      },
      "source": [
        "Для удаления элементов по индексу используется метод `pop()`:"
      ]
    },
    {
      "cell_type": "code",
      "metadata": {
        "colab": {
          "base_uri": "https://localhost:8080/"
        },
        "id": "UPUuf00Yv4Ku",
        "outputId": "5f87b57e-3033-40ca-8a67-6b7429c76b5f"
      },
      "source": [
        "languages = ['Java', 'C', 'Python', 'C++', 'Visual Basic.NET']\n",
        "pop_item = languages.pop(3)\n",
        "print(pop_item)\n",
        "print(languages)"
      ],
      "execution_count": null,
      "outputs": [
        {
          "output_type": "stream",
          "name": "stdout",
          "text": [
            "C++\n",
            "['Java', 'C', 'Python', 'Visual Basic.NET']\n"
          ]
        }
      ]
    },
    {
      "cell_type": "markdown",
      "metadata": {
        "id": "fZkSN2BZAwNx"
      },
      "source": [
        "Отсортируем наш список с помощью метода `sort()`. Параметр reverse обозначает сортировку по убыванию (в порядке, обратному алфавитному)"
      ]
    },
    {
      "cell_type": "code",
      "metadata": {
        "colab": {
          "base_uri": "https://localhost:8080/"
        },
        "id": "Dnm5LOkTAvcm",
        "outputId": "b2bf42c3-d539-4e52-ddde-d96aeeaaf5c0"
      },
      "source": [
        "spisok.sort(reverse=True)\n",
        "spisok"
      ],
      "execution_count": null,
      "outputs": [
        {
          "output_type": "execute_result",
          "data": {
            "text/plain": [
              "['форель', 'рак', 'лебедь']"
            ]
          },
          "metadata": {},
          "execution_count": 46
        }
      ]
    },
    {
      "cell_type": "code",
      "metadata": {
        "colab": {
          "base_uri": "https://localhost:8080/"
        },
        "id": "DbcPp1KTZ2r4",
        "outputId": "217ae493-e630-40fc-843b-34cb0b97b511"
      },
      "source": [
        "languages = ['Java', 'C', 'Python', 'C++', 'Visual Basic.NET']\n",
        "languages.reverse()\n",
        "languages"
      ],
      "execution_count": null,
      "outputs": [
        {
          "output_type": "execute_result",
          "data": {
            "text/plain": [
              "['Visual Basic.NET', 'C++', 'Python', 'C', 'Java']"
            ]
          },
          "metadata": {},
          "execution_count": 48
        }
      ]
    },
    {
      "cell_type": "code",
      "source": [
        "languages = ['Java', 'C', 'Python', 'C++', 'Visual Basic.NET']\n",
        "new_languages = languages[::-1]\n",
        "new_languages"
      ],
      "metadata": {
        "colab": {
          "base_uri": "https://localhost:8080/"
        },
        "id": "ZQtLY6v3Z1a4",
        "outputId": "63787a59-63c6-4d91-aae9-592bdc2e63bf"
      },
      "execution_count": null,
      "outputs": [
        {
          "output_type": "execute_result",
          "data": {
            "text/plain": [
              "['Visual Basic.NET', 'C++', 'Python', 'C', 'Java']"
            ]
          },
          "metadata": {},
          "execution_count": 49
        }
      ]
    },
    {
      "cell_type": "code",
      "source": [
        "languages"
      ],
      "metadata": {
        "colab": {
          "base_uri": "https://localhost:8080/"
        },
        "id": "icdciZ5JZ7AY",
        "outputId": "04116f4d-772c-4e0e-d0b4-4e4fc8c9215a"
      },
      "execution_count": null,
      "outputs": [
        {
          "output_type": "execute_result",
          "data": {
            "text/plain": [
              "['Java', 'C', 'Python', 'C++', 'Visual Basic.NET']"
            ]
          },
          "metadata": {},
          "execution_count": 50
        }
      ]
    },
    {
      "cell_type": "markdown",
      "metadata": {
        "id": "USe_Gb0MBGgA"
      },
      "source": [
        "Помимо перечисленных выше методов у списка есть еще огромный арсенал возможностей. Подробнее со всеми ними вы можете познакомиться по ссылочке:https://pythonworld.ru/tipy-dannyx-v-python/spiski-list-funkcii-i-metody-spiskov.html"
      ]
    },
    {
      "cell_type": "markdown",
      "metadata": {
        "id": "I-bhnWGgH8vv"
      },
      "source": [
        "Рассмотрим еще несколько фишечек со списками:"
      ]
    },
    {
      "cell_type": "code",
      "metadata": {
        "colab": {
          "base_uri": "https://localhost:8080/"
        },
        "id": "7tnpBV0KICsH",
        "outputId": "7254cf30-0776-4c44-b345-e17d86cfd106"
      },
      "source": [
        "a = [5, '1', '124', 'hello'] + [14, 141, 5] #конкатенация списков\n",
        "a"
      ],
      "execution_count": null,
      "outputs": [
        {
          "output_type": "execute_result",
          "data": {
            "text/plain": [
              "[5, '1', '124', 'hello', 14, 141, 5]"
            ]
          },
          "metadata": {},
          "execution_count": 52
        }
      ]
    },
    {
      "cell_type": "code",
      "metadata": {
        "colab": {
          "base_uri": "https://localhost:8080/"
        },
        "id": "Bqf50LykILyi",
        "outputId": "5059d1ed-7e6b-4f46-fe12-9fba75126d58"
      },
      "source": [
        "[14, 141] * 5 #умножение списка"
      ],
      "execution_count": null,
      "outputs": [
        {
          "output_type": "execute_result",
          "data": {
            "text/plain": [
              "[14, 141, 14, 141, 14, 141, 14, 141, 14, 141]"
            ]
          },
          "metadata": {},
          "execution_count": 53
        }
      ]
    },
    {
      "cell_type": "markdown",
      "metadata": {
        "id": "LPAcIQGJwTF7"
      },
      "source": [
        "Агрегирующие функции/методы для списков\n"
      ]
    },
    {
      "cell_type": "code",
      "metadata": {
        "colab": {
          "base_uri": "https://localhost:8080/"
        },
        "id": "Q_OG3w4kwXFW",
        "outputId": "27a11064-58ff-4b4d-ac4f-b354f45b20ef"
      },
      "source": [
        "temp_new = [19.8, 15.3, 18.4, 10.4, 8.1, 5.0]\n",
        "sum(temp_new)"
      ],
      "execution_count": null,
      "outputs": [
        {
          "output_type": "execute_result",
          "data": {
            "text/plain": [
              "77.0"
            ]
          },
          "metadata": {},
          "execution_count": 54
        }
      ]
    },
    {
      "cell_type": "code",
      "metadata": {
        "colab": {
          "base_uri": "https://localhost:8080/"
        },
        "id": "_VUnE59qweOr",
        "outputId": "1e3b67af-d3d1-469c-be1a-49f735795fb6"
      },
      "source": [
        "temp_new = [19.8, 15.3, 18.4, 10.4, 8.1, 5.0]\n",
        "sum(temp_new)/len(temp_new)"
      ],
      "execution_count": null,
      "outputs": [
        {
          "output_type": "execute_result",
          "data": {
            "text/plain": [
              "12.833333333333334"
            ]
          },
          "metadata": {},
          "execution_count": 55
        }
      ]
    },
    {
      "cell_type": "code",
      "metadata": {
        "colab": {
          "base_uri": "https://localhost:8080/"
        },
        "id": "9O9k1Q15whZh",
        "outputId": "81a0b9b9-38cd-4d76-cdac-139fd94315a1"
      },
      "source": [
        "temp_new = [19.8, 15.3, 18.4, 10.4, 8.1, 5.0]\n",
        "max(temp_new)"
      ],
      "execution_count": null,
      "outputs": [
        {
          "output_type": "execute_result",
          "data": {
            "text/plain": [
              "19.8"
            ]
          },
          "metadata": {},
          "execution_count": 56
        }
      ]
    },
    {
      "cell_type": "code",
      "metadata": {
        "colab": {
          "base_uri": "https://localhost:8080/"
        },
        "id": "_BpDWpMLwkzW",
        "outputId": "e5d39dbc-0a03-49d8-8c0e-092e93176439"
      },
      "source": [
        "temp_new = [19.8, 15.3, 18.4, 10.4, 8.1, 5.0]\n",
        "min(temp_new)"
      ],
      "execution_count": null,
      "outputs": [
        {
          "output_type": "execute_result",
          "data": {
            "text/plain": [
              "5.0"
            ]
          },
          "metadata": {},
          "execution_count": 57
        }
      ]
    },
    {
      "cell_type": "code",
      "metadata": {
        "colab": {
          "base_uri": "https://localhost:8080/"
        },
        "id": "GaGdf4jzw0kf",
        "outputId": "4ac03121-e6fa-4dda-a56a-c705a096acbb"
      },
      "source": [
        "sex_feature = ['men', 'women', 'women',\n",
        "              'men', 'women', 'women',\n",
        "              'men', 'women', 'men', 'men']\n",
        "sex_feature.count('women')"
      ],
      "execution_count": null,
      "outputs": [
        {
          "output_type": "execute_result",
          "data": {
            "text/plain": [
              "5"
            ]
          },
          "metadata": {},
          "execution_count": 58
        }
      ]
    },
    {
      "cell_type": "markdown",
      "metadata": {
        "id": "9ajno0rag7Rl"
      },
      "source": [
        "### 3.6. Вложенные списки\n",
        "\n"
      ]
    },
    {
      "cell_type": "markdown",
      "metadata": {
        "id": "JBAn5C3XDALj"
      },
      "source": [
        "Элементом списка может быть любой объект в питоне, в том числе и другой список. Порой встречаются такие структуры как списки в списках, или \"вложенный список\"."
      ]
    },
    {
      "cell_type": "code",
      "metadata": {
        "colab": {
          "base_uri": "https://localhost:8080/"
        },
        "id": "r4HgZuJ6hNpY",
        "scrolled": true,
        "outputId": "c9b50e52-0096-48cc-828a-7c813bbb85d7"
      },
      "source": [
        "array_of_arrays = [\n",
        "                   [1, 2, 3],\n",
        "                   [4, 5, 3],\n",
        "                   [7, 2, 5]\n",
        "                   ]\n",
        "# у нас есть список array_of_arrays, который состоит из трех элементов\n",
        "# мы можем получить каждый из этих трех элементов с помощью индекса\n",
        "array_of_arrays[2][1]"
      ],
      "execution_count": null,
      "outputs": [
        {
          "output_type": "execute_result",
          "data": {
            "text/plain": [
              "2"
            ]
          },
          "metadata": {},
          "execution_count": 63
        }
      ]
    },
    {
      "cell_type": "markdown",
      "metadata": {
        "id": "wDzymhD6Lp_A"
      },
      "source": [
        "Задача:\n",
        "Cоздайте матрицу 3х3 у которой на диагонали будут стоять значение корня из 2"
      ]
    },
    {
      "cell_type": "code",
      "metadata": {
        "colab": {
          "base_uri": "https://localhost:8080/"
        },
        "id": "KqQuXDZNXs4Y",
        "outputId": "f08b62f0-bbf7-4a68-974e-2fae8e5ea222"
      },
      "source": [
        "array = [\n",
        "         [0]*3,\n",
        "         [0]*3,\n",
        "         [0]*3\n",
        "         ]\n",
        "print(array)\n",
        "array[0][0] = 2**0.5\n",
        "array[1][1] = 2**0.5\n",
        "array[2][2] = 2**0.5\n",
        "array"
      ],
      "execution_count": null,
      "outputs": [
        {
          "output_type": "stream",
          "name": "stdout",
          "text": [
            "[[0, 0, 0], [0, 0, 0], [0, 0, 0]]\n"
          ]
        },
        {
          "output_type": "execute_result",
          "data": {
            "text/plain": [
              "[[1.4142135623730951, 0, 0],\n",
              " [0, 1.4142135623730951, 0],\n",
              " [0, 0, 1.4142135623730951]]"
            ]
          },
          "metadata": {},
          "execution_count": 66
        }
      ]
    },
    {
      "cell_type": "markdown",
      "metadata": {
        "id": "y9QyIRiXFhXr"
      },
      "source": [
        "### 3.7 Практический кейс на списки"
      ]
    },
    {
      "cell_type": "markdown",
      "metadata": {
        "id": "eXeS9brNyO08"
      },
      "source": [
        "В вашем распоряжении есть некоторая информация о пользователях банка и их статусе: ушли ли они от нас или нет. Необходимо организовать программу, которая:\n",
        "  * Расчитает среднее по признаку кредитного рейтинга для ушедших клиентов\n",
        "  * Средний возраст всех клиентов\n",
        "  * Долю ушедших клиентов\n",
        "  * Выведет идентификаторы клиентов, которые ушли от банка"
      ]
    },
    {
      "cell_type": "code",
      "metadata": {
        "id": "BZ-A3v8OziwY"
      },
      "source": [
        "users = [\n",
        "         [15634602, 15647311, 15619304, 15701354],#'CustomerId'\n",
        "         ['Hargrave', 'Hill', 'Onio', 'Boni'],#'Surname'\n",
        "         [ 619, 608, 502, 699], #'CreditScore'\n",
        "         ['Female', 'Female', 'Male', 'Female'], #'Gender'\n",
        "         [ 42, 41, 42, 39], #'Age'\n",
        "         [1, 0, 1, 0] #Exited\n",
        "         ]"
      ],
      "execution_count": null,
      "outputs": []
    },
    {
      "cell_type": "markdown",
      "metadata": {
        "id": "0rjsQq8G9J2v"
      },
      "source": [
        "## 4. Словарь"
      ]
    },
    {
      "cell_type": "markdown",
      "metadata": {
        "id": "vVCdYjHntQJD"
      },
      "source": [
        "### 4.0 Определение словаря"
      ]
    },
    {
      "cell_type": "markdown",
      "metadata": {
        "id": "3heTmd3E9J2w"
      },
      "source": [
        "Список хорош, когда он один. Но зачастую у нас возникает необходимость хранить несколько связанных списков.\n",
        "Например, номера телефонов и имена покупателей. Или название продуктов и их стоимость. В python есть особый тип данных для хранения такой информации в удобной форме - словарь"
      ]
    },
    {
      "cell_type": "markdown",
      "metadata": {
        "id": "7i93VWLn9J2w"
      },
      "source": [
        "Словарь в Python - неупорядоченная ассоциативная изменяемая коллекция произвольных типов\n",
        "\n",
        "Снова разбираем по словам:\n",
        "  1. Неупорядоченная структура означает, что элементы в словаре хранятся в произвольном порядке и не имеют номера\n",
        "  2. В отличие от последовательностей, которые индексируются диапазоном чисел, словари индексируются по ключам, которые могут быть любым **неизменяемым** типом; строки и числа всегда могут быть ключами.\n",
        "  3. Изменяемая - словари можно изменять: добавлять, удалять и заменять элементы и ключи\n",
        "  4. Произвольных типов означает, что в словаре, как и в списке хранятся элементы любой природы: числа, строки, списки, словари и.т.д.\n"
      ]
    },
    {
      "cell_type": "markdown",
      "metadata": {
        "id": "5OlCrQFlKQU8"
      },
      "source": [
        "### 4.1 Создание словаря и получение его элементов"
      ]
    },
    {
      "cell_type": "code",
      "metadata": {
        "id": "f81OTt3RxSia",
        "colab": {
          "base_uri": "https://localhost:8080/"
        },
        "outputId": "95e14991-e2b8-4edc-b9c1-dd9f1ebdde52"
      },
      "source": [
        "my_dict = {}#создание пустого словаря\n",
        "my_dict"
      ],
      "execution_count": null,
      "outputs": [
        {
          "output_type": "execute_result",
          "data": {
            "text/plain": [
              "{}"
            ]
          },
          "metadata": {},
          "execution_count": 67
        }
      ]
    },
    {
      "cell_type": "code",
      "metadata": {
        "id": "s3NhVRZsxUeo",
        "colab": {
          "base_uri": "https://localhost:8080/"
        },
        "outputId": "4438390f-b748-4eb4-c2ff-25c86144ecd0"
      },
      "source": [
        "my_dict = dict() #другой способ создания пустого словаря\n",
        "my_dict"
      ],
      "execution_count": null,
      "outputs": [
        {
          "output_type": "execute_result",
          "data": {
            "text/plain": [
              "{}"
            ]
          },
          "metadata": {},
          "execution_count": 68
        }
      ]
    },
    {
      "cell_type": "markdown",
      "metadata": {
        "id": "58Pmt4QIaHQW"
      },
      "source": [
        "Создадим словарь продуктов и их цен\n"
      ]
    },
    {
      "cell_type": "code",
      "metadata": {
        "id": "4QvNxKUG9J2z",
        "colab": {
          "base_uri": "https://localhost:8080/"
        },
        "outputId": "c607dee4-7b89-44e7-d7d2-f0a85032836f"
      },
      "source": [
        "fruit_dict = {\n",
        "    'Банан': '16 рублей',\n",
        "    'Яблоко': '28 рублей',\n",
        "    'Персик': '37 рублей',\n",
        "    'Манго': '100 рублей',\n",
        "    'Апельсин': '30 рублей'\n",
        "    }\n",
        "fruit_dict"
      ],
      "execution_count": null,
      "outputs": [
        {
          "output_type": "execute_result",
          "data": {
            "text/plain": [
              "{'Апельсин': '30 рублей',\n",
              " 'Банан': '16 рублей',\n",
              " 'Манго': '100 рублей',\n",
              " 'Персик': '37 рублей',\n",
              " 'Яблоко': '28 рублей'}"
            ]
          },
          "metadata": {},
          "execution_count": 69
        }
      ]
    },
    {
      "cell_type": "markdown",
      "metadata": {
        "id": "bzh-kkuA39C0"
      },
      "source": [
        "Создание словарей из двух списков можно осуществить с помощью функции `zip`:\n"
      ]
    },
    {
      "cell_type": "code",
      "source": [
        "fruits = ['Банан', 'Яблоко', 'Персик', 'Манго', 'Апельсин']\n",
        "prices = ['16 рублей','28 рублей','37 рублей','100 рублей','30 рублей']\n",
        "list(zip(fruits, prices))"
      ],
      "metadata": {
        "colab": {
          "base_uri": "https://localhost:8080/"
        },
        "id": "IhGwUhyq7H-z",
        "outputId": "b726e0b3-d867-4008-8295-88b3680deb86"
      },
      "execution_count": null,
      "outputs": [
        {
          "output_type": "execute_result",
          "data": {
            "text/plain": [
              "[('Банан', '16 рублей'),\n",
              " ('Яблоко', '28 рублей'),\n",
              " ('Персик', '37 рублей'),\n",
              " ('Манго', '100 рублей'),\n",
              " ('Апельсин', '30 рублей')]"
            ]
          },
          "metadata": {},
          "execution_count": 70
        }
      ]
    },
    {
      "cell_type": "code",
      "metadata": {
        "colab": {
          "base_uri": "https://localhost:8080/"
        },
        "id": "cHqS2eE74CWT",
        "outputId": "9d1e56bb-ab95-4a0c-8200-1a22a20d4fb3"
      },
      "source": [
        "fruits = ['Банан', 'Яблоко', 'Персик', 'Манго', 'Апельсин']\n",
        "prices = ['16 рублей','28 рублей','37 рублей','100 рублей','30 рублей']\n",
        "fruit_dict = dict(zip(fruits, prices))\n",
        "fruit_dict"
      ],
      "execution_count": null,
      "outputs": [
        {
          "output_type": "execute_result",
          "data": {
            "text/plain": [
              "{'Апельсин': '30 рублей',\n",
              " 'Банан': '16 рублей',\n",
              " 'Манго': '100 рублей',\n",
              " 'Персик': '37 рублей',\n",
              " 'Яблоко': '28 рублей'}"
            ]
          },
          "metadata": {},
          "execution_count": 71
        }
      ]
    },
    {
      "cell_type": "code",
      "metadata": {
        "colab": {
          "base_uri": "https://localhost:8080/"
        },
        "id": "1R1nL7xFK9_F",
        "outputId": "77c2039e-5928-4c4d-f3f0-976e39778614"
      },
      "source": [
        "#Обращаемся к элементу с помощью ключа\n",
        "print(fruit_dict['Банан'])\n",
        "print(fruit_dict['Апельсин'])"
      ],
      "execution_count": null,
      "outputs": [
        {
          "output_type": "stream",
          "name": "stdout",
          "text": [
            "16 рублей\n",
            "30 рублей\n"
          ]
        }
      ]
    },
    {
      "cell_type": "code",
      "metadata": {
        "colab": {
          "base_uri": "https://localhost:8080/",
          "height": 169
        },
        "id": "WadUm5vcLVj9",
        "outputId": "a9ce26c3-a2d2-4511-d1b7-94e0bdf22db4"
      },
      "source": [
        "fruit_dict['Вишня']"
      ],
      "execution_count": null,
      "outputs": [
        {
          "output_type": "error",
          "ename": "KeyError",
          "evalue": "ignored",
          "traceback": [
            "\u001b[0;31m---------------------------------------------------------------------------\u001b[0m",
            "\u001b[0;31mKeyError\u001b[0m                                  Traceback (most recent call last)",
            "\u001b[0;32m<ipython-input-73-fbf2fb41c159>\u001b[0m in \u001b[0;36m<module>\u001b[0;34m()\u001b[0m\n\u001b[0;32m----> 1\u001b[0;31m \u001b[0mfruit_dict\u001b[0m\u001b[0;34m[\u001b[0m\u001b[0;34m'Вишня'\u001b[0m\u001b[0;34m]\u001b[0m\u001b[0;34m\u001b[0m\u001b[0;34m\u001b[0m\u001b[0m\n\u001b[0m",
            "\u001b[0;31mKeyError\u001b[0m: 'Вишня'"
          ]
        }
      ]
    },
    {
      "cell_type": "code",
      "metadata": {
        "id": "FzOkM0EbuvB0",
        "colab": {
          "base_uri": "https://localhost:8080/"
        },
        "outputId": "71339e93-9d60-447c-e9ea-38166712259c"
      },
      "source": [
        "if 'Вишня' not in fruit_dict:\n",
        "    print('Нет в словаре')\n",
        "else:\n",
        "    print(fruit_dict['Банан'])"
      ],
      "execution_count": null,
      "outputs": [
        {
          "output_type": "stream",
          "name": "stdout",
          "text": [
            "Нет в словаре\n"
          ]
        }
      ]
    },
    {
      "cell_type": "markdown",
      "metadata": {
        "id": "A4xWbvXHKzyl"
      },
      "source": [
        "### 4.2 Ключи и значения словаря"
      ]
    },
    {
      "cell_type": "markdown",
      "metadata": {
        "id": "ln6_COB-m_D-"
      },
      "source": [
        "Получить ключи и значения словарей можно с помощью методов: keys(), values() и items()"
      ]
    },
    {
      "cell_type": "code",
      "metadata": {
        "colab": {
          "base_uri": "https://localhost:8080/"
        },
        "id": "N9P3b3uM6JN7",
        "outputId": "8216a79c-88d2-40fd-f4bb-5f980a508332"
      },
      "source": [
        "user_dict = {\n",
        "    'id': 532,\n",
        "    'name': 'Ксения',\n",
        "    'surmame': 'Собчак',\n",
        "    'age': 40,\n",
        "    'gender': 'female',\n",
        "    'mail': 'sobchak@yandex.ru',\n",
        "    'count_orders': 1402\n",
        "}\n",
        "\n",
        "values = list(user_dict.values())\n",
        "values"
      ],
      "execution_count": null,
      "outputs": [
        {
          "output_type": "execute_result",
          "data": {
            "text/plain": [
              "[532, 'Ксения', 'Собчак', 40, 'female', 'sobchak@yandex.ru', 1402]"
            ]
          },
          "metadata": {},
          "execution_count": 77
        }
      ]
    },
    {
      "cell_type": "code",
      "metadata": {
        "scrolled": true,
        "colab": {
          "base_uri": "https://localhost:8080/"
        },
        "id": "m2npiEVEm_D_",
        "outputId": "0adbaae7-0d94-4027-e908-5c1333f66da2"
      },
      "source": [
        "features = list(user_dict.keys())\n",
        "features"
      ],
      "execution_count": null,
      "outputs": [
        {
          "output_type": "execute_result",
          "data": {
            "text/plain": [
              "['id', 'name', 'surmame', 'age', 'gender', 'mail', 'count_orders']"
            ]
          },
          "metadata": {},
          "execution_count": 78
        }
      ]
    },
    {
      "cell_type": "code",
      "metadata": {
        "colab": {
          "base_uri": "https://localhost:8080/"
        },
        "id": "ZCPzLUVxm_D_",
        "outputId": "3deaaf74-e17a-42e4-8897-d6b36decc9e6"
      },
      "source": [
        "features_items = list(user_dict.items())\n",
        "features_items"
      ],
      "execution_count": null,
      "outputs": [
        {
          "output_type": "execute_result",
          "data": {
            "text/plain": [
              "[('id', 532),\n",
              " ('name', 'Ксения'),\n",
              " ('surmame', 'Собчак'),\n",
              " ('age', 40),\n",
              " ('gender', 'female'),\n",
              " ('mail', 'sobchak@yandex.ru'),\n",
              " ('count_orders', 1402)]"
            ]
          },
          "metadata": {},
          "execution_count": 79
        }
      ]
    },
    {
      "cell_type": "markdown",
      "metadata": {
        "id": "AFRIVnWlm_EG"
      },
      "source": [
        "### 4.3 Операции со словарями"
      ]
    },
    {
      "cell_type": "code",
      "metadata": {
        "id": "CcnPNRLM1C_R"
      },
      "source": [
        "employee_base = {\n",
        "    'Мария Никитина': 'менеджер',\n",
        "    'Егор Савичев': 'разработчик',\n",
        "    'Александр Пахомов': 'дизайнер',\n",
        "    'Алина Егорова': 'разработчик',\n",
        "    'Руслан Башаров': 'верстальщик'}"
      ],
      "execution_count": null,
      "outputs": []
    },
    {
      "cell_type": "markdown",
      "metadata": {
        "id": "cX4qNCJq3WLi"
      },
      "source": [
        "Рассмотрим самый базовый синтаксис добавления нового ключа и значения в словарь. Заметьте, что такой же синтаксис работает и на замену существующего значения на новое по ключу"
      ]
    },
    {
      "cell_type": "code",
      "metadata": {
        "colab": {
          "base_uri": "https://localhost:8080/"
        },
        "id": "zozYMjIkm_EG",
        "outputId": "ee193c69-1d22-4cc6-c270-d22f826c9fb3"
      },
      "source": [
        "employee_base['Егор Зимин'] = 'разработчик' #добавление в словарь\n",
        "employee_base['Мария Никитина'] = 'старший менеджер' #замена значения по ключу\n",
        "employee_base"
      ],
      "execution_count": null,
      "outputs": [
        {
          "output_type": "execute_result",
          "data": {
            "text/plain": [
              "{'Александр Пахомов': 'дизайнер',\n",
              " 'Алина Егорова': 'разработчик',\n",
              " 'Егор Зимин': 'разработчик',\n",
              " 'Егор Савичев': 'разработчик',\n",
              " 'Мария Никитина': 'старший менеджер',\n",
              " 'Руслан Башаров': 'верстальщик'}"
            ]
          },
          "metadata": {},
          "execution_count": 81
        }
      ]
    },
    {
      "cell_type": "markdown",
      "metadata": {
        "id": "vg12puK54hqN"
      },
      "source": [
        "**Задача:**\n",
        "\n",
        "Напишите код, который бы увеличил число заказов в словаре user_dict на 10, а также заменил почту на ksobchak@mail.ru"
      ]
    },
    {
      "cell_type": "code",
      "metadata": {
        "id": "avD0Votf4tQG",
        "colab": {
          "base_uri": "https://localhost:8080/"
        },
        "outputId": "f268604e-a586-4982-dfb1-cd0598bb8e3d"
      },
      "source": [
        "user_dict = {\n",
        "    'id': 532,\n",
        "    'name': 'Ксения',\n",
        "    'surmame': 'Собчак',\n",
        "    'age': 39,\n",
        "    'gender': 'female',\n",
        "    'mail': 'sobchak@yandex.ru',\n",
        "    'count_orders': 1402\n",
        "}\n",
        "#user_dict['count_orders'] = user_dict['count_orders'] + 10\n",
        "user_dict['count_orders'] += 10\n",
        "user_dict['mail'] = 'ksobchak@mail.ru'\n",
        "user_dict"
      ],
      "execution_count": null,
      "outputs": [
        {
          "output_type": "execute_result",
          "data": {
            "text/plain": [
              "{'age': 39,\n",
              " 'count_orders': 1412,\n",
              " 'gender': 'female',\n",
              " 'id': 532,\n",
              " 'mail': 'ksobchak@mail.ru',\n",
              " 'name': 'Ксения',\n",
              " 'surmame': 'Собчак'}"
            ]
          },
          "metadata": {},
          "execution_count": 84
        }
      ]
    },
    {
      "cell_type": "markdown",
      "metadata": {
        "id": "HTXBHvCK3Vfs"
      },
      "source": [
        "Получить данные из словаря можно с помощью метода `get()`. Он позволяет установить значение по умолчанию, если элемент не был найдет"
      ]
    },
    {
      "cell_type": "code",
      "metadata": {
        "colab": {
          "base_uri": "https://localhost:8080/"
        },
        "id": "ycm5JBvchpbk",
        "outputId": "ef954a2b-1486-4fda-f43d-06fcda454cf4"
      },
      "source": [
        "employee_base"
      ],
      "execution_count": null,
      "outputs": [
        {
          "output_type": "execute_result",
          "data": {
            "text/plain": [
              "{'Александр Пахомов': 'дизайнер',\n",
              " 'Алина Егорова': 'разработчик',\n",
              " 'Егор Зимин': 'разработчик',\n",
              " 'Егор Савичев': 'разработчик',\n",
              " 'Мария Никитина': 'старший менеджер',\n",
              " 'Руслан Башаров': 'верстальщик'}"
            ]
          },
          "metadata": {},
          "execution_count": 85
        }
      ]
    },
    {
      "cell_type": "code",
      "source": [
        "employee_base[\"Мария Лобанова\"]"
      ],
      "metadata": {
        "colab": {
          "base_uri": "https://localhost:8080/",
          "height": 169
        },
        "id": "meQZXoxfgG9g",
        "outputId": "416070e3-30d4-4d85-d968-a1f50ca31685"
      },
      "execution_count": null,
      "outputs": [
        {
          "output_type": "error",
          "ename": "KeyError",
          "evalue": "ignored",
          "traceback": [
            "\u001b[0;31m---------------------------------------------------------------------------\u001b[0m",
            "\u001b[0;31mKeyError\u001b[0m                                  Traceback (most recent call last)",
            "\u001b[0;32m<ipython-input-86-4590ccdedeac>\u001b[0m in \u001b[0;36m<module>\u001b[0;34m()\u001b[0m\n\u001b[0;32m----> 1\u001b[0;31m \u001b[0memployee_base\u001b[0m\u001b[0;34m[\u001b[0m\u001b[0;34m\"Мария Лобанова\"\u001b[0m\u001b[0;34m]\u001b[0m\u001b[0;34m\u001b[0m\u001b[0;34m\u001b[0m\u001b[0m\n\u001b[0m",
            "\u001b[0;31mKeyError\u001b[0m: 'Мария Лобанова'"
          ]
        }
      ]
    },
    {
      "cell_type": "code",
      "metadata": {
        "colab": {
          "base_uri": "https://localhost:8080/",
          "height": 36
        },
        "id": "kIa4YuGY3U6k",
        "outputId": "d4b42179-c666-4675-da6d-8e8b6888484e"
      },
      "source": [
        "employee_base.get(\"Мария Лобанова\", \"Такого сотрудника не было найдено\")"
      ],
      "execution_count": null,
      "outputs": [
        {
          "output_type": "execute_result",
          "data": {
            "application/vnd.google.colaboratory.intrinsic+json": {
              "type": "string"
            },
            "text/plain": [
              "'Такого сотрудника не было найдено'"
            ]
          },
          "metadata": {},
          "execution_count": 87
        }
      ]
    },
    {
      "cell_type": "code",
      "metadata": {
        "id": "Lf5XOkya3tJN",
        "colab": {
          "base_uri": "https://localhost:8080/"
        },
        "outputId": "3e9a9229-33c6-4519-d756-ede756b427aa"
      },
      "source": [
        "error = employee_base.get(\"Митрофан Смирнов\", -1)\n",
        "error == -1"
      ],
      "execution_count": null,
      "outputs": [
        {
          "output_type": "execute_result",
          "data": {
            "text/plain": [
              "True"
            ]
          },
          "metadata": {},
          "execution_count": 89
        }
      ]
    },
    {
      "cell_type": "markdown",
      "metadata": {
        "id": "arXb9fAJ5LXk"
      },
      "source": [
        "Часто бывает ситуация, что словарь необходимо дополнить. Тогда вам поможет метод `update()`"
      ]
    },
    {
      "cell_type": "code",
      "metadata": {
        "colab": {
          "base_uri": "https://localhost:8080/"
        },
        "id": "4WZfF4PN5W5l",
        "outputId": "4c2eb35f-5096-4784-9d57-4ffcd89d5962"
      },
      "source": [
        "employee_base = {\n",
        "    'Мария Никитина': 'менеджер',\n",
        "    'Егор Савичев': 'разработчик',\n",
        "    'Александр Пахомов': 'дизайнер',\n",
        "    'Алина Егорова': 'разработчик',\n",
        "    'Руслан Башаров': 'верстальщик'}\n",
        "new_base = {\n",
        "    'Роман Родимов': 'HR менеджер',\n",
        "    'Ксения Колесниченко': 'data scientist',\n",
        "    'Андрей Рысистов': 'уборщик'\n",
        "}\n",
        "employee_base.update(new_base)\n",
        "employee_base"
      ],
      "execution_count": null,
      "outputs": [
        {
          "output_type": "execute_result",
          "data": {
            "text/plain": [
              "{'Александр Пахомов': 'дизайнер',\n",
              " 'Алина Егорова': 'разработчик',\n",
              " 'Андрей Рысистов': 'уборщик',\n",
              " 'Егор Савичев': 'разработчик',\n",
              " 'Ксения Колесниченко': 'data scientist',\n",
              " 'Мария Никитина': 'менеджер',\n",
              " 'Роман Родимов': 'HR менеджер',\n",
              " 'Руслан Башаров': 'верстальщик'}"
            ]
          },
          "metadata": {},
          "execution_count": 90
        }
      ]
    },
    {
      "cell_type": "code",
      "metadata": {
        "colab": {
          "base_uri": "https://localhost:8080/"
        },
        "id": "poeg8CY37oC_",
        "outputId": "a35dc3eb-87d8-4a2f-9087-d9dcc74ee8fa"
      },
      "source": [
        "employee_base.update({'Андрей Рысистов': 'data scientist'})\n",
        "employee_base"
      ],
      "execution_count": null,
      "outputs": [
        {
          "output_type": "execute_result",
          "data": {
            "text/plain": [
              "{'Александр Пахомов': 'дизайнер',\n",
              " 'Алина Егорова': 'разработчик',\n",
              " 'Андрей Рысистов': 'data scientist',\n",
              " 'Егор Савичев': 'разработчик',\n",
              " 'Ксения Колесниченко': 'data scientist',\n",
              " 'Мария Никитина': 'менеджер',\n",
              " 'Роман Родимов': 'HR менеджер',\n",
              " 'Руслан Башаров': 'верстальщик'}"
            ]
          },
          "metadata": {},
          "execution_count": 91
        }
      ]
    },
    {
      "cell_type": "markdown",
      "metadata": {
        "id": "JxX0xm5m3ySd"
      },
      "source": [
        "Задача:\n",
        "\n",
        "Добавьте в наш словарь `user_dict` логин и пароль от личного кабинета, а также обновите имя и фамилию с помощью метода update"
      ]
    },
    {
      "cell_type": "code",
      "metadata": {
        "id": "niii38bM6sRR",
        "colab": {
          "base_uri": "https://localhost:8080/"
        },
        "outputId": "96d843a0-3ed9-4c4f-cf65-aeabb38e4351"
      },
      "source": [
        "user_dict = {\n",
        "    'id': 532,\n",
        "    'name': 'Ксения',\n",
        "    'surname': 'Собчак',\n",
        "    'age': 39,\n",
        "    'gender': 'female',\n",
        "    'mail': 'sobchak@yandex.ru',\n",
        "    'count_orders': 1402\n",
        "}\n",
        "\n",
        "new_name = 'Виктория'\n",
        "new_surname = 'Боня'\n",
        "login = '5GisEVIL'\n",
        "password = 'BillGatesEVIL'\n",
        "user_dict.update({\n",
        "     'name': new_name,\n",
        "     'surname': new_surname,\n",
        "     'login': login,\n",
        "     'password': password\n",
        "     }\n",
        "     )\n",
        "user_dict"
      ],
      "execution_count": null,
      "outputs": [
        {
          "output_type": "execute_result",
          "data": {
            "text/plain": [
              "{'age': 39,\n",
              " 'count_orders': 1402,\n",
              " 'gender': 'female',\n",
              " 'id': 532,\n",
              " 'login': '5GisEVIL',\n",
              " 'mail': 'sobchak@yandex.ru',\n",
              " 'name': 'Виктория',\n",
              " 'password': 'BillGatesEVIL',\n",
              " 'surname': 'Боня'}"
            ]
          },
          "metadata": {},
          "execution_count": 93
        }
      ]
    },
    {
      "cell_type": "markdown",
      "metadata": {
        "id": "fu5fjjlx7WSt"
      },
      "source": [
        "Удаление по ключу из словаря осуществляется с помощью метода `pop()`"
      ]
    },
    {
      "cell_type": "code",
      "metadata": {
        "colab": {
          "base_uri": "https://localhost:8080/",
          "height": 36
        },
        "id": "Uh8-FAlPm_EH",
        "outputId": "ae0d806e-19a3-49f3-934c-96d64ae87070"
      },
      "source": [
        "deleted = employee_base.pop('Егор Савичев')\n",
        "deleted"
      ],
      "execution_count": null,
      "outputs": [
        {
          "output_type": "execute_result",
          "data": {
            "application/vnd.google.colaboratory.intrinsic+json": {
              "type": "string"
            },
            "text/plain": [
              "'разработчик'"
            ]
          },
          "metadata": {},
          "execution_count": 94
        }
      ]
    },
    {
      "cell_type": "markdown",
      "metadata": {
        "id": "q3noJPlixzWG"
      },
      "source": [
        "**Вопрос**: как вы думаете, имеет ли словарь метод sort()?"
      ]
    },
    {
      "cell_type": "code",
      "source": [
        "keys = list(employee_base.keys())\n",
        "keys.sort()\n",
        "keys"
      ],
      "metadata": {
        "id": "7BZE-lJq-K64",
        "colab": {
          "base_uri": "https://localhost:8080/"
        },
        "outputId": "a221a4b6-b410-4b9f-845f-3e86951da838"
      },
      "execution_count": null,
      "outputs": [
        {
          "output_type": "execute_result",
          "data": {
            "text/plain": [
              "['Александр Пахомов',\n",
              " 'Алина Егорова',\n",
              " 'Андрей Рысистов',\n",
              " 'Ксения Колесниченко',\n",
              " 'Мария Никитина',\n",
              " 'Роман Родимов',\n",
              " 'Руслан Башаров']"
            ]
          },
          "metadata": {},
          "execution_count": 100
        }
      ]
    },
    {
      "cell_type": "markdown",
      "metadata": {
        "id": "_u11hK86Mbfm"
      },
      "source": [
        "Помимо перечисленных методов словари так же обладают большим количеством других возможностей. Их основной список можно найти по ссылочке: https://pythonworld.ru/tipy-dannyx-v-python/slovari-dict-funkcii-i-metody-slovarej.html"
      ]
    },
    {
      "cell_type": "markdown",
      "metadata": {
        "id": "a6lyRtrA9J4L"
      },
      "source": [
        "### 4.5 Вложенные словари"
      ]
    },
    {
      "cell_type": "markdown",
      "metadata": {
        "id": "B-s_uvIhm_EI"
      },
      "source": [
        "Как вы уже поняли, сложные вещи в этом мире тяжело описать простыми структурами, поэтому ровно так же как существуют вложенные списки, существуют и вложенные словари.\n",
        "\n",
        "Рассмотрим такую структуру на примере конфигурации сервера"
      ]
    },
    {
      "cell_type": "code",
      "metadata": {
        "id": "pVZJFVYQ9J4N"
      },
      "source": [
        "# Часто встречается при работе с конфигурационными файлами, JSON схемами и не только\n",
        "config = {\n",
        "    \"server\": {\n",
        "        \"host\": \"127.0.0.1\",\n",
        "        \"port\": \"22\"\n",
        "    },\n",
        "    \"configuration\": {\n",
        "        \"ssh\": {\n",
        "            \"access\": True,\n",
        "            \"login\": \"some\",\n",
        "            \"password\": \"some\"\n",
        "        },\n",
        "        \"name\": \"2491Oaaf1414\"\n",
        "    }\n",
        "}"
      ],
      "execution_count": null,
      "outputs": []
    },
    {
      "cell_type": "code",
      "metadata": {
        "colab": {
          "base_uri": "https://localhost:8080/",
          "height": 36
        },
        "id": "8CNbTJeu5nBP",
        "outputId": "c0603575-2117-4ee4-9ae6-8a991b0dafed"
      },
      "source": [
        "config['server']['host']"
      ],
      "execution_count": null,
      "outputs": [
        {
          "output_type": "execute_result",
          "data": {
            "application/vnd.google.colaboratory.intrinsic+json": {
              "type": "string"
            },
            "text/plain": [
              "'127.0.0.1'"
            ]
          },
          "metadata": {},
          "execution_count": 105
        }
      ]
    },
    {
      "cell_type": "code",
      "metadata": {
        "colab": {
          "base_uri": "https://localhost:8080/",
          "height": 36
        },
        "id": "ES7hBC0yUbgc",
        "outputId": "cc5633b2-34a3-4d80-afba-3bd8b6abc908"
      },
      "source": [
        "config['configuration']['ssh']['password']"
      ],
      "execution_count": null,
      "outputs": [
        {
          "output_type": "execute_result",
          "data": {
            "application/vnd.google.colaboratory.intrinsic+json": {
              "type": "string"
            },
            "text/plain": [
              "'some'"
            ]
          },
          "metadata": {},
          "execution_count": 109
        }
      ]
    },
    {
      "cell_type": "markdown",
      "metadata": {
        "id": "TrHhcAyINeV-"
      },
      "source": [
        "Задача: напишите код для получения логина от ssh соединения"
      ]
    },
    {
      "cell_type": "markdown",
      "metadata": {
        "id": "PmLJw37_m_EJ"
      },
      "source": [
        "А теперь совместим две изученные нами структуры"
      ]
    },
    {
      "cell_type": "markdown",
      "metadata": {
        "id": "khxMKXlX9J4k"
      },
      "source": [
        "### 4.6 Практический кейс на словари\n",
        "\n"
      ]
    },
    {
      "cell_type": "markdown",
      "metadata": {
        "id": "b7IWLi3RNpn0"
      },
      "source": [
        "Пусть у нас есть некоторая информация о пабликах в сети ВКонтакте. Необходимо организовать код для получения ссылок на аватарки данных пабликов. Все ссылки необходимо оформить во вложенный список"
      ]
    },
    {
      "cell_type": "code",
      "metadata": {
        "id": "RJs1qB4S9J4l"
      },
      "source": [
        "response = {'response': [{'id': 42565717,\n",
        "   'name': 'Python',\n",
        "   'screen_name': 'club42565717',\n",
        "   'is_closed': 0,\n",
        "   'type': 'group',\n",
        "   'members_count': 37319,\n",
        "   'activity': 'Открытая группа',\n",
        "   'photo_50': 'https://sun9-127.userapi.com/c845524/v845524906/1a71c2/A2r_4JtmiLQ.jpg?ava=1',\n",
        "   'photo_100': 'https://sun9-58.userapi.com/c845524/v845524906/1a71c1/2fBtsS0k8XY.jpg?ava=1',\n",
        "   'photo_200': 'https://sun9-50.userapi.com/c845524/v845524906/1a71c0/Kfo-eQIn0DU.jpg?ava=1'},\n",
        "\n",
        "  {'id': 3183750,\n",
        "   'name': 'Веб программист - PHP, JS, Python, Java, HTML 5',\n",
        "   'screen_name': 'php2all',\n",
        "   'is_closed': 0,\n",
        "   'type': 'page',\n",
        "   'members_count': 117833,\n",
        "   'activity': 'Программирование',\n",
        "   'photo_50': 'https://sun9-54.userapi.com/c626421/v626421613/941/HSj4ylRsk8k.jpg?ava=1',\n",
        "   'photo_100': 'https://sun9-5.userapi.com/c626421/v626421613/940/yKaZLxGShkY.jpg?ava=1',\n",
        "   'photo_200': 'https://sun9-49.userapi.com/c626421/v626421613/93f/2EygT_FJKWg.jpg?ava=1'}]}"
      ],
      "execution_count": null,
      "outputs": []
    },
    {
      "cell_type": "code",
      "metadata": {
        "id": "UxFTCVQ6xYrF"
      },
      "source": [
        "[[photo_50, photo_100, photo_200], [photo_50, photo_100, photo_200]]"
      ],
      "execution_count": null,
      "outputs": []
    },
    {
      "cell_type": "markdown",
      "metadata": {
        "id": "dKYHVLLnEbVR"
      },
      "source": [
        "## 5. Спасибо за внимание! Буду рад ответить на ваши вопросы\n",
        "\n",
        "Форма ОС:\n",
        "https://forms.gle/NGgQTrGzxw7zkD1z6\n",
        "\n"
      ]
    }
  ]
}