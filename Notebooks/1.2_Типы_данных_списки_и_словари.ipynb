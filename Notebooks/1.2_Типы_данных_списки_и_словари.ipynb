{
  "cells": [
    {
      "cell_type": "markdown",
      "metadata": {
        "id": "-dRFXe9i4HYL"
      },
      "source": [
        "# Погружение в типы (структуры) данных"
      ]
    },
    {
      "cell_type": "markdown",
      "metadata": {
        "id": "yf2ztrfuC54H"
      },
      "source": [
        "Спикер: Альмир Шавалиев\n",
        "\n",
        "Telegram: @salmirr"
      ]
    },
    {
      "cell_type": "markdown",
      "metadata": {
        "id": "cCxQbcdB5B2r"
      },
      "source": [
        "## 1. План занятия"
      ]
    },
    {
      "cell_type": "markdown",
      "metadata": {
        "id": "-qZUoumK4EBL"
      },
      "source": [
        "План занятия\n",
        "1. Поговорим о том, что вообще такое структуры данных и зачем они нам нужны\n",
        "2. Разберем структуру данных - список, его возможности и задачи, которые можно решить с помощью него\n",
        "3. Разберем структуру данных - словарь, его возможности и задачи, которые можно решить с помощью него\n",
        "4. Поговорим о том, как работать с комбинациями из этих структур"
      ]
    },
    {
      "cell_type": "markdown",
      "metadata": {
        "id": "VobEJHx_5cnZ"
      },
      "source": [
        "## 2. Структуры данных"
      ]
    },
    {
      "cell_type": "markdown",
      "metadata": {
        "id": "FqWF-l4q5ijJ"
      },
      "source": [
        "\n",
        "Структуры данных - это общий термин для различных методов хранения информации.\n",
        "\n",
        "Как только мы начинаем выходить за рамки написания простейших программ у нас возниает потребность в хранении коллекций или наборов данных. Для этого в языке Python предусмотрены 2 очень мощных по своим возможностям типа данных: списки и словари."
      ]
    },
    {
      "cell_type": "markdown",
      "metadata": {
        "id": "xyeCEHEC5wla"
      },
      "source": [
        "## 3. Список"
      ]
    },
    {
      "cell_type": "markdown",
      "metadata": {
        "id": "KJ8ryfXZQAnF"
      },
      "source": [
        "### 3.0 Определение списка"
      ]
    },
    {
      "cell_type": "markdown",
      "metadata": {
        "id": "xj0Dxvpk9JxW"
      },
      "source": [
        "\n",
        "\n",
        "\n",
        "\n",
        "\n",
        "\n",
        "\n",
        "\n",
        "\n",
        "\n",
        "**Список** в Python — это упорядоченная изменяемая коллекция объектов произвольных типов.\n",
        "\n",
        "\n",
        "\n",
        "\n",
        "В этом определении важна каждое слово. Мы будем к нему возвращаться по мере иллюстрации возможностей и свойств списков.\n",
        "\n",
        "\n",
        "\n",
        "* Когда мы называем список коллекцией, мы имеем в виду, что в одном списке может храниться множество объектов (например, чисел или строковых величин)\n",
        "\n",
        "\n",
        "* Говоря о том, что списки представляют собой упорядоченные коллекции, мы обращаем внимание на то, что каждый элемент в списке имеет свой порядковый номер.\n",
        "\n",
        "\n",
        "* Упоминание об изменяемости списков означает, что в процессе исполнения кода можно изменять состав элементов списка и последовательность их расположения.\n",
        "\n",
        "\n",
        "* Выражение «произвольных типов» означает, что в списке могут храниться данные, относящиеся к любым типам из тех, с которыми работает Python. *То есть это могут быть также другие списки и словари*\n",
        "\n",
        "\n",
        "\n"
      ]
    },
    {
      "cell_type": "markdown",
      "metadata": {
        "id": "pMa7bemd9JxZ"
      },
      "source": [
        "### 3.1 Создание списков"
      ]
    },
    {
      "cell_type": "code",
      "execution_count": 1,
      "metadata": {
        "colab": {
          "base_uri": "https://localhost:8080/"
        },
        "id": "SrhOwmXrm_Df",
        "outputId": "b04e0d1f-a2a9-49c5-cba2-0d363df1b79b"
      },
      "outputs": [
        {
          "data": {
            "text/plain": [
              "[]"
            ]
          },
          "execution_count": 1,
          "metadata": {},
          "output_type": "execute_result"
        }
      ],
      "source": [
        "my_list = list() #первый способ создания пустого списка\n",
        "my_list"
      ]
    },
    {
      "cell_type": "code",
      "execution_count": 2,
      "metadata": {
        "colab": {
          "base_uri": "https://localhost:8080/"
        },
        "id": "ZCWXOwT5m_Dh",
        "outputId": "826a83eb-9dd9-4679-8931-82b1e2332f90"
      },
      "outputs": [
        {
          "data": {
            "text/plain": [
              "[]"
            ]
          },
          "execution_count": 2,
          "metadata": {},
          "output_type": "execute_result"
        }
      ],
      "source": [
        "my_list1 = [] #второй способ создания пустого списка\n",
        "my_list1"
      ]
    },
    {
      "cell_type": "code",
      "execution_count": 3,
      "metadata": {
        "colab": {
          "base_uri": "https://localhost:8080/"
        },
        "id": "_qajMTeL9Jxd",
        "outputId": "ee7cb481-c179-4076-d06a-e829e469403b"
      },
      "outputs": [
        {
          "data": {
            "text/plain": [
              "['лебедь', 1, 3]"
            ]
          },
          "execution_count": 3,
          "metadata": {},
          "output_type": "execute_result"
        }
      ],
      "source": [
        "spisok = ['лебедь', 1,3] # в списке хранится 3 объекта\n",
        "spisok"
      ]
    },
    {
      "cell_type": "code",
      "execution_count": 5,
      "metadata": {
        "colab": {
          "base_uri": "https://localhost:8080/"
        },
        "id": "W2MWA877chhi",
        "outputId": "b5615f2b-8223-4a5a-a581-5a6969cc10d6"
      },
      "outputs": [
        {
          "data": {
            "text/plain": [
              "['Java', 'C', 'Python', 'C++', 'Visual Basic.NET']"
            ]
          },
          "execution_count": 5,
          "metadata": {},
          "output_type": "execute_result"
        }
      ],
      "source": [
        "languages = ['Java', 'C', 'Python', 'C++', 'Visual Basic.NET']\n",
        "languages"
      ]
    },
    {
      "cell_type": "code",
      "execution_count": 6,
      "metadata": {
        "colab": {
          "base_uri": "https://localhost:8080/"
        },
        "id": "oSfyyUNRnMWB",
        "outputId": "aa10a83b-f1d5-49f8-a362-2a561707810b"
      },
      "outputs": [
        {
          "data": {
            "text/plain": [
              "list"
            ]
          },
          "execution_count": 6,
          "metadata": {},
          "output_type": "execute_result"
        }
      ],
      "source": [
        "type(languages)"
      ]
    },
    {
      "cell_type": "code",
      "execution_count": 7,
      "metadata": {
        "colab": {
          "base_uri": "https://localhost:8080/"
        },
        "id": "Wq2WH2wPtwXs",
        "outputId": "249b4ac4-77ce-4235-f800-d833a5585b90"
      },
      "outputs": [
        {
          "data": {
            "text/plain": [
              "range"
            ]
          },
          "execution_count": 7,
          "metadata": {},
          "output_type": "execute_result"
        }
      ],
      "source": [
        "type(range(1, 20))"
      ]
    },
    {
      "cell_type": "code",
      "execution_count": 8,
      "metadata": {
        "colab": {
          "base_uri": "https://localhost:8080/"
        },
        "id": "vvnrAlurdHWM",
        "outputId": "91c50468-7eaf-4aaf-d9da-a6af37567ab5"
      },
      "outputs": [
        {
          "data": {
            "text/plain": [
              "[1, 2, 3, 4, 5, 6, 7, 8, 9, 10, 11, 12, 13, 14, 15, 16, 17, 18, 19]"
            ]
          },
          "execution_count": 8,
          "metadata": {},
          "output_type": "execute_result"
        }
      ],
      "source": [
        "range_list = list(range(1, 20))\n",
        "range_list"
      ]
    },
    {
      "cell_type": "markdown",
      "metadata": {
        "id": "0KQmC3aD8WnA"
      },
      "source": [
        "### 3.2 Список - последовательность"
      ]
    },
    {
      "cell_type": "markdown",
      "metadata": {
        "id": "NVxSG55f9JyH"
      },
      "source": [
        "Списки, кортежи и строки являются примерами последовательностей. Но что такое последовательности и что в них такого особенного?\n",
        "\n",
        "Основные возможности – это проверка принадлежности (т.е. выражения **“in”** и **“not in”**) и оператор индексирования, позволяющий получить напрямую некоторый элемент последовательности."
      ]
    },
    {
      "cell_type": "markdown",
      "metadata": {
        "id": "3pJFFRtim_Dl"
      },
      "source": [
        "**Индексация в Python начинается с 0**"
      ]
    },
    {
      "cell_type": "code",
      "execution_count": 20,
      "metadata": {
        "id": "7M32XtV5Sfki"
      },
      "outputs": [],
      "source": [
        "spisok = ['лебедь', 'рак', 'щука']"
      ]
    },
    {
      "cell_type": "code",
      "execution_count": 21,
      "metadata": {
        "colab": {
          "base_uri": "https://localhost:8080/"
        },
        "id": "65B5KaCM-x15",
        "outputId": "938f2575-f093-4b83-957c-76e17be05bfc"
      },
      "outputs": [
        {
          "name": "stdout",
          "output_type": "stream",
          "text": [
            "щука\n"
          ]
        }
      ],
      "source": [
        "print(spisok[2]) # так мы обратились к третьему элементу списка"
      ]
    },
    {
      "cell_type": "code",
      "execution_count": 22,
      "metadata": {
        "colab": {
          "base_uri": "https://localhost:8080/"
        },
        "id": "3-Y1VghU_L6P",
        "outputId": "68512b0d-8e4a-47fb-d794-220a2a07357c",
        "scrolled": true
      },
      "outputs": [
        {
          "name": "stdout",
          "output_type": "stream",
          "text": [
            "['лебедь', 'форель', 'щука']\n"
          ]
        }
      ],
      "source": [
        "spisok[1] = 'форель' # 3аменили второй элемент списка.\n",
        "print(spisok) # В отличие от строк нам не нужно перезаписывать весь объект, мы можем поменять часть списка"
      ]
    },
    {
      "cell_type": "code",
      "execution_count": 23,
      "metadata": {
        "colab": {
          "base_uri": "https://localhost:8080/"
        },
        "id": "JOEQg9cim_Dn",
        "outputId": "6c925973-c12a-449f-ff7d-297d42c250f7",
        "scrolled": true
      },
      "outputs": [
        {
          "data": {
            "text/plain": [
              "3"
            ]
          },
          "execution_count": 23,
          "metadata": {},
          "output_type": "execute_result"
        }
      ],
      "source": [
        "len(spisok) #получение длины списка"
      ]
    },
    {
      "cell_type": "code",
      "execution_count": 24,
      "metadata": {},
      "outputs": [
        {
          "data": {
            "text/plain": [
              "False"
            ]
          },
          "execution_count": 24,
          "metadata": {},
          "output_type": "execute_result"
        }
      ],
      "source": [
        "'рак' in spisok"
      ]
    },
    {
      "cell_type": "code",
      "execution_count": 25,
      "metadata": {
        "colab": {
          "base_uri": "https://localhost:8080/"
        },
        "id": "FJdgtO-Agk6A",
        "outputId": "ca0c256a-d950-4132-c0ba-fd2629d9dc58"
      },
      "outputs": [
        {
          "data": {
            "text/plain": [
              "True"
            ]
          },
          "execution_count": 25,
          "metadata": {},
          "output_type": "execute_result"
        }
      ],
      "source": [
        "'щ' in 'щука'"
      ]
    },
    {
      "cell_type": "code",
      "execution_count": 26,
      "metadata": {
        "colab": {
          "base_uri": "https://localhost:8080/"
        },
        "id": "DJNwO1hdh41t",
        "outputId": "1c8ecb47-6673-4eb8-dc4a-0aaeeb4608ca"
      },
      "outputs": [
        {
          "data": {
            "text/plain": [
              "['лебедь', 'форель', 'щука']"
            ]
          },
          "execution_count": 26,
          "metadata": {},
          "output_type": "execute_result"
        }
      ],
      "source": [
        "spisok"
      ]
    },
    {
      "cell_type": "code",
      "execution_count": 27,
      "metadata": {
        "colab": {
          "base_uri": "https://localhost:8080/"
        },
        "id": "2S2_vH1Y_QrW",
        "outputId": "74df0f63-58c3-4f2d-bb28-9887b243fefb"
      },
      "outputs": [
        {
          "name": "stdout",
          "output_type": "stream",
          "text": [
            "Варим уху\n"
          ]
        }
      ],
      "source": [
        "if 'щука' in spisok: #проверка на принадлежность строки списку\n",
        "  print('Варим уху')\n",
        "else:\n",
        "  print('Сегодня без ухи')"
      ]
    },
    {
      "cell_type": "markdown",
      "metadata": {
        "id": "dIVtL8uhALXi"
      },
      "source": [
        "### 3.3 Срезы"
      ]
    },
    {
      "cell_type": "markdown",
      "metadata": {
        "id": "2dsRlZjpwz0T"
      },
      "source": [
        "Также последовательности предоставляют операцию получения вырезки, которая позволяет получить вырезку последовательности, т.е. её фрагмент."
      ]
    },
    {
      "cell_type": "markdown",
      "metadata": {
        "id": "tqX5mRZ__j7t"
      },
      "source": [
        "list[START:STOP:STEP] - берёт срез от номера START, до STOP **не включая его**, с шагом STEP. По умолчанию START = 0, STOP = длине объекта, STEP = 1. Соответственно, какие-нибудь (а возможно, и все) параметры могут быть опущены."
      ]
    },
    {
      "cell_type": "markdown",
      "metadata": {
        "id": "OX04Y_oP5xiu"
      },
      "source": [
        "\n",
        "\n",
        "\n",
        "\n",
        "Срезы позволяют выбрать часть списка, а не один отдельный элемент.\n",
        "\n"
      ]
    },
    {
      "cell_type": "code",
      "execution_count": 28,
      "metadata": {
        "colab": {
          "base_uri": "https://localhost:8080/"
        },
        "id": "l-hgeS7QAOwf",
        "outputId": "89fe76f2-466a-41bb-ed48-1bf88529d708"
      },
      "outputs": [
        {
          "name": "stdout",
          "output_type": "stream",
          "text": [
            "['а', 'е', 'ё']\n",
            "['у', 'ы', 'э', 'ю', 'я']\n",
            "['о', 'ы', 'ю']\n",
            "['а', 'е', 'ё', 'и', 'о', 'у', 'ы', 'э', 'ю', 'я']\n"
          ]
        }
      ],
      "source": [
        "vowels = ['а', 'е', 'ё', 'и', 'о', 'у', 'ы', 'э', 'ю', 'я']\n",
        "print(vowels[:3])\n",
        "print(vowels[5:])\n",
        "print(vowels[4::2])\n",
        "print(vowels[:10000])"
      ]
    },
    {
      "cell_type": "markdown",
      "metadata": {
        "id": "AtYuPWwSc5kW"
      },
      "source": [
        "**Задача**:\n",
        "\n",
        "Выберите с помощью индексов элементы **о** & **у**"
      ]
    },
    {
      "cell_type": "code",
      "execution_count": 29,
      "metadata": {
        "colab": {
          "base_uri": "https://localhost:8080/"
        },
        "id": "eJWEpGqfVGKD",
        "outputId": "58319b15-778f-40d7-e12f-f701f1d9eff1"
      },
      "outputs": [
        {
          "data": {
            "text/plain": [
              "['о', 'у']"
            ]
          },
          "execution_count": 29,
          "metadata": {},
          "output_type": "execute_result"
        }
      ],
      "source": [
        "vowels[4:6]"
      ]
    },
    {
      "cell_type": "code",
      "execution_count": 30,
      "metadata": {
        "colab": {
          "base_uri": "https://localhost:8080/",
          "height": 36
        },
        "id": "yXmr-CCkX8Zv",
        "outputId": "682b90a5-62a3-4a3b-860e-2c6223c8e948"
      },
      "outputs": [
        {
          "data": {
            "text/plain": [
              "'у'"
            ]
          },
          "execution_count": 30,
          "metadata": {},
          "output_type": "execute_result"
        }
      ],
      "source": [
        "vowels[5]"
      ]
    },
    {
      "cell_type": "markdown",
      "metadata": {
        "id": "DRqstxGC6cCo"
      },
      "source": [
        "Отрицательные индексы"
      ]
    },
    {
      "cell_type": "code",
      "execution_count": 31,
      "metadata": {
        "colab": {
          "base_uri": "https://localhost:8080/"
        },
        "id": "VFShM5Jc6aUS",
        "outputId": "4eb2a1d3-fff7-4391-9f7a-34afc790e3fd"
      },
      "outputs": [
        {
          "data": {
            "text/plain": [
              "['я', 'ю', 'э', 'ы', 'у', 'о', 'и', 'ё', 'е', 'а']"
            ]
          },
          "execution_count": 31,
          "metadata": {},
          "output_type": "execute_result"
        }
      ],
      "source": [
        "vowels[:: -1]"
      ]
    },
    {
      "cell_type": "code",
      "execution_count": 32,
      "metadata": {
        "colab": {
          "base_uri": "https://localhost:8080/",
          "height": 35
        },
        "id": "gDOrKTq6V855",
        "outputId": "354772bd-0979-4216-a0e5-1d3dd403bbeb"
      },
      "outputs": [
        {
          "data": {
            "text/plain": [
              "'у'"
            ]
          },
          "execution_count": 32,
          "metadata": {},
          "output_type": "execute_result"
        }
      ],
      "source": [
        "vowels[-5]"
      ]
    },
    {
      "cell_type": "code",
      "execution_count": 36,
      "metadata": {},
      "outputs": [
        {
          "data": {
            "text/plain": [
              "['у', 'ы', 'э', 'ю']"
            ]
          },
          "execution_count": 36,
          "metadata": {},
          "output_type": "execute_result"
        }
      ],
      "source": [
        "vowels[-5:-1]"
      ]
    },
    {
      "cell_type": "markdown",
      "metadata": {
        "id": "qRY4uYxidct8"
      },
      "source": [
        "**Задача**\n",
        "\n",
        "Создайте список из чисел от -1 до 25. Затем сделайте срез, чтобы в ответе был следующий список: [-1, 1, 3, 5, 7].\n"
      ]
    },
    {
      "cell_type": "code",
      "execution_count": 37,
      "metadata": {
        "colab": {
          "base_uri": "https://localhost:8080/"
        },
        "id": "aVRIVP0OVNY7",
        "outputId": "632c916e-9e0a-4558-c174-aca41bae0cd7"
      },
      "outputs": [
        {
          "name": "stdout",
          "output_type": "stream",
          "text": [
            "[-1, 1, 3, 5, 7]\n"
          ]
        }
      ],
      "source": [
        "temp_list = list(range(-1,26))\n",
        "print(temp_list[:9:2])"
      ]
    },
    {
      "cell_type": "code",
      "execution_count": 38,
      "metadata": {
        "colab": {
          "base_uri": "https://localhost:8080/"
        },
        "id": "JC5jsu1COz7z",
        "outputId": "42f42b30-eeb1-42ab-b96e-76d5f1e11260"
      },
      "outputs": [
        {
          "name": "stdout",
          "output_type": "stream",
          "text": [
            "[-1, 1, 3, 5, 7]\n"
          ]
        }
      ],
      "source": [
        "answer = temp_list[:10:2]\n",
        "print(answer)"
      ]
    },
    {
      "cell_type": "markdown",
      "metadata": {
        "id": "ycQx9qa0m_Dt"
      },
      "source": [
        "### 3.4 Операции со списками"
      ]
    },
    {
      "cell_type": "markdown",
      "metadata": {
        "id": "6CWvdLH-C54G"
      },
      "source": [
        "В список можно добавлять элементы\n",
        "\n",
        "Давайте вернем щуку в наш список, но не заменим ей форель, а как бы добавим скраю.\n",
        "\n",
        "Для этой операции у нас есть метод `append()`. Он добавляет элемент справа (что делает эту операцию достаточно быстрой, в отличие от добавления элемента, например, с левого края)"
      ]
    },
    {
      "cell_type": "code",
      "execution_count": 39,
      "metadata": {
        "colab": {
          "base_uri": "https://localhost:8080/"
        },
        "id": "V5Y2aVgeDQ5q",
        "outputId": "e4370804-3c06-4872-96db-86092310c777"
      },
      "outputs": [
        {
          "name": "stdout",
          "output_type": "stream",
          "text": [
            "['лебедь', 'рак', 'форель', 'щука']\n"
          ]
        }
      ],
      "source": [
        "spisok = ['лебедь', 'рак', 'форель']\n",
        "spisok.append('щука')\n",
        "print(spisok)"
      ]
    },
    {
      "cell_type": "markdown",
      "metadata": {
        "id": "lDptiYpUdyUm"
      },
      "source": [
        "**Задача:**\n",
        "\n",
        "Даны 3 переменные, содержащие в себе информацию о заказах, составьте пустой список orders и добавьте в него все заказы"
      ]
    },
    {
      "cell_type": "code",
      "execution_count": 40,
      "metadata": {
        "colab": {
          "base_uri": "https://localhost:8080/"
        },
        "id": "NA1S0O03d6qU",
        "outputId": "20bb04a9-c216-425c-eeb0-23bc779ca4be"
      },
      "outputs": [
        {
          "name": "stdout",
          "output_type": "stream",
          "text": [
            "['Заказ: рыба, молоко, яйца', 'Заказ: молоко, хлебцы, буженина', 'Заказ: батон, вода']\n"
          ]
        }
      ],
      "source": [
        "order1 = 'Заказ: рыба, молоко, яйца'\n",
        "order2 = 'Заказ: молоко, хлебцы, буженина'\n",
        "order3 = 'Заказ: батон, вода'\n",
        "orders = []\n",
        "orders.append(order1)\n",
        "orders.append(order2)\n",
        "orders.append(order3)\n",
        "print(orders)"
      ]
    },
    {
      "cell_type": "markdown",
      "metadata": {
        "id": "F1hYiVKtejY8"
      },
      "source": [
        "Список можно расширять значениями из другого списка. Для этого используется метод `extend()`:"
      ]
    },
    {
      "cell_type": "code",
      "execution_count": 43,
      "metadata": {
        "colab": {
          "base_uri": "https://localhost:8080/"
        },
        "id": "cPgQKz0qfEYZ",
        "outputId": "b68e176e-582d-4449-cd12-1e25d754c968"
      },
      "outputs": [
        {
          "name": "stdout",
          "output_type": "stream",
          "text": [
            "['Красноярский край', 'Саратовская область', 'Якутия', 'Новая территория', 'Калининградская область']\n"
          ]
        }
      ],
      "source": [
        "a = [\"Красноярский край\", \"Саратовская область\", \"Якутия\"]\n",
        "b = [\"Новая территория\", \"Калининградская область\"]\n",
        "a.extend(b)\n",
        "print(a)"
      ]
    },
    {
      "cell_type": "code",
      "execution_count": 44,
      "metadata": {
        "colab": {
          "base_uri": "https://localhost:8080/"
        },
        "id": "BIexMQ2J8kFe",
        "outputId": "2b853794-94bc-4e39-badc-47ed12b5e3d1"
      },
      "outputs": [
        {
          "name": "stdout",
          "output_type": "stream",
          "text": [
            "['Красноярский край', 'Саратовская область', 'Якутия', 'Новая территория', 'Калининградская область', ['Новая территория', 'Калининградская область']]\n"
          ]
        }
      ],
      "source": [
        "a.append(b)\n",
        "print(a)"
      ]
    },
    {
      "cell_type": "markdown",
      "metadata": {
        "id": "u14YzxPmfOx-"
      },
      "source": [
        "**Задача:**\n",
        "\n",
        "Вам даны наблюдения температуры воздуха за определенный период. К вам приходят новые наблюдения. Объедините данные в единый список\n"
      ]
    },
    {
      "cell_type": "code",
      "execution_count": null,
      "metadata": {
        "colab": {
          "base_uri": "https://localhost:8080/"
        },
        "id": "90EIzSGefbzo",
        "outputId": "a27c3eb5-06bd-4920-846f-d8aa12ba0d7c"
      },
      "outputs": [
        {
          "data": {
            "text/plain": [
              "[23.3, 24.1, 26.4, 24.2, 20.3, 19.8, 15.3, 18.4, 10.4, 8.1, 5.0]"
            ]
          },
          "execution_count": 32,
          "metadata": {},
          "output_type": "execute_result"
        }
      ],
      "source": [
        "temp_old = [23.3, 24.1, 26.4, 24.2, 20.3]\n",
        "temp_new = [19.8, 15.3, 18.4, 10.4, 8.1, 5.0]\n",
        "temp_old.extend(temp_new)\n",
        "temp_old"
      ]
    },
    {
      "cell_type": "markdown",
      "metadata": {
        "id": "g6AHeIyCDprC"
      },
      "source": [
        "Итак, мы разобрались с добавлением элементов и его расширением, теперь давайте узнаем как удалять элементы списка\n",
        "\n",
        "Для этого у нас есть метод `revome()`, который принимает в качестве аргумента элемент, который мы хотим удалить\n",
        "\n"
      ]
    },
    {
      "cell_type": "code",
      "execution_count": null,
      "metadata": {
        "colab": {
          "base_uri": "https://localhost:8080/"
        },
        "id": "UlxR4jtGAUYp",
        "outputId": "fbeb2b26-a4e5-45e9-9d96-1b1628402837"
      },
      "outputs": [
        {
          "name": "stdout",
          "output_type": "stream",
          "text": [
            "['рак', 'форель', 'лебедь']\n"
          ]
        }
      ],
      "source": [
        "spisok = ['лебедь', 'рак', 'форель', 'лебедь']\n",
        "spisok.remove('лебедь')\n",
        "print(spisok)"
      ]
    },
    {
      "cell_type": "markdown",
      "metadata": {
        "id": "i9BQ1d5hvwTE"
      },
      "source": [
        "Для удаления элементов по индексу используется метод `pop()`:"
      ]
    },
    {
      "cell_type": "code",
      "execution_count": 56,
      "metadata": {
        "colab": {
          "base_uri": "https://localhost:8080/"
        },
        "id": "UPUuf00Yv4Ku",
        "outputId": "5f345225-0767-4d00-869b-ba7847ae0109"
      },
      "outputs": [
        {
          "name": "stdout",
          "output_type": "stream",
          "text": [
            "['Java', 'C', 'C++', 'Visual Basic.NET']\n"
          ]
        }
      ],
      "source": [
        "languages = ['Java', 'C', 'Python', 'C++', 'Visual Basic.NET']\n",
        "languages.pop(2)\n",
        "print(languages)"
      ]
    },
    {
      "cell_type": "code",
      "execution_count": 58,
      "metadata": {
        "colab": {
          "base_uri": "https://localhost:8080/",
          "height": 36
        },
        "id": "MyvBUPGq5h4t",
        "outputId": "70803093-0fca-45a3-b71d-13a5d29eb239"
      },
      "outputs": [
        {
          "data": {
            "text/plain": [
              "'C++'"
            ]
          },
          "execution_count": 58,
          "metadata": {},
          "output_type": "execute_result"
        }
      ],
      "source": [
        "languages[2]"
      ]
    },
    {
      "cell_type": "markdown",
      "metadata": {
        "id": "fZkSN2BZAwNx"
      },
      "source": [
        "Отсортируем наш список с помощью метода `sort()`. Параметр reverse обозначает сортировку по убыванию (в порядке, обратному алфавитному)"
      ]
    },
    {
      "cell_type": "code",
      "execution_count": 60,
      "metadata": {
        "colab": {
          "base_uri": "https://localhost:8080/"
        },
        "id": "Dnm5LOkTAvcm",
        "outputId": "21ebddd6-0429-4976-b7dd-db43bb233e5c"
      },
      "outputs": [
        {
          "name": "stdout",
          "output_type": "stream",
          "text": [
            "['Visual Basic.NET', 'Java', 'C++', 'C']\n"
          ]
        }
      ],
      "source": [
        "print(languages)\n",
        "languages.sort(reverse=False)"
      ]
    },
    {
      "cell_type": "code",
      "execution_count": 61,
      "metadata": {
        "colab": {
          "base_uri": "https://localhost:8080/"
        },
        "id": "DbcPp1KTZ2r4",
        "outputId": "16513e61-db65-4c69-95e7-85a81d98b21f"
      },
      "outputs": [
        {
          "data": {
            "text/plain": [
              "['Visual Basic.NET', 'Java', 'C++', 'C']"
            ]
          },
          "execution_count": 61,
          "metadata": {},
          "output_type": "execute_result"
        }
      ],
      "source": [
        "languages.reverse()\n",
        "languages"
      ]
    },
    {
      "cell_type": "code",
      "execution_count": 62,
      "metadata": {
        "colab": {
          "base_uri": "https://localhost:8080/"
        },
        "id": "bBPY97EKr3zP",
        "outputId": "7e30a186-cc0b-4c79-c334-cb8bd2b740c6"
      },
      "outputs": [
        {
          "name": "stdout",
          "output_type": "stream",
          "text": [
            "['Visual Basic.NET', 'Java', 'C++', 'C']\n",
            "['C', 'C++', 'Java', 'Visual Basic.NET']\n",
            "['Visual Basic.NET', 'Java', 'C++', 'C']\n"
          ]
        }
      ],
      "source": [
        "print(languages)\n",
        "print(languages[::-1])\n",
        "print(languages)"
      ]
    },
    {
      "cell_type": "code",
      "execution_count": 63,
      "metadata": {
        "colab": {
          "base_uri": "https://localhost:8080/"
        },
        "id": "ZQtLY6v3Z1a4",
        "outputId": "07ac9f14-dbe9-43fb-a443-7d01d55e11c3"
      },
      "outputs": [
        {
          "data": {
            "text/plain": [
              "['Visual Basic.NET', 'C++', 'Python', 'C', 'Java']"
            ]
          },
          "execution_count": 63,
          "metadata": {},
          "output_type": "execute_result"
        }
      ],
      "source": [
        "languages = ['Java', 'C', 'Python', 'C++', 'Visual Basic.NET']\n",
        "new_languages = languages[::-1]\n",
        "new_languages"
      ]
    },
    {
      "cell_type": "code",
      "execution_count": 64,
      "metadata": {
        "colab": {
          "base_uri": "https://localhost:8080/"
        },
        "id": "icdciZ5JZ7AY",
        "outputId": "1be7709d-1330-4a50-f5bc-5f82e1c0c31b"
      },
      "outputs": [
        {
          "data": {
            "text/plain": [
              "['Java', 'C', 'Python', 'C++', 'Visual Basic.NET']"
            ]
          },
          "execution_count": 64,
          "metadata": {},
          "output_type": "execute_result"
        }
      ],
      "source": [
        "languages"
      ]
    },
    {
      "cell_type": "markdown",
      "metadata": {
        "id": "USe_Gb0MBGgA"
      },
      "source": [
        "Помимо перечисленных выше методов у списка есть еще огромный арсенал возможностей. Подробнее со всеми ними вы можете познакомиться по ссылочке:https://pythonworld.ru/tipy-dannyx-v-python/spiski-list-funkcii-i-metody-spiskov.html"
      ]
    },
    {
      "cell_type": "markdown",
      "metadata": {
        "id": "I-bhnWGgH8vv"
      },
      "source": [
        "Рассмотрим еще несколько фишечек со списками:"
      ]
    },
    {
      "cell_type": "code",
      "execution_count": null,
      "metadata": {
        "colab": {
          "base_uri": "https://localhost:8080/"
        },
        "id": "7tnpBV0KICsH",
        "outputId": "59729d43-492a-44b2-f0a4-78850168cc29"
      },
      "outputs": [
        {
          "data": {
            "text/plain": [
              "[5, '1', '124', 'hello', 14, 141, 5]"
            ]
          },
          "execution_count": 48,
          "metadata": {},
          "output_type": "execute_result"
        }
      ],
      "source": [
        "a = [5, '1', '124', 'hello'] + [14, 141, 5] #конкатенация списков\n",
        "a"
      ]
    },
    {
      "cell_type": "code",
      "execution_count": null,
      "metadata": {
        "colab": {
          "base_uri": "https://localhost:8080/"
        },
        "id": "Bqf50LykILyi",
        "outputId": "1fd50a9e-1cc4-4c03-85d5-07dda753c2c5"
      },
      "outputs": [
        {
          "data": {
            "text/plain": [
              "[14, 141, 14, 141]"
            ]
          },
          "execution_count": 50,
          "metadata": {},
          "output_type": "execute_result"
        }
      ],
      "source": [
        "[14, 141] * 2 #умножение списка"
      ]
    },
    {
      "cell_type": "markdown",
      "metadata": {
        "id": "LPAcIQGJwTF7"
      },
      "source": [
        "Агрегирующие функции/методы для списков\n"
      ]
    },
    {
      "cell_type": "code",
      "execution_count": null,
      "metadata": {
        "colab": {
          "base_uri": "https://localhost:8080/"
        },
        "id": "Q_OG3w4kwXFW",
        "outputId": "536ba05e-1a6d-4534-8e18-07ba76410fd4"
      },
      "outputs": [
        {
          "data": {
            "text/plain": [
              "77.0"
            ]
          },
          "execution_count": 51,
          "metadata": {},
          "output_type": "execute_result"
        }
      ],
      "source": [
        "temp_new = [19.8, 15.3, 18.4, 10.4, 8.1, 5.0]\n",
        "sum(temp_new)"
      ]
    },
    {
      "cell_type": "code",
      "execution_count": null,
      "metadata": {
        "colab": {
          "base_uri": "https://localhost:8080/"
        },
        "id": "_VUnE59qweOr",
        "outputId": "08e7b253-c766-4787-b657-75204e8c8d05"
      },
      "outputs": [
        {
          "data": {
            "text/plain": [
              "12.833333333333334"
            ]
          },
          "execution_count": 52,
          "metadata": {},
          "output_type": "execute_result"
        }
      ],
      "source": [
        "temp_new = [19.8, 15.3, 18.4, 10.4, 8.1, 5.0]\n",
        "sum(temp_new)/len(temp_new)"
      ]
    },
    {
      "cell_type": "code",
      "execution_count": null,
      "metadata": {
        "colab": {
          "base_uri": "https://localhost:8080/"
        },
        "id": "9O9k1Q15whZh",
        "outputId": "4e6cbdf9-e310-4dbc-b34d-dff071e9afe2"
      },
      "outputs": [
        {
          "data": {
            "text/plain": [
              "19.8"
            ]
          },
          "execution_count": 53,
          "metadata": {},
          "output_type": "execute_result"
        }
      ],
      "source": [
        "temp_new = [19.8, 15.3, 18.4, 10.4, 8.1, 5.0]\n",
        "max(temp_new)"
      ]
    },
    {
      "cell_type": "code",
      "execution_count": null,
      "metadata": {
        "colab": {
          "base_uri": "https://localhost:8080/"
        },
        "id": "_BpDWpMLwkzW",
        "outputId": "db452261-5abf-4692-aabb-bf48d8f14062"
      },
      "outputs": [
        {
          "data": {
            "text/plain": [
              "5.0"
            ]
          },
          "execution_count": 54,
          "metadata": {},
          "output_type": "execute_result"
        }
      ],
      "source": [
        "temp_new = [19.8, 15.3, 18.4, 10.4, 8.1, 5.0]\n",
        "min(temp_new)"
      ]
    },
    {
      "cell_type": "code",
      "execution_count": null,
      "metadata": {
        "colab": {
          "base_uri": "https://localhost:8080/"
        },
        "id": "GaGdf4jzw0kf",
        "outputId": "459704ba-ec5a-4fa6-b95c-907ed1ef4568"
      },
      "outputs": [
        {
          "data": {
            "text/plain": [
              "50.0"
            ]
          },
          "execution_count": 55,
          "metadata": {},
          "output_type": "execute_result"
        }
      ],
      "source": [
        "sex_feature = ['men', 'women', 'women',\n",
        "              'men', 'women', 'women',\n",
        "              'men', 'women', 'men', 'men']\n",
        "sex_feature.count('women')/len(sex_feature)*100"
      ]
    },
    {
      "cell_type": "markdown",
      "metadata": {
        "id": "9ajno0rag7Rl"
      },
      "source": [
        "### 3.6. Вложенные списки\n",
        "\n"
      ]
    },
    {
      "cell_type": "markdown",
      "metadata": {
        "id": "JBAn5C3XDALj"
      },
      "source": [
        "Элементом списка может быть любой объект в питоне, в том числе и другой список. Порой встречаются такие структуры как списки в списках, или \"вложенный список\"."
      ]
    },
    {
      "cell_type": "code",
      "execution_count": null,
      "metadata": {
        "colab": {
          "base_uri": "https://localhost:8080/"
        },
        "id": "r4HgZuJ6hNpY",
        "outputId": "f153d3c2-26f8-49eb-9902-a1108f98f3cc",
        "scrolled": true
      },
      "outputs": [
        {
          "data": {
            "text/plain": [
              "1"
            ]
          },
          "execution_count": 63,
          "metadata": {},
          "output_type": "execute_result"
        }
      ],
      "source": [
        "array_of_arrays = [\n",
        "                   [1, 2, 3],\n",
        "                   [4, 5, 3],\n",
        "                   [7, 2, 5]\n",
        "                   ]\n",
        "# у нас есть список array_of_arrays, который состоит из трех элементов\n",
        "# мы можем получить каждый из этих трех элементов с помощью индекса\n",
        "array_of_arrays[0][0]"
      ]
    },
    {
      "cell_type": "markdown",
      "metadata": {
        "id": "wDzymhD6Lp_A"
      },
      "source": [
        "Задача:\n",
        "Cоздайте матрицу 3х3 у которой на диагонали будут стоять значение корня из 2"
      ]
    },
    {
      "cell_type": "code",
      "execution_count": 66,
      "metadata": {
        "colab": {
          "base_uri": "https://localhost:8080/"
        },
        "id": "KqQuXDZNXs4Y",
        "outputId": "beb61de7-1a30-4b05-e575-34474cec8993"
      },
      "outputs": [
        {
          "name": "stdout",
          "output_type": "stream",
          "text": [
            "[[0, 0, 0], [0, 0, 0], [0, 0, 0]]\n"
          ]
        },
        {
          "data": {
            "text/plain": [
              "[[1.4142135623730951, 0, 0],\n",
              " [0, 1.4142135623730951, 0],\n",
              " [0, 0, 1.4142135623730951]]"
            ]
          },
          "execution_count": 66,
          "metadata": {},
          "output_type": "execute_result"
        }
      ],
      "source": [
        "array = [\n",
        "         [0]*3,\n",
        "         [0]*3,\n",
        "         [0]*3\n",
        "         ]\n",
        "print(array)\n",
        "array[0][0] = 2**0.5\n",
        "array[1][1] = 2**0.5\n",
        "array[2][2] = 2**0.5\n",
        "array"
      ]
    },
    {
      "cell_type": "code",
      "execution_count": 67,
      "metadata": {
        "colab": {
          "base_uri": "https://localhost:8080/"
        },
        "id": "GL_xrehk-LJe",
        "outputId": "7670ed8b-6a19-4ee0-c24a-3a0e0f1afa9d"
      },
      "outputs": [
        {
          "name": "stdout",
          "output_type": "stream",
          "text": [
            "[1.4142135623730951, 0, 0]\n",
            "[0, 1.4142135623730951, 0]\n",
            "[0, 0, 1.4142135623730951]\n"
          ]
        }
      ],
      "source": [
        "for a in array:\n",
        "  print(a)"
      ]
    },
    {
      "cell_type": "markdown",
      "metadata": {
        "id": "y9QyIRiXFhXr"
      },
      "source": [
        "### 3.7 Практический кейс на списки"
      ]
    },
    {
      "cell_type": "markdown",
      "metadata": {
        "id": "eXeS9brNyO08"
      },
      "source": [
        "В вашем распоряжении есть некоторая информация о пользователях банка и их статусе: ушли ли они от нас или нет. Необходимо организовать программу, которая:\n",
        "  * Расчитает среднее по признаку кредитного рейтинга для ушедших клиентов\n",
        "  * Средний возраст всех клиентов\n",
        "  * Долю ушедших клиентов\n",
        "  * Выведет идентификаторы клиентов, которые ушли от банка"
      ]
    },
    {
      "cell_type": "code",
      "execution_count": null,
      "metadata": {
        "id": "BZ-A3v8OziwY"
      },
      "outputs": [],
      "source": [
        "users = [\n",
        "         [15634602, 15647311, 15619304, 15701354],#'CustomerId'\n",
        "         ['Hargrave', 'Hill', 'Onio', 'Boni'],#'Surname'\n",
        "         [ 619, 608, 502, 699], #'CreditScore'\n",
        "         ['Female', 'Female', 'Male', 'Female'], #'Gender'\n",
        "         [ 42, 41, 42, 39], #'Age'\n",
        "         [1, 0, 1, 0] #Exited\n",
        "         ]"
      ]
    },
    {
      "cell_type": "markdown",
      "metadata": {
        "id": "0rjsQq8G9J2v"
      },
      "source": [
        "## 4. Словарь"
      ]
    },
    {
      "cell_type": "markdown",
      "metadata": {
        "id": "vVCdYjHntQJD"
      },
      "source": [
        "### 4.0 Определение словаря"
      ]
    },
    {
      "cell_type": "markdown",
      "metadata": {
        "id": "3heTmd3E9J2w"
      },
      "source": [
        "Список хорош, когда он один. Но зачастую у нас возникает необходимость хранить несколько связанных списков.\n",
        "Например, номера телефонов и имена покупателей. Или название продуктов и их стоимость. В python есть особый тип данных для хранения такой информации в удобной форме - словарь"
      ]
    },
    {
      "cell_type": "markdown",
      "metadata": {
        "id": "7i93VWLn9J2w"
      },
      "source": [
        "Словарь в Python - неупорядоченная ассоциативная изменяемая коллекция произвольных типов\n",
        "\n",
        "Снова разбираем по словам:\n",
        "  1. Неупорядоченная структура означает, что элементы в словаре хранятся в произвольном порядке и не имеют номера\n",
        "  2. В отличие от последовательностей, которые индексируются диапазоном чисел, словари индексируются по ключам, которые могут быть любым **неизменяемым** типом; строки и числа всегда могут быть ключами.\n",
        "  3. Изменяемая - словари можно изменять: добавлять, удалять и заменять элементы и ключи\n",
        "  4. Произвольных типов означает, что в словаре, как и в списке хранятся элементы любой природы: числа, строки, списки, словари и.т.д.\n"
      ]
    },
    {
      "cell_type": "markdown",
      "metadata": {
        "id": "5OlCrQFlKQU8"
      },
      "source": [
        "### 4.1 Создание словаря и получение его элементов"
      ]
    },
    {
      "cell_type": "code",
      "execution_count": 68,
      "metadata": {
        "colab": {
          "base_uri": "https://localhost:8080/"
        },
        "id": "f81OTt3RxSia",
        "outputId": "ab8d7211-3ead-44db-8000-bd706fe55528"
      },
      "outputs": [
        {
          "data": {
            "text/plain": [
              "{}"
            ]
          },
          "execution_count": 68,
          "metadata": {},
          "output_type": "execute_result"
        }
      ],
      "source": [
        "my_dict = {}#создание пустого словаря\n",
        "my_dict"
      ]
    },
    {
      "cell_type": "code",
      "execution_count": 69,
      "metadata": {
        "colab": {
          "base_uri": "https://localhost:8080/"
        },
        "id": "s3NhVRZsxUeo",
        "outputId": "b84e7293-2dfc-4bb1-fcab-ead72faf1743"
      },
      "outputs": [
        {
          "data": {
            "text/plain": [
              "{}"
            ]
          },
          "execution_count": 69,
          "metadata": {},
          "output_type": "execute_result"
        }
      ],
      "source": [
        "my_dict = dict() #другой способ создания пустого словаря\n",
        "my_dict"
      ]
    },
    {
      "cell_type": "markdown",
      "metadata": {
        "id": "58Pmt4QIaHQW"
      },
      "source": [
        "Создадим словарь продуктов и их цен\n"
      ]
    },
    {
      "cell_type": "code",
      "execution_count": 70,
      "metadata": {
        "colab": {
          "base_uri": "https://localhost:8080/"
        },
        "id": "4QvNxKUG9J2z",
        "outputId": "44d028ec-26b0-4e35-f952-a18f5e06cf51"
      },
      "outputs": [
        {
          "data": {
            "text/plain": [
              "{'Банан': '16 рублей',\n",
              " 'Яблоко': '28 рублей',\n",
              " 'Персик': '37 рублей',\n",
              " 'Манго': '100 рублей',\n",
              " 'Апельсин': '30 рублей'}"
            ]
          },
          "execution_count": 70,
          "metadata": {},
          "output_type": "execute_result"
        }
      ],
      "source": [
        "fruit_dict = {\n",
        "    'Банан': '16 рублей',\n",
        "    'Яблоко': '28 рублей',\n",
        "    'Персик': '37 рублей',\n",
        "    'Манго': '100 рублей',\n",
        "    'Апельсин': '30 рублей'\n",
        "    }\n",
        "fruit_dict"
      ]
    },
    {
      "cell_type": "code",
      "execution_count": 71,
      "metadata": {
        "colab": {
          "base_uri": "https://localhost:8080/",
          "height": 36
        },
        "id": "Ss534B1mvq_4",
        "outputId": "cc94af5d-96ff-40e9-9068-3253dc42dca6"
      },
      "outputs": [
        {
          "data": {
            "text/plain": [
              "'16 рублей'"
            ]
          },
          "execution_count": 71,
          "metadata": {},
          "output_type": "execute_result"
        }
      ],
      "source": [
        "fruit_dict['Банан']"
      ]
    },
    {
      "cell_type": "markdown",
      "metadata": {
        "id": "bzh-kkuA39C0"
      },
      "source": [
        "Создание словарей из двух списков можно осуществить с помощью функции `zip`:\n"
      ]
    },
    {
      "cell_type": "code",
      "execution_count": null,
      "metadata": {
        "colab": {
          "base_uri": "https://localhost:8080/"
        },
        "id": "IhGwUhyq7H-z",
        "outputId": "aa653021-74a0-4f46-cc48-0be0e6affee6"
      },
      "outputs": [
        {
          "data": {
            "text/plain": [
              "[('Банан', '16 рублей'),\n",
              " ('Яблоко', '28 рублей'),\n",
              " ('Персик', '37 рублей'),\n",
              " ('Манго', '100 рублей'),\n",
              " ('Апельсин', '60 рублей')]"
            ]
          },
          "execution_count": 74,
          "metadata": {},
          "output_type": "execute_result"
        }
      ],
      "source": [
        "fruits = ['Банан', 'Яблоко', 'Персик', 'Манго', 'Апельсин']\n",
        "prices = ['16 рублей','28 рублей','37 рублей','100 рублей', '60 рублей']\n",
        "list(zip(fruits, prices))"
      ]
    },
    {
      "cell_type": "code",
      "execution_count": 75,
      "metadata": {
        "colab": {
          "base_uri": "https://localhost:8080/"
        },
        "id": "cHqS2eE74CWT",
        "outputId": "e6a36a30-c80c-41ee-f1f3-139c8a38669f"
      },
      "outputs": [
        {
          "data": {
            "text/plain": [
              "{'Банан': '16 рублей',\n",
              " 'Яблоко': '28 рублей',\n",
              " 'Персик': '37 рублей',\n",
              " 'Манго': '100 рублей',\n",
              " 'Апельсин': '60 рублей'}"
            ]
          },
          "execution_count": 75,
          "metadata": {},
          "output_type": "execute_result"
        }
      ],
      "source": [
        "fruits = ['Банан', 'Яблоко', 'Персик', 'Манго', 'Апельсин']\n",
        "prices = ['16 рублей','28 рублей','37 рублей','100 рублей', '60 рублей']\n",
        "fruit_dict = dict(zip(fruits, prices))\n",
        "fruit_dict"
      ]
    },
    {
      "cell_type": "code",
      "execution_count": 76,
      "metadata": {
        "colab": {
          "base_uri": "https://localhost:8080/"
        },
        "id": "1R1nL7xFK9_F",
        "outputId": "9fb850d6-e89a-4b67-dcf7-0e431fd55746"
      },
      "outputs": [
        {
          "name": "stdout",
          "output_type": "stream",
          "text": [
            "16 рублей\n",
            "60 рублей\n"
          ]
        }
      ],
      "source": [
        "#Обращаемся к элементу с помощью ключа\n",
        "print(fruit_dict['Банан'])\n",
        "print(fruit_dict['Апельсин'])"
      ]
    },
    {
      "cell_type": "code",
      "execution_count": 72,
      "metadata": {
        "colab": {
          "base_uri": "https://localhost:8080/",
          "height": 169
        },
        "id": "WadUm5vcLVj9",
        "outputId": "ffb0f3f4-a818-4cfc-ed27-e87fccbf98d7"
      },
      "outputs": [
        {
          "ename": "KeyError",
          "evalue": "'Вишня'",
          "output_type": "error",
          "traceback": [
            "\u001b[1;31m---------------------------------------------------------------------------\u001b[0m",
            "\u001b[1;31mKeyError\u001b[0m                                  Traceback (most recent call last)",
            "\u001b[1;32mc:\\Users\\igork\\OneDrive\\Документы\\GitHub\\DST-Webinars\\Notebooks\\Типы_данных_списки_и_словари_ipynb.ipynb Cell 98\u001b[0m line \u001b[0;36m1\n\u001b[1;32m----> <a href='vscode-notebook-cell:/c%3A/Users/igork/OneDrive/%D0%94%D0%BE%D0%BA%D1%83%D0%BC%D0%B5%D0%BD%D1%82%D1%8B/GitHub/DST-Webinars/Notebooks/%D0%A2%D0%B8%D0%BF%D1%8B_%D0%B4%D0%B0%D0%BD%D0%BD%D1%8B%D1%85_%D1%81%D0%BF%D0%B8%D1%81%D0%BA%D0%B8_%D0%B8_%D1%81%D0%BB%D0%BE%D0%B2%D0%B0%D1%80%D0%B8_ipynb.ipynb#Y166sZmlsZQ%3D%3D?line=0'>1</a>\u001b[0m fruit_dict[\u001b[39m'\u001b[39;49m\u001b[39mВишня\u001b[39;49m\u001b[39m'\u001b[39;49m]\n",
            "\u001b[1;31mKeyError\u001b[0m: 'Вишня'"
          ]
        }
      ],
      "source": [
        "fruit_dict['Вишня']"
      ]
    },
    {
      "cell_type": "code",
      "execution_count": 77,
      "metadata": {
        "colab": {
          "base_uri": "https://localhost:8080/"
        },
        "id": "FzOkM0EbuvB0",
        "outputId": "d0e6511c-5aa4-4797-97a3-0bade14a2e47"
      },
      "outputs": [
        {
          "name": "stdout",
          "output_type": "stream",
          "text": [
            "Нет в словаре\n"
          ]
        }
      ],
      "source": [
        "if 'Вишня' not in fruit_dict:\n",
        "    print('Нет в словаре')\n",
        "else:\n",
        "    print(fruit_dict['Вишня'])"
      ]
    },
    {
      "cell_type": "code",
      "execution_count": 78,
      "metadata": {},
      "outputs": [
        {
          "name": "stdout",
          "output_type": "stream",
          "text": [
            "Нет в словаре\n"
          ]
        }
      ],
      "source": [
        "if 'Вишня' in fruit_dict:\n",
        "    print(fruit_dict['Вишня'])\n",
        "else:\n",
        "    print('Нет в словаре')"
      ]
    },
    {
      "cell_type": "markdown",
      "metadata": {
        "id": "A4xWbvXHKzyl"
      },
      "source": [
        "### 4.2 Ключи и значения словаря"
      ]
    },
    {
      "cell_type": "markdown",
      "metadata": {
        "id": "ln6_COB-m_D-"
      },
      "source": [
        "Получить ключи и значения словарей можно с помощью методов: keys(), values() и items()"
      ]
    },
    {
      "cell_type": "code",
      "execution_count": 79,
      "metadata": {
        "colab": {
          "base_uri": "https://localhost:8080/"
        },
        "id": "N9P3b3uM6JN7",
        "outputId": "7f86a9e6-9adb-47d6-b5e4-7d823f39ba45"
      },
      "outputs": [
        {
          "data": {
            "text/plain": [
              "[532, 'Ксения', 'Собчак', 40, 'female', 'sobchak@yandex.ru', 1402]"
            ]
          },
          "execution_count": 79,
          "metadata": {},
          "output_type": "execute_result"
        }
      ],
      "source": [
        "user_dict = {\n",
        "    'id': 532,\n",
        "    'name': 'Ксения',\n",
        "    'surmame': 'Собчак',\n",
        "    'age': 40,\n",
        "    'gender': 'female',\n",
        "    'mail': 'sobchak@yandex.ru',\n",
        "    'count_orders': 1402\n",
        "}\n",
        "\n",
        "values = list(user_dict.values())\n",
        "values"
      ]
    },
    {
      "cell_type": "code",
      "execution_count": null,
      "metadata": {
        "colab": {
          "base_uri": "https://localhost:8080/"
        },
        "id": "m2npiEVEm_D_",
        "outputId": "1251106d-a54b-47e3-e13f-e480cd86c85c",
        "scrolled": true
      },
      "outputs": [
        {
          "data": {
            "text/plain": [
              "['id', 'name', 'surmame', 'age', 'gender', 'mail', 'count_orders']"
            ]
          },
          "execution_count": 80,
          "metadata": {},
          "output_type": "execute_result"
        }
      ],
      "source": [
        "features = list(user_dict.keys())\n",
        "features"
      ]
    },
    {
      "cell_type": "code",
      "execution_count": null,
      "metadata": {
        "colab": {
          "base_uri": "https://localhost:8080/"
        },
        "id": "ZCPzLUVxm_D_",
        "outputId": "3e7d59e7-c525-4726-dcd1-00640d0c2a8e"
      },
      "outputs": [
        {
          "data": {
            "text/plain": [
              "[('id', 532),\n",
              " ('name', 'Ксения'),\n",
              " ('surmame', 'Собчак'),\n",
              " ('age', 40),\n",
              " ('gender', 'female'),\n",
              " ('mail', 'sobchak@yandex.ru'),\n",
              " ('count_orders', 1402)]"
            ]
          },
          "execution_count": 81,
          "metadata": {},
          "output_type": "execute_result"
        }
      ],
      "source": [
        "features_items = list(user_dict.items())\n",
        "features_items"
      ]
    },
    {
      "cell_type": "markdown",
      "metadata": {
        "id": "AFRIVnWlm_EG"
      },
      "source": [
        "### 4.3 Операции со словарями"
      ]
    },
    {
      "cell_type": "code",
      "execution_count": 80,
      "metadata": {
        "id": "CcnPNRLM1C_R"
      },
      "outputs": [],
      "source": [
        "employee_base = {\n",
        "    'Мария Никитина': 'менеджер',\n",
        "    'Егор Савичев': 'разработчик',\n",
        "    'Александр Пахомов': 'дизайнер',\n",
        "    'Алина Егорова': 'разработчик',\n",
        "    'Руслан Башаров': 'верстальщик'}"
      ]
    },
    {
      "cell_type": "markdown",
      "metadata": {
        "id": "cX4qNCJq3WLi"
      },
      "source": [
        "Рассмотрим самый базовый синтаксис добавления нового ключа и значения в словарь. Заметьте, что такой же синтаксис работает и на замену существующего значения на новое по ключу"
      ]
    },
    {
      "cell_type": "code",
      "execution_count": 82,
      "metadata": {
        "colab": {
          "base_uri": "https://localhost:8080/"
        },
        "id": "zozYMjIkm_EG",
        "outputId": "b31ceb5c-00e7-4561-8100-66a80fbb30e0"
      },
      "outputs": [
        {
          "data": {
            "text/plain": [
              "{'Мария Никитина': 'старший менеджер',\n",
              " 'Егор Савичев': 'разработчик',\n",
              " 'Александр Пахомов': 'дизайнер',\n",
              " 'Алина Егорова': 'разработчик',\n",
              " 'Руслан Башаров': 'верстальщик',\n",
              " 'Егор Зимин': 'разработчик'}"
            ]
          },
          "execution_count": 82,
          "metadata": {},
          "output_type": "execute_result"
        }
      ],
      "source": [
        "employee_base['Егор Зимин'] = 'разработчик' #добавление в словарь\n",
        "employee_base['Мария Никитина'] = 'старший менеджер' #замена значения по ключу\n",
        "employee_base"
      ]
    },
    {
      "cell_type": "markdown",
      "metadata": {
        "id": "vg12puK54hqN"
      },
      "source": [
        "**Задача:**\n",
        "\n",
        "Напишите код, который бы увеличил число заказов в словаре user_dict на 10, а также заменил почту на ksobchak@mail.ru"
      ]
    },
    {
      "cell_type": "code",
      "execution_count": 83,
      "metadata": {
        "colab": {
          "base_uri": "https://localhost:8080/"
        },
        "id": "avD0Votf4tQG",
        "outputId": "d8ed2c0c-57d6-4754-93dc-dd9ce2d55ce5"
      },
      "outputs": [
        {
          "data": {
            "text/plain": [
              "{'id': 532,\n",
              " 'name': 'Ксения',\n",
              " 'surmame': 'Собчак',\n",
              " 'age': 39,\n",
              " 'gender': 'female',\n",
              " 'mail': 'ksobchak@mail.ru',\n",
              " 'count_orders': 1512}"
            ]
          },
          "execution_count": 83,
          "metadata": {},
          "output_type": "execute_result"
        }
      ],
      "source": [
        "user_dict = {\n",
        "    'id': 532,\n",
        "    'name': 'Ксения',\n",
        "    'surmame': 'Собчак',\n",
        "    'age': 39,\n",
        "    'gender': 'female',\n",
        "    'mail': 'sobchak@yandex.ru',\n",
        "    'count_orders': 1502\n",
        "}\n",
        "#user_dict['count_orders'] = user_dict['count_orders'] + 10\n",
        "user_dict['count_orders'] += 10\n",
        "user_dict['mail'] = 'ksobchak@mail.ru'\n",
        "user_dict\n"
      ]
    },
    {
      "cell_type": "markdown",
      "metadata": {
        "id": "HTXBHvCK3Vfs"
      },
      "source": [
        "Получить данные из словаря можно с помощью метода `get()`. Он позволяет установить значение по умолчанию, если элемент не был найдет"
      ]
    },
    {
      "cell_type": "code",
      "execution_count": 84,
      "metadata": {
        "colab": {
          "base_uri": "https://localhost:8080/"
        },
        "id": "ycm5JBvchpbk",
        "outputId": "3662b2b4-16a2-468a-e56c-68a0e59f4919"
      },
      "outputs": [
        {
          "data": {
            "text/plain": [
              "{'Мария Никитина': 'старший менеджер',\n",
              " 'Егор Савичев': 'разработчик',\n",
              " 'Александр Пахомов': 'дизайнер',\n",
              " 'Алина Егорова': 'разработчик',\n",
              " 'Руслан Башаров': 'верстальщик',\n",
              " 'Егор Зимин': 'разработчик'}"
            ]
          },
          "execution_count": 84,
          "metadata": {},
          "output_type": "execute_result"
        }
      ],
      "source": [
        "employee_base"
      ]
    },
    {
      "cell_type": "code",
      "execution_count": 89,
      "metadata": {
        "colab": {
          "base_uri": "https://localhost:8080/",
          "height": 169
        },
        "id": "meQZXoxfgG9g",
        "outputId": "a79a25f6-b0f7-42b6-ef57-e3c5c4f19404"
      },
      "outputs": [
        {
          "ename": "KeyError",
          "evalue": "'Руслан Семенов'",
          "output_type": "error",
          "traceback": [
            "\u001b[1;31m---------------------------------------------------------------------------\u001b[0m",
            "\u001b[1;31mKeyError\u001b[0m                                  Traceback (most recent call last)",
            "\u001b[1;32mc:\\Users\\igork\\OneDrive\\Документы\\GitHub\\DST-Webinars\\Notebooks\\Типы_данных_списки_и_словари_ipynb.ipynb Cell 114\u001b[0m line \u001b[0;36m1\n\u001b[1;32m----> <a href='vscode-notebook-cell:/c%3A/Users/igork/OneDrive/%D0%94%D0%BE%D0%BA%D1%83%D0%BC%D0%B5%D0%BD%D1%82%D1%8B/GitHub/DST-Webinars/Notebooks/%D0%A2%D0%B8%D0%BF%D1%8B_%D0%B4%D0%B0%D0%BD%D0%BD%D1%8B%D1%85_%D1%81%D0%BF%D0%B8%D1%81%D0%BA%D0%B8_%D0%B8_%D1%81%D0%BB%D0%BE%D0%B2%D0%B0%D1%80%D0%B8_ipynb.ipynb#Y220sZmlsZQ%3D%3D?line=0'>1</a>\u001b[0m employee_base[\u001b[39m\"\u001b[39;49m\u001b[39mРуслан Семенов\u001b[39;49m\u001b[39m\"\u001b[39;49m]\n",
            "\u001b[1;31mKeyError\u001b[0m: 'Руслан Семенов'"
          ]
        }
      ],
      "source": [
        "#обращение к несуществующему ключю\n",
        "employee_base[\"Руслан Семенов\"]"
      ]
    },
    {
      "cell_type": "code",
      "execution_count": 90,
      "metadata": {
        "colab": {
          "base_uri": "https://localhost:8080/",
          "height": 36
        },
        "id": "kIa4YuGY3U6k",
        "outputId": "ac812b84-d172-4ec6-929a-e9fd6f291111"
      },
      "outputs": [
        {
          "data": {
            "text/plain": [
              "'Такого сотрудника не было найдено'"
            ]
          },
          "execution_count": 90,
          "metadata": {},
          "output_type": "execute_result"
        }
      ],
      "source": [
        "employee_base.get('Руслан Семенов', \"Такого сотрудника не было найдено\")"
      ]
    },
    {
      "cell_type": "code",
      "execution_count": 87,
      "metadata": {
        "colab": {
          "base_uri": "https://localhost:8080/",
          "height": 36
        },
        "id": "r0FnSUDoE1ad",
        "outputId": "d53868d0-4695-4f1a-97a1-b107dc634c01"
      },
      "outputs": [
        {
          "data": {
            "text/plain": [
              "'разработчик'"
            ]
          },
          "execution_count": 87,
          "metadata": {},
          "output_type": "execute_result"
        }
      ],
      "source": [
        "employee_base.get('Егор Зимин', \"Такого сотрудника не было найдено\")"
      ]
    },
    {
      "cell_type": "code",
      "execution_count": 91,
      "metadata": {
        "colab": {
          "base_uri": "https://localhost:8080/"
        },
        "id": "Lf5XOkya3tJN",
        "outputId": "0bd690b6-7e82-475a-aa22-11f728d05f76"
      },
      "outputs": [
        {
          "name": "stdout",
          "output_type": "stream",
          "text": [
            "True\n"
          ]
        }
      ],
      "source": [
        "error = employee_base.get(\"Руслан Семенов\", -1)\n",
        "print(error == -1)"
      ]
    },
    {
      "cell_type": "markdown",
      "metadata": {
        "id": "arXb9fAJ5LXk"
      },
      "source": [
        "Часто бывает ситуация, что словарь необходимо дополнить. Тогда вам поможет метод `update()`"
      ]
    },
    {
      "cell_type": "code",
      "execution_count": 104,
      "metadata": {
        "colab": {
          "base_uri": "https://localhost:8080/"
        },
        "id": "4WZfF4PN5W5l",
        "outputId": "31f34edc-4863-4d30-b0e7-fea468d97666"
      },
      "outputs": [
        {
          "data": {
            "text/plain": [
              "{'Мария Никитина': 'менеджер',\n",
              " 'Егор Савичев': 'разработчик',\n",
              " 'Александр Пахомов': 'дизайнер',\n",
              " 'Алина Егорова': 'разработчик',\n",
              " 'Руслан Башаров': 'верстальщик',\n",
              " 'Роман Родимов': 'HR менеджер',\n",
              " 'Ксения Колесниченко': 'data scientist',\n",
              " 'Андрей Рысистов': 'уборщик'}"
            ]
          },
          "execution_count": 104,
          "metadata": {},
          "output_type": "execute_result"
        }
      ],
      "source": [
        "employee_base = {\n",
        "    'Мария Никитина': 'менеджер',\n",
        "    'Егор Савичев': 'разработчик',\n",
        "    'Александр Пахомов': 'дизайнер',\n",
        "    'Алина Егорова': 'разработчик',\n",
        "    'Руслан Башаров': 'верстальщик'}\n",
        "new_base = {\n",
        "    'Роман Родимов': 'HR менеджер',\n",
        "    'Ксения Колесниченко': 'data scientist',\n",
        "    'Андрей Рысистов': 'уборщик'\n",
        "}\n",
        "employee_base.update(new_base)\n",
        "employee_base"
      ]
    },
    {
      "cell_type": "code",
      "execution_count": 105,
      "metadata": {
        "colab": {
          "base_uri": "https://localhost:8080/"
        },
        "id": "poeg8CY37oC_",
        "outputId": "d9c58f75-32a7-488b-f193-24bff1c63a9a"
      },
      "outputs": [
        {
          "data": {
            "text/plain": [
              "{'Мария Никитина': 'менеджер',\n",
              " 'Егор Савичев': 'разработчик',\n",
              " 'Александр Пахомов': 'Старший дизайнер',\n",
              " 'Алина Егорова': 'разработчик',\n",
              " 'Руслан Башаров': 'верстальщик',\n",
              " 'Роман Родимов': 'HR менеджер',\n",
              " 'Ксения Колесниченко': 'data scientist',\n",
              " 'Андрей Рысистов': 'data scientist',\n",
              " 'Иван Иванов': 'Повар'}"
            ]
          },
          "execution_count": 105,
          "metadata": {},
          "output_type": "execute_result"
        }
      ],
      "source": [
        "employee_base.update({'Андрей Рысистов': 'data scientist', 'Александр Пахомов': 'Старший дизайнер', 'Иван Иванов':'Повар'})\n",
        "employee_base"
      ]
    },
    {
      "cell_type": "markdown",
      "metadata": {
        "id": "JxX0xm5m3ySd"
      },
      "source": [
        "Задача:\n",
        "\n",
        "Добавьте в наш словарь `user_dict` логин и пароль от личного кабинета, а также обновите имя и фамилию с помощью метода update"
      ]
    },
    {
      "cell_type": "code",
      "execution_count": 106,
      "metadata": {
        "colab": {
          "base_uri": "https://localhost:8080/"
        },
        "id": "niii38bM6sRR",
        "outputId": "1b4866ee-1ae7-45de-daea-fc97e6e110e8"
      },
      "outputs": [
        {
          "data": {
            "text/plain": [
              "{'id': 532,\n",
              " 'name': 'Виктория',\n",
              " 'surname': 'Боня',\n",
              " 'age': 39,\n",
              " 'gender': 'female',\n",
              " 'mail': 'sobchak@yandex.ru',\n",
              " 'count_orders': 1402,\n",
              " 'login': '5GisEVIL',\n",
              " 'password': 'BillGatesEVIL'}"
            ]
          },
          "execution_count": 106,
          "metadata": {},
          "output_type": "execute_result"
        }
      ],
      "source": [
        "user_dict = {\n",
        "    'id': 532,\n",
        "    'name': 'Ксения',\n",
        "    'surname': 'Собчак',\n",
        "    'age': 39,\n",
        "    'gender': 'female',\n",
        "    'mail': 'sobchak@yandex.ru',\n",
        "    'count_orders': 1402\n",
        "}\n",
        "\n",
        "new_name = 'Виктория'\n",
        "password = 'BillGatesEVIL'\n",
        "user_dict.update({\n",
        "     'name': new_name,\n",
        "     'surname': 'Боня',\n",
        "     'login': '5GisEVIL',\n",
        "     'password': password\n",
        "     }\n",
        "     )\n",
        "user_dict"
      ]
    },
    {
      "cell_type": "markdown",
      "metadata": {
        "id": "fu5fjjlx7WSt"
      },
      "source": [
        "Удаление по ключу из словаря осуществляется с помощью метода `pop()`"
      ]
    },
    {
      "cell_type": "code",
      "execution_count": 107,
      "metadata": {
        "colab": {
          "base_uri": "https://localhost:8080/",
          "height": 36
        },
        "id": "Uh8-FAlPm_EH",
        "outputId": "a3d6ccf0-b3e7-4032-ec16-70d8e4a84f38"
      },
      "outputs": [
        {
          "data": {
            "text/plain": [
              "'разработчик'"
            ]
          },
          "execution_count": 107,
          "metadata": {},
          "output_type": "execute_result"
        }
      ],
      "source": [
        "deleted = employee_base.pop('Егор Савичев')\n",
        "deleted"
      ]
    },
    {
      "cell_type": "code",
      "execution_count": null,
      "metadata": {
        "colab": {
          "base_uri": "https://localhost:8080/"
        },
        "id": "A7mVDWHK0nNF",
        "outputId": "5b308919-6bcb-4da7-ac3e-70562203830c"
      },
      "outputs": [
        {
          "data": {
            "text/plain": [
              "{'Мария Никитина': 'менеджер',\n",
              " 'Александр Пахомов': 'Старший дизайнер',\n",
              " 'Алина Егорова': 'разработчик',\n",
              " 'Руслан Башаров': 'верстальщик',\n",
              " 'Роман Родимов': 'HR менеджер',\n",
              " 'Ксения Колесниченко': 'data scientist',\n",
              " 'Андрей Рысистов': 'data scientist',\n",
              " 'Иван Иванов': 'Повар'}"
            ]
          },
          "execution_count": 95,
          "metadata": {},
          "output_type": "execute_result"
        }
      ],
      "source": [
        "employee_base"
      ]
    },
    {
      "cell_type": "markdown",
      "metadata": {
        "id": "q3noJPlixzWG"
      },
      "source": [
        "**Вопрос**: как вы думаете, имеет ли словарь метод sort()?"
      ]
    },
    {
      "cell_type": "code",
      "execution_count": null,
      "metadata": {
        "colab": {
          "base_uri": "https://localhost:8080/"
        },
        "id": "7BZE-lJq-K64",
        "outputId": "a5cf9a02-6a75-478c-890b-91d56c7dffec"
      },
      "outputs": [
        {
          "data": {
            "text/plain": [
              "['Александр Пахомов',\n",
              " 'Алина Егорова',\n",
              " 'Андрей Рысистов',\n",
              " 'Иван Иванов',\n",
              " 'Ксения Колесниченко',\n",
              " 'Мария Никитина',\n",
              " 'Роман Родимов',\n",
              " 'Руслан Башаров']"
            ]
          },
          "execution_count": 90,
          "metadata": {},
          "output_type": "execute_result"
        }
      ],
      "source": [
        "keys = list(employee_base.keys())\n",
        "keys.sort()\n",
        "keys"
      ]
    },
    {
      "cell_type": "code",
      "execution_count": null,
      "metadata": {
        "colab": {
          "base_uri": "https://localhost:8080/"
        },
        "id": "cPcH8utMFnMA",
        "outputId": "a1de35c0-4c8c-49c5-d134-0169c1d3be6c"
      },
      "outputs": [
        {
          "name": "stdout",
          "output_type": "stream",
          "text": [
            "Александр Пахомов Старший дизайнер\n",
            "Алина Егорова разработчик\n",
            "Андрей Рысистов data scientist\n",
            "Иван Иванов Повар\n",
            "Ксения Колесниченко data scientist\n",
            "Мария Никитина менеджер\n",
            "Роман Родимов HR менеджер\n",
            "Руслан Башаров верстальщик\n"
          ]
        }
      ],
      "source": [
        "for k in keys:\n",
        "  print(k, employee_base[k])"
      ]
    },
    {
      "cell_type": "markdown",
      "metadata": {
        "id": "_u11hK86Mbfm"
      },
      "source": [
        "Помимо перечисленных методов словари так же обладают большим количеством других возможностей. Их основной список можно найти по ссылочке: https://pythonworld.ru/tipy-dannyx-v-python/slovari-dict-funkcii-i-metody-slovarej.html"
      ]
    },
    {
      "cell_type": "markdown",
      "metadata": {
        "id": "a6lyRtrA9J4L"
      },
      "source": [
        "### 4.5 Вложенные словари"
      ]
    },
    {
      "cell_type": "markdown",
      "metadata": {
        "id": "B-s_uvIhm_EI"
      },
      "source": [
        "Как вы уже поняли, сложные вещи в этом мире тяжело описать простыми структурами, поэтому ровно так же как существуют вложенные списки, существуют и вложенные словари.\n",
        "\n",
        "Рассмотрим такую структуру на примере конфигурации сервера"
      ]
    },
    {
      "cell_type": "code",
      "execution_count": 125,
      "metadata": {
        "id": "pVZJFVYQ9J4N"
      },
      "outputs": [],
      "source": [
        "# Часто встречается при работе с конфигурационными файлами, JSON схемами и не только\n",
        "config = {\n",
        "    \"server\": {\n",
        "        \"host\": \"127.0.0.1\",\n",
        "        \"port\": \"22\"\n",
        "    },\n",
        "    \"configuration\": {\n",
        "        \"ssh\": {\n",
        "            \"access\": True,\n",
        "            \"login\": \"some\",\n",
        "            \"password\": \"some\"\n",
        "        },\n",
        "        \"name\": \"2491Oaaf1414\"\n",
        "    }\n",
        "}"
      ]
    },
    {
      "cell_type": "code",
      "execution_count": 126,
      "metadata": {
        "colab": {
          "base_uri": "https://localhost:8080/",
          "height": 36
        },
        "id": "8CNbTJeu5nBP",
        "outputId": "e5afbb7b-4f32-4c6a-f897-d3c3e38a0334"
      },
      "outputs": [
        {
          "data": {
            "text/plain": [
              "'127.0.0.1'"
            ]
          },
          "execution_count": 126,
          "metadata": {},
          "output_type": "execute_result"
        }
      ],
      "source": [
        "config['server']['host']"
      ]
    },
    {
      "cell_type": "code",
      "execution_count": 127,
      "metadata": {
        "colab": {
          "base_uri": "https://localhost:8080/",
          "height": 36
        },
        "id": "ES7hBC0yUbgc",
        "outputId": "5333dd28-7040-4f81-8ff7-4d6d77944303"
      },
      "outputs": [
        {
          "data": {
            "text/plain": [
              "'some'"
            ]
          },
          "execution_count": 127,
          "metadata": {},
          "output_type": "execute_result"
        }
      ],
      "source": [
        "config['configuration']['ssh']['password']"
      ]
    },
    {
      "cell_type": "markdown",
      "metadata": {
        "id": "TrHhcAyINeV-"
      },
      "source": [
        "Задача: напишите код для получения логина от ssh соединения"
      ]
    },
    {
      "cell_type": "code",
      "execution_count": 112,
      "metadata": {},
      "outputs": [
        {
          "data": {
            "text/plain": [
              "'127.0.0.1'"
            ]
          },
          "execution_count": 112,
          "metadata": {},
          "output_type": "execute_result"
        }
      ],
      "source": [
        "config['configuration']['ssh']['login']"
      ]
    },
    {
      "cell_type": "markdown",
      "metadata": {
        "id": "PmLJw37_m_EJ"
      },
      "source": [
        "А теперь совместим две изученные нами структуры"
      ]
    },
    {
      "cell_type": "markdown",
      "metadata": {
        "id": "khxMKXlX9J4k"
      },
      "source": [
        "### 4.6 Практический кейс на словари\n",
        "\n"
      ]
    },
    {
      "cell_type": "markdown",
      "metadata": {
        "id": "b7IWLi3RNpn0"
      },
      "source": [
        "Пусть у нас есть некоторая информация о пабликах в сети ВКонтакте. Необходимо организовать код для получения ссылок на аватарки данных пабликов. Все ссылки необходимо оформить во вложенный список"
      ]
    },
    {
      "cell_type": "code",
      "execution_count": 129,
      "metadata": {
        "id": "RJs1qB4S9J4l"
      },
      "outputs": [],
      "source": [
        "response = {'response': [{'id': 42565717,\n",
        "   'name': 'Python',\n",
        "   'screen_name': 'club42565717',\n",
        "   'is_closed': 0,\n",
        "   'type': 'group',\n",
        "   'members_count': 37319,\n",
        "   'activity': 'Открытая группа',\n",
        "   'photo_50': 'https://sun9-127.userapi.com/c845524/v845524906/1a71c2/A2r_4JtmiLQ.jpg?ava=1',\n",
        "   'photo_100': 'https://sun9-58.userapi.com/c845524/v845524906/1a71c1/2fBtsS0k8XY.jpg?ava=1',\n",
        "   'photo_200': 'https://sun9-50.userapi.com/c845524/v845524906/1a71c0/Kfo-eQIn0DU.jpg?ava=1'},\n",
        "\n",
        "  {'id': 3183750,\n",
        "   'name': 'Веб программист - PHP, JS, Python, Java, HTML 5',\n",
        "   'screen_name': 'php2all',\n",
        "   'is_closed': 0,\n",
        "   'type': 'page',\n",
        "   'members_count': 117833,\n",
        "   'activity': 'Программирование',\n",
        "   'photo_50': 'https://sun9-54.userapi.com/c626421/v626421613/941/HSj4ylRsk8k.jpg?ava=1',\n",
        "   'photo_100': 'https://sun9-5.userapi.com/c626421/v626421613/940/yKaZLxGShkY.jpg?ava=1',\n",
        "   'photo_200': 'https://sun9-49.userapi.com/c626421/v626421613/93f/2EygT_FJKWg.jpg?ava=1'}]}"
      ]
    },
    {
      "cell_type": "code",
      "execution_count": 138,
      "metadata": {},
      "outputs": [
        {
          "name": "stdout",
          "output_type": "stream",
          "text": [
            "['https://sun9-127.userapi.com/c845524/v845524906/1a71c2/A2r_4JtmiLQ.jpg?ava=1', 'https://sun9-58.userapi.com/c845524/v845524906/1a71c1/2fBtsS0k8XY.jpg?ava=1', 'https://sun9-50.userapi.com/c845524/v845524906/1a71c0/Kfo-eQIn0DU.jpg?ava=1']\n"
          ]
        }
      ],
      "source": [
        "list =[]\n",
        "list.append(response['response'][0]['photo_50'])\n",
        "list.append(response['response'][0]['photo_100'])\n",
        "list.append(response['response'][0]['photo_200'])\n",
        "print(list)"
      ]
    },
    {
      "cell_type": "code",
      "execution_count": null,
      "metadata": {
        "id": "UxFTCVQ6xYrF"
      },
      "outputs": [],
      "source": [
        "[[photo_50, photo_100, photo_200], [photo_50, photo_100, photo_200]]"
      ]
    },
    {
      "cell_type": "markdown",
      "metadata": {},
      "source": [
        "## Спасибо за внимание!"
      ]
    }
  ],
  "metadata": {
    "accelerator": "GPU",
    "colab": {
      "collapsed_sections": [
        "cCxQbcdB5B2r",
        "VobEJHx_5cnZ",
        "KJ8ryfXZQAnF",
        "pMa7bemd9JxZ",
        "0KQmC3aD8WnA",
        "dIVtL8uhALXi",
        "ycQx9qa0m_Dt",
        "e7_K6Qr9m_Dw",
        "9ajno0rag7Rl",
        "NLQDjX6t9J2L",
        "y9QyIRiXFhXr",
        "0rjsQq8G9J2v",
        "vVCdYjHntQJD",
        "5OlCrQFlKQU8",
        "A4xWbvXHKzyl",
        "hLu-sbC2iiZn",
        "AFRIVnWlm_EG",
        "a6lyRtrA9J4L",
        "khxMKXlX9J4k"
      ],
      "provenance": []
    },
    "kernelspec": {
      "display_name": "Python 3",
      "language": "python",
      "name": "python3"
    },
    "language_info": {
      "codemirror_mode": {
        "name": "ipython",
        "version": 3
      },
      "file_extension": ".py",
      "mimetype": "text/x-python",
      "name": "python",
      "nbconvert_exporter": "python",
      "pygments_lexer": "ipython3",
      "version": "3.10.9"
    }
  },
  "nbformat": 4,
  "nbformat_minor": 0
}
