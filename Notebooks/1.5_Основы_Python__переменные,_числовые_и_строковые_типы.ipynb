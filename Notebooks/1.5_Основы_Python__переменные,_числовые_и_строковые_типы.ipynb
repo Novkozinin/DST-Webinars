{
  "cells": [
    {
      "cell_type": "markdown",
      "metadata": {
        "id": "yVALumcwE-0Z"
      },
      "source": [
        "# Основы Python"
      ]
    },
    {
      "cell_type": "markdown",
      "metadata": {
        "id": "edQI-m-cCgpV"
      },
      "source": [
        "Булыгин Олег  \n",
        "\n",
        "* [LinkedIn](linkedin.com/in/obulygin)  \n",
        "* [Моя группа в ТГ по Python](https://t.me/solidtalk)"
      ]
    },
    {
      "cell_type": "markdown",
      "metadata": {},
      "source": []
    },
    {
      "cell_type": "markdown",
      "metadata": {
        "id": "RY8a8l1tFWSo"
      },
      "source": [
        "## План занятия"
      ]
    },
    {
      "cell_type": "markdown",
      "metadata": {
        "id": "r9zAJM26E5S6"
      },
      "source": [
        "\n",
        "План занятия:\n",
        "\n",
        "[1. PEP](#pep)\n",
        "\n",
        "[2. Вспомним про базовые типы данных и приведение типов](#основные-типы-данных-в-python)\n",
        "\n",
        "[3. Числовой тип](#работа-с-числами)\n",
        "\n",
        "[4. Переменные](#переменные)\n",
        "\n",
        "[5. Пользовательский ввод](#пользовательский-ввод)\n",
        "\n",
        "[6. Строковый тип](#работа-со-строками)"
      ]
    },
    {
      "cell_type": "markdown",
      "metadata": {
        "id": "yeFs_dLk5YJW"
      },
      "source": [
        "## PEP\n",
        "\n",
        "PEP (python enhanced proposal — заявки на улучшение языка python)."
      ]
    },
    {
      "cell_type": "markdown",
      "metadata": {
        "id": "hQ_c5hAl5eNt"
      },
      "source": [
        "PEP20 – Zen of Python\n",
        "\n",
        "Python придерживается философии, которую сформулировал Тим Петерс в 19 принципах. Её текст выдаётся интерпретатором Python по команде `import this`."
      ]
    },
    {
      "cell_type": "code",
      "execution_count": 12,
      "metadata": {
        "colab": {
          "base_uri": "https://localhost:8080/"
        },
        "id": "ANmgIu_25FK9",
        "outputId": "72be446d-aaa9-4526-97fa-714c2526752e"
      },
      "outputs": [
        {
          "name": "stdout",
          "output_type": "stream",
          "text": [
            "The Zen of Python, by Tim Peters\n",
            "\n",
            "Beautiful is better than ugly.\n",
            "Explicit is better than implicit.\n",
            "Simple is better than complex.\n",
            "Complex is better than complicated.\n",
            "Flat is better than nested.\n",
            "Sparse is better than dense.\n",
            "Readability counts.\n",
            "Special cases aren't special enough to break the rules.\n",
            "Although practicality beats purity.\n",
            "Errors should never pass silently.\n",
            "Unless explicitly silenced.\n",
            "In the face of ambiguity, refuse the temptation to guess.\n",
            "There should be one-- and preferably only one --obvious way to do it.\n",
            "Although that way may not be obvious at first unless you're Dutch.\n",
            "Now is better than never.\n",
            "Although never is often better than *right* now.\n",
            "If the implementation is hard to explain, it's a bad idea.\n",
            "If the implementation is easy to explain, it may be a good idea.\n",
            "Namespaces are one honking great idea -- let's do more of those!\n"
          ]
        }
      ],
      "source": [
        "import this"
      ]
    },
    {
      "cell_type": "markdown",
      "metadata": {
        "id": "9G-RZWKR5t71"
      },
      "source": [
        "PEP8\n",
        "\n",
        "PEP8 – соглашение о том, как писать код для языка python.\n",
        "Ключевая идея такова: код читается намного больше раз, чем пишется. Собственно, рекомендации о стиле написания кода направлены на то, чтобы улучшить читаемость кода и сделать его согласованным между большим числом проектов. В идеале, весь код будет написан в едином стиле, и любой сможет легко его прочесть.\n",
        "\n",
        "https://pythonworld.ru/osnovy/pep-8-rukovodstvo-po-napisaniyu-koda-na-python.html\n",
        "\n",
        "http://pep8online.com/"
      ]
    },
    {
      "cell_type": "markdown",
      "metadata": {
        "id": "JK4zZdWo2Q1V"
      },
      "source": [
        "## Основные типы данных в Python"
      ]
    },
    {
      "cell_type": "markdown",
      "metadata": {
        "id": "UxFIXyQH2Q1W"
      },
      "source": [
        "Тип данных можно представить себе как некоторую родословную, у каждой из которых есть своя уникальная фамилия и свои уникальные возможности. Типы данных могут быть как встроеные в Python, так и созданные самим программистом."
      ]
    },
    {
      "cell_type": "code",
      "execution_count": 13,
      "metadata": {
        "colab": {
          "base_uri": "https://localhost:8080/"
        },
        "id": "kW1BMnXZ2Q1Y",
        "outputId": "e4fef515-9617-41fd-9eca-690c62e472f8",
        "scrolled": true
      },
      "outputs": [
        {
          "name": "stdout",
          "output_type": "stream",
          "text": [
            "<class 'int'>\n",
            "<class 'float'>\n",
            "<class 'bool'>\n",
            "<class 'bool'>\n",
            "<class 'str'>\n"
          ]
        }
      ],
      "source": [
        "print(type(5))  # целые числа\n",
        "print(type(3.612))  # числа с плавающей точкой\n",
        "print(type(True))  # булевые значения (логические числа)\n",
        "print(type(False))\n",
        "\n",
        "print(type('Какой это тип данных?'))"
      ]
    },
    {
      "cell_type": "markdown",
      "metadata": {
        "id": "f77yfjFQMMzl"
      },
      "source": [
        "## Приведение типов"
      ]
    },
    {
      "cell_type": "markdown",
      "metadata": {
        "id": "lFAd_H2v2Q1b"
      },
      "source": [
        "Для того чтобы явно приводить типы можно воспользоваться соответствующими операторами. Такая операция называется **явное приведение типов**"
      ]
    },
    {
      "cell_type": "code",
      "execution_count": 14,
      "metadata": {
        "colab": {
          "base_uri": "https://localhost:8080/"
        },
        "id": "31iYqk782Q1c",
        "outputId": "466a26cf-2751-4dc7-8d22-b7a442112ab0"
      },
      "outputs": [
        {
          "data": {
            "text/plain": [
              "435345"
            ]
          },
          "execution_count": 14,
          "metadata": {},
          "output_type": "execute_result"
        }
      ],
      "source": [
        "int('435345')  # для вывода в ноутбуках не обязательно использовать print"
      ]
    },
    {
      "cell_type": "code",
      "execution_count": 15,
      "metadata": {
        "colab": {
          "base_uri": "https://localhost:8080/",
          "height": 170
        },
        "id": "hpVe3FoL2Q1d",
        "outputId": "6e6cab4b-6966-42b9-bfb8-47664bb146a6"
      },
      "outputs": [
        {
          "data": {
            "text/plain": [
              "325325.346364"
            ]
          },
          "execution_count": 15,
          "metadata": {},
          "output_type": "execute_result"
        }
      ],
      "source": [
        "float('325325.346364')"
      ]
    },
    {
      "cell_type": "code",
      "execution_count": 16,
      "metadata": {
        "colab": {
          "base_uri": "https://localhost:8080/"
        },
        "id": "oI6y1FpQ2Q1d",
        "outputId": "44645f17-595d-4702-87fa-78d82b12d910"
      },
      "outputs": [
        {
          "data": {
            "text/plain": [
              "False"
            ]
          },
          "execution_count": 16,
          "metadata": {},
          "output_type": "execute_result"
        }
      ],
      "source": [
        "bool('')"
      ]
    },
    {
      "cell_type": "code",
      "execution_count": 17,
      "metadata": {
        "colab": {
          "base_uri": "https://localhost:8080/",
          "height": 36
        },
        "id": "NHCqNOwBMuZE",
        "outputId": "8dcbca38-4218-4378-f34c-4ca12f6b33aa"
      },
      "outputs": [
        {
          "data": {
            "text/plain": [
              "'True'"
            ]
          },
          "execution_count": 17,
          "metadata": {},
          "output_type": "execute_result"
        }
      ],
      "source": [
        "str(True)"
      ]
    },
    {
      "cell_type": "markdown",
      "metadata": {
        "id": "4qEZrknO2Q1e"
      },
      "source": [
        "Однако возможна такая ситация, когда язык сам за ваш решает, какой тип данных получится в результате выполнения операции. Такая операция называется **неявное приведение типов**. Частным случаям неявного приведения типов является деление:"
      ]
    },
    {
      "cell_type": "code",
      "execution_count": 18,
      "metadata": {
        "colab": {
          "base_uri": "https://localhost:8080/"
        },
        "id": "voV5e2KZrvOV",
        "outputId": "6279cb81-1fdd-4f9e-d0bc-bbf608fd298a"
      },
      "outputs": [
        {
          "name": "stdout",
          "output_type": "stream",
          "text": [
            "40.0\n"
          ]
        }
      ],
      "source": [
        "print(80 / 2)"
      ]
    },
    {
      "cell_type": "markdown",
      "metadata": {
        "id": "eZIGUFtmly9r"
      },
      "source": [
        "Или арифметика с логическими значениями:"
      ]
    },
    {
      "cell_type": "code",
      "execution_count": 19,
      "metadata": {
        "colab": {
          "base_uri": "https://localhost:8080/"
        },
        "id": "criunOj0lvkU",
        "outputId": "10f305c3-b181-4cbf-d87d-2621bd887f13"
      },
      "outputs": [
        {
          "name": "stdout",
          "output_type": "stream",
          "text": [
            "2\n"
          ]
        }
      ],
      "source": [
        "print(True + 1)"
      ]
    },
    {
      "cell_type": "markdown",
      "metadata": {
        "id": "qRMN22wvK5zR"
      },
      "source": [
        "## Работа с числами"
      ]
    },
    {
      "cell_type": "markdown",
      "metadata": {
        "id": "BCee-aGlqPHC"
      },
      "source": [
        "<table class=\"src\" border=\"1\">\n",
        "<tbody>\n",
        "<tr style=\"background-color: #2b5b84;\"><th style=\"width: 100%;\"><span style=\"color: #ffff00;\">Оператор</span></th><th style=\"width: 100%;\"><span style=\"color: #ffff00;\">Описание</span></th></tr>\n",
        "\n",
        "<tr>\n",
        "<td style=\"background-color: #2b5b84; text-align: center;\"><strong><span style=\"color: #ffff00;\">+</span></strong></td>\n",
        "<td>Сложение — cуммирует значения слева и справа от оператора</td>\n",
        "</tr>\n",
        "\n",
        "<tr>\n",
        "<td style=\"background-color: #2b5b84; text-align: center;\"><strong><span style=\"color: #ffff00;\">-</span></strong></td>\n",
        "<td>Вычитание — вычитает правый операнд из левого</td>\n",
        "</tr>\n",
        "\n",
        "<tr>\n",
        "<td style=\"background-color: #2b5b84; text-align: center;\"><strong><span style=\"color: #ffff00;\">*</span></strong></td>\n",
        "<td>Умножение — перемножает операнды</td>\n",
        "</tr>\n",
        "\n",
        "<tr>\n",
        "<td style=\"background-color: #2b5b84; text-align: center;\"><strong><span style=\"color: #ffff00;\">/</span></strong></td>\n",
        "<td>Деление — делит левый операнд на правый</td>\n",
        "</tr>\n",
        "\n",
        "<tr>\n",
        "<td style=\"background-color: #2b5b84; text-align: center;\"><strong><span style=\"color: #ffff00;\">**</span></strong></td>\n",
        "<td>Возведение в степень — возводит левый операнд в степень правого</td>\n",
        "\n",
        "</tr>\n",
        "\n",
        "<tr>\n",
        "<td style=\"background-color: #2b5b84; text-align: center;\"><strong><span style=\"color: #ffff00;\">%</span></strong></td>\n",
        "<td> Взятие остатка от деления — делит левый операнд на правый и возвращает остаток.</td>\n",
        "\n",
        "</tr>\n",
        "<tr>\n",
        "\n",
        "<td style=\"background-color: #2b5b84; text-align: center;\"><strong><span style=\"color: #ffff00;\">//</span></strong></td>\n",
        "<td>Целочисленное деление — деление в котором возвращается только целая часть результата. Часть после запятой отбрасывается.</td>\n",
        "</tr>\n",
        "\n",
        "</tbody>\n",
        "</table>"
      ]
    },
    {
      "cell_type": "markdown",
      "metadata": {
        "id": "5Df6mheS2Q1f"
      },
      "source": [
        "Запомните, что умножение и деление всегда выполняются прежде, чем сложение и вычитание, если не менять порядок вычислений с помощью скобок."
      ]
    },
    {
      "cell_type": "markdown",
      "metadata": {
        "id": "KQae8PMT2Q1Z"
      },
      "source": [
        "Воспользуемся языком как калькулятором"
      ]
    },
    {
      "cell_type": "code",
      "execution_count": 20,
      "metadata": {
        "colab": {
          "base_uri": "https://localhost:8080/"
        },
        "id": "OATB_lbR2Q1j",
        "outputId": "5f0fa509-f443-41c6-f12b-932ed5f43b89"
      },
      "outputs": [
        {
          "name": "stdout",
          "output_type": "stream",
          "text": [
            "8\n",
            "3\n",
            "8\n",
            "2.0\n",
            "1\n",
            "7\n",
            "441\n"
          ]
        }
      ],
      "source": [
        "print(4 + 4) # суммирует значения слева и справа от оператора\n",
        "print(4 - 1) # вычитание - Вычитает правый операнд из левого\n",
        "print(4 * 2) # умножение - Перемножает операнды\n",
        "print(4 / 2) # деление - Делит левый операнд на правый\n",
        "print(5 % 2) # взятие остатка от деления - Делит левый операнд на правый и возвращает остаток.\n",
        "print(15 // 2) # Целочисленное деление - Деление в котором возвращается только целая часть результата. Часть после запятой отбрасывается.\n",
        "print(21 ** 2) # возведение в степень"
      ]
    },
    {
      "cell_type": "code",
      "execution_count": 21,
      "metadata": {
        "colab": {
          "base_uri": "https://localhost:8080/"
        },
        "id": "ve8uQxkipQ0_",
        "outputId": "578595e6-33cb-4f3c-83dd-199a47e38b91"
      },
      "outputs": [
        {
          "name": "stdout",
          "output_type": "stream",
          "text": [
            "605\n",
            "700\n"
          ]
        }
      ],
      "source": [
        "print(5 + 30 * 20)\n",
        "print((5 + 30) * 20)  # нужно помнить про скобки, чтобы контроллировать порядок действий"
      ]
    },
    {
      "cell_type": "markdown",
      "metadata": {
        "id": "nZrfxsi-Q_-b"
      },
      "source": [
        "Операции сравнения"
      ]
    },
    {
      "cell_type": "code",
      "execution_count": 22,
      "metadata": {
        "colab": {
          "base_uri": "https://localhost:8080/"
        },
        "id": "Ev5oTo5fQ_h5",
        "outputId": "9e99200d-85e3-4bd4-dd9b-bbff2dc11204"
      },
      "outputs": [
        {
          "name": "stdout",
          "output_type": "stream",
          "text": [
            "False\n",
            "True\n",
            "False\n",
            "True\n",
            "False\n",
            "True\n"
          ]
        }
      ],
      "source": [
        "print(4 == 5) # не путать с =. проверяет равны ли оба операнда. Если да, то проверка возвращает True\n",
        "print(4 != 5) # проверяет не равны ли оба операнда. Если не равны, то проверка возвращает True.\n",
        "print(4 > 5) # проверяет больше ли значение левого операнда, чем значение правого. Если да, то проверка возвращает True.\n",
        "print(4 < 5) # проверяет меньше ли значение левого операнда, чем значение правого. Если да, то проверка возвращает True.\n",
        "print(4 >= 5) # проверяет больше или равно значение левого операнда, чем значение правого. Если да, то проверка возвращает True.\n",
        "print(4 <= 6) # проверяет меньше или равно значение левого операнда, чем значение правого. Если да, то проверка возвращает True."
      ]
    },
    {
      "cell_type": "markdown",
      "metadata": {
        "id": "dDLA0Ln3cHbv"
      },
      "source": [
        "Можем взять модуль у числа"
      ]
    },
    {
      "cell_type": "code",
      "execution_count": 23,
      "metadata": {
        "colab": {
          "base_uri": "https://localhost:8080/"
        },
        "id": "EuU0ahm0cKze",
        "outputId": "cedb7da3-b515-4d78-fba0-a0a1c82a68bc"
      },
      "outputs": [
        {
          "name": "stdout",
          "output_type": "stream",
          "text": [
            "32\n",
            "32\n"
          ]
        }
      ],
      "source": [
        "print(abs(-32))\n",
        "print(abs(32))"
      ]
    },
    {
      "cell_type": "markdown",
      "metadata": {
        "id": "kw_ODx9eycPy"
      },
      "source": [
        "Проблема точности округления в Python"
      ]
    },
    {
      "cell_type": "code",
      "execution_count": 24,
      "metadata": {
        "colab": {
          "base_uri": "https://localhost:8080/"
        },
        "id": "G4JpMV5DzJGa",
        "outputId": "4a6fc202-7c66-4f88-937a-219ecbe43ebc"
      },
      "outputs": [
        {
          "name": "stdout",
          "output_type": "stream",
          "text": [
            "True\n"
          ]
        }
      ],
      "source": [
        "print(0.15 + 0.15 == 0.3)"
      ]
    },
    {
      "cell_type": "code",
      "execution_count": 25,
      "metadata": {
        "colab": {
          "base_uri": "https://localhost:8080/"
        },
        "id": "sfkv1T6QzRar",
        "outputId": "3ea37ea8-73a9-476a-b37e-588881944a94"
      },
      "outputs": [
        {
          "name": "stdout",
          "output_type": "stream",
          "text": [
            "False\n"
          ]
        }
      ],
      "source": [
        "print(0.1 + 0.15 + 0.05 == 0.1 + 0.1 + 0.1)"
      ]
    },
    {
      "cell_type": "code",
      "execution_count": 26,
      "metadata": {
        "colab": {
          "base_uri": "https://localhost:8080/"
        },
        "id": "O2SwVCkfzUOP",
        "outputId": "5d13c0a5-6751-4b2e-eb11-bfa6e5c8f25e"
      },
      "outputs": [
        {
          "name": "stdout",
          "output_type": "stream",
          "text": [
            "0.3\n"
          ]
        }
      ],
      "source": [
        "print(0.1 + 0.15 + 0.05)"
      ]
    },
    {
      "cell_type": "code",
      "execution_count": 27,
      "metadata": {
        "colab": {
          "base_uri": "https://localhost:8080/"
        },
        "id": "BZb8oN-JzW8P",
        "outputId": "e8aeb6cc-89d3-414b-cbac-08604678941c"
      },
      "outputs": [
        {
          "name": "stdout",
          "output_type": "stream",
          "text": [
            "0.3\n"
          ]
        }
      ],
      "source": [
        "print(round(0.1 + 0.1 + 0.1, 2))"
      ]
    },
    {
      "cell_type": "code",
      "execution_count": 28,
      "metadata": {
        "colab": {
          "base_uri": "https://localhost:8080/"
        },
        "id": "kEGbtboLj-Iu",
        "outputId": "c39259ca-2925-48a1-f4ba-de51194e56e1"
      },
      "outputs": [
        {
          "name": "stdout",
          "output_type": "stream",
          "text": [
            "True\n"
          ]
        }
      ],
      "source": [
        "print(0.1 + 0.15 + 0.05 == round(0.1 + 0.1 + 0.1, 2))"
      ]
    },
    {
      "cell_type": "markdown",
      "metadata": {
        "id": "LwLAzkHrzYMn"
      },
      "source": [
        "Стоит избегать прямого сравнения float, если вам важна точность операций.\n",
        "\n",
        "Для исправления этой проблемы есть отдельные типы данных, [изучите самостоятельно](https://docs-python.ru/tutorial/operatsii-chislami-python/problemy-chisel-plavajuschej-zapjatoj/)"
      ]
    },
    {
      "cell_type": "markdown",
      "metadata": {
        "id": "mIblPFvCon-p"
      },
      "source": [
        "## Переменные\n",
        "\n",
        "\n"
      ]
    },
    {
      "cell_type": "markdown",
      "metadata": {
        "id": "zK7EiLe22Q1k"
      },
      "source": [
        "В программировании слово переменная обозначает именованное место для хранения данных, например чисел, текста, списков с числами или символами и так далее. Также переменную можно рассматривать как ярлык, которым помечены некие данные или контейнер, в котором хранится информация"
      ]
    },
    {
      "cell_type": "markdown",
      "metadata": {
        "id": "K-2IHl1yvTye"
      },
      "source": [
        "\n",
        "\n",
        "Для создания корректных имен перемен­ных надо следовать всего нескольким правилам; о некорректном имени Python вам сообщит, выведя ошибку\n",
        "\n",
        "Есть несколько правил при определении переменных:\n",
        "\n",
        "- имена переменных не должны повторять уже встроенные в Python имена, например, `print`, `str`, `in` и т.д.;\n",
        "- имена переменных могут содержать только буквы, цифры и нижнее подчёркивание;\n",
        "- имена переменных не должны начинаться с цифры;\n",
        "- очень желательно, чтобы имена переменных выражали суть переменной и не были слишком длинными.\n",
        "\n",
        "Если компьютер принял переменную это не значит, что это имя хорошее!\n",
        "Переменная с именем **aklkjkll112312** будет понятна компьютеру, но не будет понятна человеку. Поэтом при создании переменных вы должны ориентироваться на своего читателя. Порой вы будете единственным читателем вашего кода, но поверьте(!), вернувшись через месяц для того, чтобы немного изменить свою программу, вы ужаснетесь, насколько там все непонятно! Поэтому, если вы с любовью относитесь к себе и своим коллегам, не пренебрегайте правилами и договоренностями. Они значительно упрощают вашу жизнь."
      ]
    },
    {
      "cell_type": "code",
      "execution_count": 29,
      "metadata": {
        "colab": {
          "base_uri": "https://localhost:8080/"
        },
        "id": "Oclns_uDTC6y",
        "outputId": "9e24e13a-a2a4-47ac-c92c-e72ad2653e1e"
      },
      "outputs": [
        {
          "name": "stdout",
          "output_type": "stream",
          "text": [
            "458\n"
          ]
        }
      ],
      "source": [
        "a = 458\n",
        "print(a)"
      ]
    },
    {
      "cell_type": "code",
      "execution_count": 30,
      "metadata": {
        "colab": {
          "base_uri": "https://localhost:8080/"
        },
        "id": "hzzDP-UZNFr9",
        "outputId": "38e9b643-5482-4dc1-a958-04ad07700f9b"
      },
      "outputs": [
        {
          "name": "stdout",
          "output_type": "stream",
          "text": [
            "Ответ:  0.03333333333333333\n"
          ]
        }
      ],
      "source": [
        "a = 10 + 20\n",
        "b = a * 30\n",
        "c = a / b\n",
        "print('Ответ: ', c)"
      ]
    },
    {
      "cell_type": "code",
      "execution_count": 31,
      "metadata": {
        "colab": {
          "base_uri": "https://localhost:8080/",
          "height": 225
        },
        "id": "5ag-FBA_NITt",
        "outputId": "61c5042b-e508-4cd1-c6e3-ec441e62c031"
      },
      "outputs": [
        {
          "ename": "NameError",
          "evalue": "name 'x' is not defined",
          "output_type": "error",
          "traceback": [
            "\u001b[1;31m---------------------------------------------------------------------------\u001b[0m",
            "\u001b[1;31mNameError\u001b[0m                                 Traceback (most recent call last)",
            "\u001b[1;32mc:\\Users\\igork\\OneDrive\\Документы\\GitHub\\DST-Webinars\\Notebooks\\1.5_Основы_Python__переменные,_числовые_и_строковые_типы.ipynb Cell 45\u001b[0m line \u001b[0;36m2\n\u001b[0;32m      <a href='vscode-notebook-cell:/c%3A/Users/igork/OneDrive/%D0%94%D0%BE%D0%BA%D1%83%D0%BC%D0%B5%D0%BD%D1%82%D1%8B/GitHub/DST-Webinars/Notebooks/1.5_%D0%9E%D1%81%D0%BD%D0%BE%D0%B2%D1%8B_Python__%D0%BF%D0%B5%D1%80%D0%B5%D0%BC%D0%B5%D0%BD%D0%BD%D1%8B%D0%B5%2C_%D1%87%D0%B8%D1%81%D0%BB%D0%BE%D0%B2%D1%8B%D0%B5_%D0%B8_%D1%81%D1%82%D1%80%D0%BE%D0%BA%D0%BE%D0%B2%D1%8B%D0%B5_%D1%82%D0%B8%D0%BF%D1%8B.ipynb#X61sZmlsZQ%3D%3D?line=0'>1</a>\u001b[0m \u001b[39m# что увидим на экране?\u001b[39;00m\n\u001b[1;32m----> <a href='vscode-notebook-cell:/c%3A/Users/igork/OneDrive/%D0%94%D0%BE%D0%BA%D1%83%D0%BC%D0%B5%D0%BD%D1%82%D1%8B/GitHub/DST-Webinars/Notebooks/1.5_%D0%9E%D1%81%D0%BD%D0%BE%D0%B2%D1%8B_Python__%D0%BF%D0%B5%D1%80%D0%B5%D0%BC%D0%B5%D0%BD%D0%BD%D1%8B%D0%B5%2C_%D1%87%D0%B8%D1%81%D0%BB%D0%BE%D0%B2%D1%8B%D0%B5_%D0%B8_%D1%81%D1%82%D1%80%D0%BE%D0%BA%D0%BE%D0%B2%D1%8B%D0%B5_%D1%82%D0%B8%D0%BF%D1%8B.ipynb#X61sZmlsZQ%3D%3D?line=1'>2</a>\u001b[0m \u001b[39mprint\u001b[39m(x)\n\u001b[0;32m      <a href='vscode-notebook-cell:/c%3A/Users/igork/OneDrive/%D0%94%D0%BE%D0%BA%D1%83%D0%BC%D0%B5%D0%BD%D1%82%D1%8B/GitHub/DST-Webinars/Notebooks/1.5_%D0%9E%D1%81%D0%BD%D0%BE%D0%B2%D1%8B_Python__%D0%BF%D0%B5%D1%80%D0%B5%D0%BC%D0%B5%D0%BD%D0%BD%D1%8B%D0%B5%2C_%D1%87%D0%B8%D1%81%D0%BB%D0%BE%D0%B2%D1%8B%D0%B5_%D0%B8_%D1%81%D1%82%D1%80%D0%BE%D0%BA%D0%BE%D0%B2%D1%8B%D0%B5_%D1%82%D0%B8%D0%BF%D1%8B.ipynb#X61sZmlsZQ%3D%3D?line=3'>4</a>\u001b[0m x \u001b[39m=\u001b[39m \u001b[39m10\u001b[39m\n",
            "\u001b[1;31mNameError\u001b[0m: name 'x' is not defined"
          ]
        }
      ],
      "source": [
        "# что увидим на экране?\n",
        "print(x)\n",
        "\n",
        "x = 10"
      ]
    },
    {
      "cell_type": "markdown",
      "metadata": {
        "id": "40_f2eTINlZg"
      },
      "source": [
        "**Практика**. Переведем байты в мегабайты\n",
        "\n"
      ]
    },
    {
      "cell_type": "code",
      "execution_count": 35,
      "metadata": {
        "id": "khcyHT9GNmMr"
      },
      "outputs": [],
      "source": [
        "bytes_ = 10000"
      ]
    },
    {
      "cell_type": "code",
      "execution_count": 36,
      "metadata": {
        "colab": {
          "base_uri": "https://localhost:8080/"
        },
        "id": "kdEwXnn8NoAo",
        "outputId": "5fb599b2-2d1d-4d53-e122-19abf8a1eab8"
      },
      "outputs": [
        {
          "name": "stdout",
          "output_type": "stream",
          "text": [
            "0.0095367431640625\n"
          ]
        }
      ],
      "source": [
        "megabytes = bytes_ / 1024 / 1024\n",
        "print(megabytes)"
      ]
    },
    {
      "cell_type": "code",
      "execution_count": 37,
      "metadata": {
        "colab": {
          "base_uri": "https://localhost:8080/"
        },
        "id": "q5-rXPRNmazK",
        "outputId": "465f3696-81ed-4914-c2d1-9398bc6899a8"
      },
      "outputs": [
        {
          "name": "stdout",
          "output_type": "stream",
          "text": [
            "0.0095367431640625\n"
          ]
        }
      ],
      "source": [
        "print(bytes_ / (2 ** 20))"
      ]
    },
    {
      "cell_type": "code",
      "execution_count": 40,
      "metadata": {
        "colab": {
          "base_uri": "https://localhost:8080/"
        },
        "id": "tFplmYJ7mcXQ",
        "outputId": "59b8e716-ccb4-477f-d78a-9495862e125e"
      },
      "outputs": [
        {
          "data": {
            "text/plain": [
              "0.0095367431640625"
            ]
          },
          "execution_count": 40,
          "metadata": {},
          "output_type": "execute_result"
        }
      ],
      "source": [
        "bytes_ = 10000\n",
        "kilobytes_ = bytes_ / 2 ** 20\n",
        "kilobytes_"
      ]
    },
    {
      "cell_type": "code",
      "execution_count": null,
      "metadata": {
        "colab": {
          "base_uri": "https://localhost:8080/"
        },
        "id": "WLWS_yK4mdVo",
        "outputId": "a3e84d64-cd2d-495f-e734-31deaf49ecde"
      },
      "outputs": [
        {
          "name": "stdout",
          "output_type": "stream",
          "text": [
            "0.0095367431640625\n"
          ]
        }
      ],
      "source": [
        "bytes_ = 10000\n",
        "mbytes_ = bytes_ / 2**20\n",
        "print(mbytes_)"
      ]
    },
    {
      "cell_type": "markdown",
      "metadata": {
        "id": "I3onei2ZO_gV"
      },
      "source": [
        "Сокращенная запись операций присваивания"
      ]
    },
    {
      "cell_type": "code",
      "execution_count": 41,
      "metadata": {
        "id": "XiiHam50PCD3"
      },
      "outputs": [],
      "source": [
        "x = 2"
      ]
    },
    {
      "cell_type": "code",
      "execution_count": 42,
      "metadata": {
        "colab": {
          "base_uri": "https://localhost:8080/"
        },
        "id": "Y2zxrvl1O-kx",
        "outputId": "62aa70a2-1470-4723-aa6b-91ee03a9205f"
      },
      "outputs": [
        {
          "name": "stdout",
          "output_type": "stream",
          "text": [
            "3\n",
            "2\n",
            "4\n",
            "2.0\n"
          ]
        }
      ],
      "source": [
        "# x = x + 1\n",
        "x += 1\n",
        "print(x)\n",
        "\n",
        "# x = x - 1\n",
        "x -= 1\n",
        "print(x)\n",
        "\n",
        "# x = x * 2\n",
        "x *= 2\n",
        "print(x)\n",
        "\n",
        "# x = x / 2\n",
        "x /= 2\n",
        "print(x)"
      ]
    },
    {
      "cell_type": "markdown",
      "metadata": {
        "id": "lU7i_wOgRSHm"
      },
      "source": [
        "Множественное присваивание:"
      ]
    },
    {
      "cell_type": "code",
      "execution_count": null,
      "metadata": {
        "colab": {
          "base_uri": "https://localhost:8080/"
        },
        "id": "P6bCFVfmRWGy",
        "outputId": "2e978fb4-07b5-4c9d-fdcd-050e4b40102a"
      },
      "outputs": [
        {
          "name": "stdout",
          "output_type": "stream",
          "text": [
            "John\n",
            "Data Scientist\n",
            "100000\n"
          ]
        }
      ],
      "source": [
        "name, pro, salary = 'John', 'Data Scientist', 100000\n",
        "print(name)\n",
        "print(pro)\n",
        "print(salary)"
      ]
    },
    {
      "cell_type": "markdown",
      "metadata": {
        "id": "erwQla1f2Q1s"
      },
      "source": [
        "Благодаря множественному присваиванию в Python легко решается задача замены переменных местами.\n",
        "\n",
        "В других языках эта задача решается через третью переменную."
      ]
    },
    {
      "cell_type": "code",
      "execution_count": null,
      "metadata": {
        "colab": {
          "base_uri": "https://localhost:8080/"
        },
        "id": "nNGT-dkt2Q1s",
        "outputId": "4c9f8ad7-d89f-44b9-9f70-89b58a8eeff1"
      },
      "outputs": [
        {
          "name": "stdout",
          "output_type": "stream",
          "text": [
            "string 14\n"
          ]
        }
      ],
      "source": [
        "a = 14\n",
        "b = 'string'\n",
        "c = a\n",
        "a = b\n",
        "b = c\n",
        "print(a, b)"
      ]
    },
    {
      "cell_type": "markdown",
      "metadata": {
        "id": "Nva22H5j2Q1t"
      },
      "source": [
        "А в Python можно так:"
      ]
    },
    {
      "cell_type": "code",
      "execution_count": null,
      "metadata": {
        "colab": {
          "base_uri": "https://localhost:8080/"
        },
        "id": "qMqqa8I82Q1t",
        "outputId": "bfa9b2b5-e6c7-439b-a377-1d5f188b1b36"
      },
      "outputs": [
        {
          "name": "stdout",
          "output_type": "stream",
          "text": [
            "14 string\n"
          ]
        }
      ],
      "source": [
        "a, b = b, a\n",
        "print(a, b)"
      ]
    },
    {
      "cell_type": "markdown",
      "metadata": {
        "id": "2iY1yLYcbLAp"
      },
      "source": [
        "**Практика**. Рост девушки 170 см, а высота каблуков — 19 см. Определите рост девушки на каблуках в _метрах_ и выведите информацию в виде: `Рост в метрах: *** `"
      ]
    },
    {
      "cell_type": "code",
      "execution_count": null,
      "metadata": {
        "id": "6YyjAgt6bAKm"
      },
      "outputs": [],
      "source": [
        "heels_height_cm = 19\n",
        "height_cm = 170"
      ]
    },
    {
      "cell_type": "code",
      "execution_count": null,
      "metadata": {
        "colab": {
          "base_uri": "https://localhost:8080/"
        },
        "id": "4hWZWbAZo2p5",
        "outputId": "2255233b-b8e9-4153-a4aa-e3b48cfd37f6"
      },
      "outputs": [
        {
          "name": "stdout",
          "output_type": "stream",
          "text": [
            "Рост в метрах:  1.89\n"
          ]
        }
      ],
      "source": [
        "print('Рост в метрах: ', (heels_height_cm + height_cm) / 100 )"
      ]
    },
    {
      "cell_type": "code",
      "execution_count": null,
      "metadata": {
        "colab": {
          "base_uri": "https://localhost:8080/"
        },
        "id": "hz4_pAJJpFoO",
        "outputId": "010c8ef3-903a-4a93-97b0-7eef3052f66e"
      },
      "outputs": [
        {
          "name": "stdout",
          "output_type": "stream",
          "text": [
            "Рост в метрах 1.89\n"
          ]
        }
      ],
      "source": [
        "heels_height_cm = 19\n",
        "height_cm = 170\n",
        "print('Рост в метрах', (heels_height_cm + height_cm) / 100)"
      ]
    },
    {
      "cell_type": "markdown",
      "metadata": {
        "id": "hGrFASpBcs_b"
      },
      "source": [
        "**Практика**.\n",
        "Олег, Екатерина и Петр после Хэллоуина решили поделить собранные каждым конфеты поровну. Чтобы не ссорится они решили выкинуть все конфеты, которые останутся после этого. К примеру, если у них 62 конфеты они поделят 60 и выкинут 2.  \n",
        "Напишите код, который будет вычислять, сколько конфет им нужно выкинуть после дележки."
      ]
    },
    {
      "cell_type": "code",
      "execution_count": 44,
      "metadata": {
        "id": "kM4NOerocwEI"
      },
      "outputs": [],
      "source": [
        "oleg_candies = 117\n",
        "kate_candies = 131\n",
        "peter_candies = 107\n",
        "\n",
        "# throw_away ="
      ]
    },
    {
      "cell_type": "code",
      "execution_count": 45,
      "metadata": {
        "colab": {
          "base_uri": "https://localhost:8080/"
        },
        "id": "B7oXfmvlnvm0",
        "outputId": "13d98471-197c-41fd-8b0d-90950d24665e"
      },
      "outputs": [
        {
          "data": {
            "text/plain": [
              "1"
            ]
          },
          "execution_count": 45,
          "metadata": {},
          "output_type": "execute_result"
        }
      ],
      "source": [
        "throw_away = (oleg_candies + kate_candies + peter_candies) % 3\n",
        "throw_away"
      ]
    },
    {
      "cell_type": "code",
      "execution_count": 46,
      "metadata": {
        "id": "jG4Nka-kqO16"
      },
      "outputs": [
        {
          "name": "stdout",
          "output_type": "stream",
          "text": [
            "1\n"
          ]
        }
      ],
      "source": [
        "throw_away = (oleg_candies + kate_candies + peter_candies) % 3\n",
        "print(throw_away)"
      ]
    },
    {
      "cell_type": "code",
      "execution_count": 47,
      "metadata": {
        "colab": {
          "base_uri": "https://localhost:8080/"
        },
        "id": "6OTSKcLwqnfn",
        "outputId": "8a74de97-791d-4d64-f662-10b771343725"
      },
      "outputs": [
        {
          "name": "stdout",
          "output_type": "stream",
          "text": [
            "1\n"
          ]
        }
      ],
      "source": [
        "oleg_candies = 117\n",
        "kate_candies = 131\n",
        "peter_candies = 107\n",
        "throw_away = sum([oleg_candies, kate_candies, peter_candies]) % 3\n",
        "print(throw_away)"
      ]
    },
    {
      "cell_type": "markdown",
      "metadata": {
        "id": "BAPe2SpNTwCP"
      },
      "source": [
        "## Пользовательский ввод"
      ]
    },
    {
      "cell_type": "markdown",
      "metadata": {
        "id": "dyj57U0n1INY"
      },
      "source": [
        "Функция запроса пользовательского ввода всегда принимает на вход строковой тип (даже если пользователь введет только числа)."
      ]
    },
    {
      "cell_type": "code",
      "execution_count": null,
      "metadata": {
        "colab": {
          "base_uri": "https://localhost:8080/"
        },
        "id": "ETbcj21L1IzV",
        "outputId": "3666a7f2-c9de-439f-a3ee-b9d74f0a5da6"
      },
      "outputs": [
        {
          "name": "stdout",
          "output_type": "stream",
          "text": [
            "Введите число45454564\n",
            "<class 'str'>\n"
          ]
        }
      ],
      "source": [
        "some_int = input('Введите число') #input — функция для ввода\n",
        "print(type(some_int))"
      ]
    },
    {
      "cell_type": "markdown",
      "metadata": {
        "id": "uV7JNF5yx4a6"
      },
      "source": [
        "Чтобы превратить строку в число, мы можем использовать функции int() или float, в которые мы передадим строку, а на выходе получим число."
      ]
    },
    {
      "cell_type": "code",
      "execution_count": null,
      "metadata": {
        "colab": {
          "base_uri": "https://localhost:8080/"
        },
        "id": "BhiwUbxZykgj",
        "outputId": "6f34d299-f747-4d56-f3ca-1d05c31be0a4",
        "scrolled": true
      },
      "outputs": [
        {
          "name": "stdout",
          "output_type": "stream",
          "text": [
            "Введите число: 65h5656h56\n",
            "65h5656h5665h5656h5665h5656h5665h5656h5665h5656h56\n"
          ]
        }
      ],
      "source": [
        "b = int(input('Введите число: '))\n",
        "print(b * 5)"
      ]
    },
    {
      "cell_type": "markdown",
      "metadata": {
        "id": "p_wzWJRwW2gK"
      },
      "source": [
        "Напишем приложение, которое учитывает, какой процент от заработной платы уходит на ипотеку и ежемесячные расходы.\n",
        "\n",
        "Для этого пользователю предлагается ввести следующие данные:\n",
        "\n",
        "- заработную плату в месяц;  \n",
        "- какой процент (%) от заработной платы уходит на ипотеку;  \n",
        "- какой процент (%) от заработной платы уходит \"на жизнь\".\n",
        "\n",
        "Программа подсчитывает и выводит, сколько денег тратит пользователь на ипотеку и сколько он накопит за год (остаток от заработанной платы).\n",
        "\n",
        "Пример:\n",
        "```\n",
        "Введите заработную плату в месяц: 100000\n",
        "Введите, какой процент(%) уходит на ипотеку: 30\n",
        "Введите, какой процент(%) уходит на жизнь: 50\n",
        "\n",
        "Вывод:\n",
        "На ипотеку было потрачено: 360000 рублей\n",
        "Было накоплено: 240000 рублей\n",
        "```"
      ]
    },
    {
      "cell_type": "code",
      "execution_count": null,
      "metadata": {
        "colab": {
          "base_uri": "https://localhost:8080/"
        },
        "id": "3rPHdgJxW40B",
        "outputId": "2b984d4c-c19e-4a27-dc54-06d6fd7be6b4"
      },
      "outputs": [
        {
          "name": "stdout",
          "output_type": "stream",
          "text": [
            "Введите заработную плату в месяц: 100000\n",
            "Введите, какой процент(%) уходит на ипотеку: 30\n",
            "Введите, какой процент(%) уходит на жизнь: 50\n",
            "На ипотеку было потрачено: 360000.0 рублей\n",
            "Было накоплено: 240000.0 рублей\n"
          ]
        }
      ],
      "source": [
        "salary = int(input(\"Введите заработную плату в месяц: \"))\n",
        "mortgage = int(input(\"Введите, какой процент(%) уходит на ипотеку: \"))\n",
        "expenses = int(input(\"Введите, какой процент(%) уходит на жизнь: \"))\n",
        "print(\"На ипотеку было потрачено:\", salary * mortgage / 100 * 12, \"рублей\")\n",
        "print(\"Было накоплено:\", salary * 12 - ((salary * mortgage / 100 * 12) + (salary * expenses / 100 * 12)), \"рублей\")"
      ]
    },
    {
      "cell_type": "markdown",
      "metadata": {
        "id": "cykTRuaVUxez"
      },
      "source": [
        "**Практика**. Программа запрашивает у пользователя длину стороны квадрата и выводит его периметр и площадь. Сразу после этого пользователю предлагается ввести длину и ширину прямоугольника, для которого рассчитывается периметр и площадь. Обратите внимание, что программа должна работать корректно при любых введённых значениях длины и ширины фигуры.\n",
        "\n",
        "Пример:\n",
        "```\n",
        "Введите длину стороны квадрата: 3\n",
        "\n",
        "Вывод:\n",
        "Периметр: 12\n",
        "Площадь: 9\n",
        "\n",
        "Введите длину прямоугольника: 3\n",
        "Введите ширину прямоугольника: 4\n",
        "\n",
        "Вывод:\n",
        "Периметр: 14\n",
        "Площадь: 12\n",
        "```\n"
      ]
    },
    {
      "cell_type": "code",
      "execution_count": null,
      "metadata": {
        "colab": {
          "base_uri": "https://localhost:8080/"
        },
        "id": "0hiQFfBUU2ky",
        "outputId": "8c986064-2575-4b2c-fae3-adaf948f05bc"
      },
      "outputs": [
        {
          "name": "stdout",
          "output_type": "stream",
          "text": [
            "Введите длину:3\n",
            "Площадь квадрата: 9\n",
            "Введите длину:3\n",
            "Введите ширину:4\n",
            "Периметр:  14\n"
          ]
        }
      ],
      "source": [
        "p = int(input(\"Введите длину:\"))\n",
        "s = p ** 2\n",
        "print(\"Площадь квадрата:\", s)\n",
        "p1 = int(input(\"Введите длину:\"))\n",
        "p2 = int(input(\"Введите ширину:\"))\n",
        "r = p1 * 2 + p2 * 2\n",
        "print(\"Периметр: \", r)\n"
      ]
    },
    {
      "cell_type": "code",
      "execution_count": null,
      "metadata": {
        "colab": {
          "base_uri": "https://localhost:8080/"
        },
        "id": "65qrBo6ntDDL",
        "outputId": "7bad4330-77c3-446e-9cec-75035c1f54bb"
      },
      "outputs": [
        {
          "name": "stdout",
          "output_type": "stream",
          "text": [
            "Введите сторону квадрата: 3\n",
            "\n",
            "Вывод: \n",
            "Периметр:  12\n",
            "Площадь:  9\n",
            "\n",
            "Введите длину прямоугольника: 3\n",
            "Введите ширину прямоугольника: 4\n",
            "\n",
            "Вывод: \n",
            "Периметр:  14\n",
            "Площадь:  12\n"
          ]
        }
      ],
      "source": [
        "square = int(input('Введите сторону квадрата: '))\n",
        "print()\n",
        "print('Вывод: ')\n",
        "print('Периметр: ', 4 * square)\n",
        "print('Площадь: ', square ** 2)\n",
        "print()\n",
        "side_a = int(input('Введите длину прямоугольника: '))\n",
        "side_b = int(input('Введите ширину прямоугольника: '))\n",
        "print()\n",
        "print('Вывод: ')\n",
        "print('Периметр: ', (side_a + side_b) * 2)\n",
        "print('Площадь: ', side_a * side_b)"
      ]
    },
    {
      "cell_type": "code",
      "execution_count": null,
      "metadata": {
        "colab": {
          "base_uri": "https://localhost:8080/"
        },
        "id": "p9EMfGknt8sO",
        "outputId": "c1220f5b-9e91-465a-db5c-1882cdf7033a"
      },
      "outputs": [
        {
          "name": "stdout",
          "output_type": "stream",
          "text": [
            "side: 3\n",
            "периметр:  12 площадь:  9\n",
            "Введите длину прямоугольника:: 4\n",
            "Введите ширину прямоугольника: 3\n",
            "периметр:  14 площадь:  12\n"
          ]
        }
      ],
      "source": [
        "a = int(input('side: '))\n",
        "p = a * 4\n",
        "s = a ** 2\n",
        "print('периметр: ', p, 'площадь: ', s)\n",
        "side = int(input('Введите длину прямоугольника:: '))\n",
        "h = int(input('Введите ширину прямоугольника: '))\n",
        "p1 = (side + h) * 2\n",
        "s2 = side * h\n",
        "print('периметр: ', p1, 'площадь: ', s2)"
      ]
    },
    {
      "cell_type": "code",
      "execution_count": null,
      "metadata": {
        "colab": {
          "base_uri": "https://localhost:8080/"
        },
        "id": "LRPa0-IiuKRd",
        "outputId": "c283591b-c965-4821-f41a-f324079a36df"
      },
      "outputs": [
        {
          "name": "stdout",
          "output_type": "stream",
          "text": [
            "Введите длину стороны квадрата:3\n",
            "Периметр 12\n",
            "Площадь:  9\n",
            "Введите длину прямоугольника: 4\n",
            "Введите ширину прямоугольника: 3\n",
            "Периметр 14\n",
            "Площадь:  12\n"
          ]
        }
      ],
      "source": [
        "a = int(input('Введите длину стороны квадрата:'))\n",
        "print('Периметр', a*4)\n",
        "print('Площадь: ', a**2)\n",
        "b=int(input('Введите длину прямоугольника: '))\n",
        "c=int(input('Введите ширину прямоугольника: '))\n",
        "print('Периметр', (b+c)*2)\n",
        "print('Площадь: ', b*c)"
      ]
    },
    {
      "cell_type": "markdown",
      "metadata": {
        "id": "6rL6p6gdCSIa"
      },
      "source": [
        "## Работа со строками\n",
        "\n",
        "Строки всегда создаются одним из трех способов. Вы можете использовать одинарные, двойные и тройные кавычки."
      ]
    },
    {
      "cell_type": "code",
      "execution_count": null,
      "metadata": {
        "colab": {
          "base_uri": "https://localhost:8080/"
        },
        "id": "O0XDqDaKwPDh",
        "outputId": "26d0ec4c-663c-48e8-c4cb-9e8b8cad6a2a"
      },
      "outputs": [
        {
          "name": "stdout",
          "output_type": "stream",
          "text": [
            "<class 'str'>\n"
          ]
        }
      ],
      "source": [
        "my_string = 'Hello World!'\n",
        "my_string_2 = \"Hello World\"\n",
        "print(type(my_string))"
      ]
    },
    {
      "cell_type": "markdown",
      "metadata": {
        "id": "YCYPCtfXvrWT"
      },
      "source": [
        "Это нужно для того, чтобы внутри строк использовать кавычки, как элементы текста"
      ]
    },
    {
      "cell_type": "code",
      "execution_count": null,
      "metadata": {
        "colab": {
          "base_uri": "https://localhost:8080/"
        },
        "id": "ulPXlclUvvkI",
        "outputId": "a35041e1-c554-4dc4-be29-2ea7b1477cbf"
      },
      "outputs": [
        {
          "name": "stdout",
          "output_type": "stream",
          "text": [
            "He said: \"Hello World!\"\n"
          ]
        }
      ],
      "source": [
        "my_string = 'He said: \"Hello World!\"'\n",
        "print(my_string)"
      ]
    },
    {
      "cell_type": "code",
      "execution_count": null,
      "metadata": {
        "colab": {
          "base_uri": "https://localhost:8080/",
          "height": 134
        },
        "id": "Q0UfOrfgv2U7",
        "outputId": "0d06a56c-d10e-431b-f6c4-0e1570f096d3"
      },
      "outputs": [
        {
          "ename": "SyntaxError",
          "evalue": "ignored",
          "output_type": "error",
          "traceback": [
            "\u001b[0;36m  File \u001b[0;32m\"<ipython-input-98-7656c2428b87>\"\u001b[0;36m, line \u001b[0;32m2\u001b[0m\n\u001b[0;31m    my_string = \"He said: \"Hello World!\"\"\u001b[0m\n\u001b[0m                               ^\u001b[0m\n\u001b[0;31mSyntaxError\u001b[0m\u001b[0;31m:\u001b[0m invalid syntax\n"
          ]
        }
      ],
      "source": [
        "# вот так, конечно, не получится\n",
        "my_string = \"He said: \"Hello World!\"\"\n",
        "print(my_string)"
      ]
    },
    {
      "cell_type": "markdown",
      "metadata": {
        "id": "3EZEhtV_wPDi"
      },
      "source": [
        "Если вы попытаетесь ввести многострочный текст, то так тоже не получится"
      ]
    },
    {
      "cell_type": "code",
      "execution_count": null,
      "metadata": {
        "colab": {
          "base_uri": "https://localhost:8080/",
          "height": 134
        },
        "id": "Fd9wjFcDwPDi",
        "outputId": "294dcc9f-b532-40a1-bdcf-f8418bef3d83"
      },
      "outputs": [
        {
          "ename": "SyntaxError",
          "evalue": "ignored",
          "output_type": "error",
          "traceback": [
            "\u001b[0;36m  File \u001b[0;32m\"<ipython-input-99-892285d9f4d7>\"\u001b[0;36m, line \u001b[0;32m1\u001b[0m\n\u001b[0;31m    my_string = 'Hello\u001b[0m\n\u001b[0m                       ^\u001b[0m\n\u001b[0;31mSyntaxError\u001b[0m\u001b[0;31m:\u001b[0m EOL while scanning string literal\n"
          ]
        }
      ],
      "source": [
        "my_string = 'Hello\n",
        "World!'"
      ]
    },
    {
      "cell_type": "markdown",
      "metadata": {
        "id": "WKjvYC9kwPDj"
      },
      "source": [
        "Можем использовать [экранированные последовательности](https://pythonworld.ru/tipy-dannyx-v-python/stroki-literaly-strok.html)"
      ]
    },
    {
      "cell_type": "code",
      "execution_count": null,
      "metadata": {
        "colab": {
          "base_uri": "https://localhost:8080/"
        },
        "id": "o4CbnRq6wPDj",
        "outputId": "6dd8cf3a-fbef-43c9-d089-b7277668251b"
      },
      "outputs": [
        {
          "name": "stdout",
          "output_type": "stream",
          "text": [
            "Hello\tWorld!\n"
          ]
        }
      ],
      "source": [
        "my_string = 'Hello\\nWorld!'\n",
        "print(my_string)"
      ]
    },
    {
      "cell_type": "markdown",
      "metadata": {
        "id": "I0-AKpEAwPDk"
      },
      "source": [
        "Можно использовать многострочные строки при помощи тройных кавычек. Кроме того, они позволяю внутри себя без проблем использовать кавычки обоих типов"
      ]
    },
    {
      "cell_type": "code",
      "execution_count": null,
      "metadata": {
        "colab": {
          "base_uri": "https://localhost:8080/"
        },
        "id": "OIzUuuIIwPDk",
        "outputId": "fe1ccf6a-0b97-4110-ef76-db902edd15eb"
      },
      "outputs": [
        {
          "name": "stdout",
          "output_type": "stream",
          "text": [
            "В такой \"строке\" мы можем\n",
            "'использовать' все.\n"
          ]
        }
      ],
      "source": [
        "multiline_string = \"\"\"В такой \"строке\" мы можем\n",
        "'использовать' все.\"\"\"\n",
        "print(multiline_string)"
      ]
    },
    {
      "cell_type": "markdown",
      "metadata": {
        "id": "nu8mo4fNwPDl"
      },
      "source": [
        "Действия над строками"
      ]
    },
    {
      "cell_type": "code",
      "execution_count": null,
      "metadata": {
        "colab": {
          "base_uri": "https://localhost:8080/"
        },
        "id": "S1EYB8K3JkQK",
        "outputId": "da698960-5ef6-4d2b-f74c-33de6db94f1d"
      },
      "outputs": [
        {
          "name": "stdout",
          "output_type": "stream",
          "text": [
            "False\n",
            "True\n",
            "True\n"
          ]
        }
      ],
      "source": [
        "# сравнение строк\n",
        "\n",
        "print('a' > 'b')\n",
        "print('a' > 'B')\n",
        "print('abc' > 'aba')"
      ]
    },
    {
      "cell_type": "code",
      "execution_count": null,
      "metadata": {
        "colab": {
          "base_uri": "https://localhost:8080/"
        },
        "id": "W8zW0nuRwPDl",
        "outputId": "2f0ab664-47a4-426c-cf72-043889e8d5ce"
      },
      "outputs": [
        {
          "name": "stdout",
          "output_type": "stream",
          "text": [
            "spam eggs\n"
          ]
        }
      ],
      "source": [
        "# конкатенация (сложение строк)\n",
        "s1 = 'spam '\n",
        "s2 = 'eggs'\n",
        "print(s1 + s2)"
      ]
    },
    {
      "cell_type": "code",
      "execution_count": null,
      "metadata": {
        "colab": {
          "base_uri": "https://localhost:8080/"
        },
        "id": "eqFMYWzDwPDm",
        "outputId": "26036ad4-55a3-4952-fe67-518b50c93f1b"
      },
      "outputs": [
        {
          "name": "stdout",
          "output_type": "stream",
          "text": [
            "**********\n"
          ]
        }
      ],
      "source": [
        "# умножение строки на число\n",
        "print('**' * 5)"
      ]
    },
    {
      "cell_type": "markdown",
      "metadata": {
        "id": "KdE-KQrXwPDm"
      },
      "source": [
        "Полный перечень строковых методом можно посмотреть [здесь](https://pythonist.ru/metody-strok-v-python/).\n",
        "\n",
        "Строки в Python неизменяемым типом данных, поэтому все методы строк всегда будут возвращать новую строку, а не менять исходную."
      ]
    },
    {
      "cell_type": "code",
      "execution_count": null,
      "metadata": {
        "colab": {
          "base_uri": "https://localhost:8080/"
        },
        "id": "N1hLsiViwPDl",
        "outputId": "8e72c04f-2c74-490c-c5ce-52e6c9ffd194"
      },
      "outputs": [
        {
          "name": "stdout",
          "output_type": "stream",
          "text": [
            "Help on class str in module builtins:\n",
            "\n",
            "class str(object)\n",
            " |  str(object='') -> str\n",
            " |  str(bytes_or_buffer[, encoding[, errors]]) -> str\n",
            " |  \n",
            " |  Create a new string object from the given object. If encoding or\n",
            " |  errors is specified, then the object must expose a data buffer\n",
            " |  that will be decoded using the given encoding and error handler.\n",
            " |  Otherwise, returns the result of object.__str__() (if defined)\n",
            " |  or repr(object).\n",
            " |  encoding defaults to sys.getdefaultencoding().\n",
            " |  errors defaults to 'strict'.\n",
            " |  \n",
            " |  Methods defined here:\n",
            " |  \n",
            " |  __add__(self, value, /)\n",
            " |      Return self+value.\n",
            " |  \n",
            " |  __contains__(self, key, /)\n",
            " |      Return key in self.\n",
            " |  \n",
            " |  __eq__(self, value, /)\n",
            " |      Return self==value.\n",
            " |  \n",
            " |  __format__(self, format_spec, /)\n",
            " |      Return a formatted version of the string as described by format_spec.\n",
            " |  \n",
            " |  __ge__(self, value, /)\n",
            " |      Return self>=value.\n",
            " |  \n",
            " |  __getattribute__(self, name, /)\n",
            " |      Return getattr(self, name).\n",
            " |  \n",
            " |  __getitem__(self, key, /)\n",
            " |      Return self[key].\n",
            " |  \n",
            " |  __getnewargs__(...)\n",
            " |  \n",
            " |  __gt__(self, value, /)\n",
            " |      Return self>value.\n",
            " |  \n",
            " |  __hash__(self, /)\n",
            " |      Return hash(self).\n",
            " |  \n",
            " |  __iter__(self, /)\n",
            " |      Implement iter(self).\n",
            " |  \n",
            " |  __le__(self, value, /)\n",
            " |      Return self<=value.\n",
            " |  \n",
            " |  __len__(self, /)\n",
            " |      Return len(self).\n",
            " |  \n",
            " |  __lt__(self, value, /)\n",
            " |      Return self<value.\n",
            " |  \n",
            " |  __mod__(self, value, /)\n",
            " |      Return self%value.\n",
            " |  \n",
            " |  __mul__(self, value, /)\n",
            " |      Return self*value.\n",
            " |  \n",
            " |  __ne__(self, value, /)\n",
            " |      Return self!=value.\n",
            " |  \n",
            " |  __repr__(self, /)\n",
            " |      Return repr(self).\n",
            " |  \n",
            " |  __rmod__(self, value, /)\n",
            " |      Return value%self.\n",
            " |  \n",
            " |  __rmul__(self, value, /)\n",
            " |      Return value*self.\n",
            " |  \n",
            " |  __sizeof__(self, /)\n",
            " |      Return the size of the string in memory, in bytes.\n",
            " |  \n",
            " |  __str__(self, /)\n",
            " |      Return str(self).\n",
            " |  \n",
            " |  capitalize(self, /)\n",
            " |      Return a capitalized version of the string.\n",
            " |      \n",
            " |      More specifically, make the first character have upper case and the rest lower\n",
            " |      case.\n",
            " |  \n",
            " |  casefold(self, /)\n",
            " |      Return a version of the string suitable for caseless comparisons.\n",
            " |  \n",
            " |  center(self, width, fillchar=' ', /)\n",
            " |      Return a centered string of length width.\n",
            " |      \n",
            " |      Padding is done using the specified fill character (default is a space).\n",
            " |  \n",
            " |  count(...)\n",
            " |      S.count(sub[, start[, end]]) -> int\n",
            " |      \n",
            " |      Return the number of non-overlapping occurrences of substring sub in\n",
            " |      string S[start:end].  Optional arguments start and end are\n",
            " |      interpreted as in slice notation.\n",
            " |  \n",
            " |  encode(self, /, encoding='utf-8', errors='strict')\n",
            " |      Encode the string using the codec registered for encoding.\n",
            " |      \n",
            " |      encoding\n",
            " |        The encoding in which to encode the string.\n",
            " |      errors\n",
            " |        The error handling scheme to use for encoding errors.\n",
            " |        The default is 'strict' meaning that encoding errors raise a\n",
            " |        UnicodeEncodeError.  Other possible values are 'ignore', 'replace' and\n",
            " |        'xmlcharrefreplace' as well as any other name registered with\n",
            " |        codecs.register_error that can handle UnicodeEncodeErrors.\n",
            " |  \n",
            " |  endswith(...)\n",
            " |      S.endswith(suffix[, start[, end]]) -> bool\n",
            " |      \n",
            " |      Return True if S ends with the specified suffix, False otherwise.\n",
            " |      With optional start, test S beginning at that position.\n",
            " |      With optional end, stop comparing S at that position.\n",
            " |      suffix can also be a tuple of strings to try.\n",
            " |  \n",
            " |  expandtabs(self, /, tabsize=8)\n",
            " |      Return a copy where all tab characters are expanded using spaces.\n",
            " |      \n",
            " |      If tabsize is not given, a tab size of 8 characters is assumed.\n",
            " |  \n",
            " |  find(...)\n",
            " |      S.find(sub[, start[, end]]) -> int\n",
            " |      \n",
            " |      Return the lowest index in S where substring sub is found,\n",
            " |      such that sub is contained within S[start:end].  Optional\n",
            " |      arguments start and end are interpreted as in slice notation.\n",
            " |      \n",
            " |      Return -1 on failure.\n",
            " |  \n",
            " |  format(...)\n",
            " |      S.format(*args, **kwargs) -> str\n",
            " |      \n",
            " |      Return a formatted version of S, using substitutions from args and kwargs.\n",
            " |      The substitutions are identified by braces ('{' and '}').\n",
            " |  \n",
            " |  format_map(...)\n",
            " |      S.format_map(mapping) -> str\n",
            " |      \n",
            " |      Return a formatted version of S, using substitutions from mapping.\n",
            " |      The substitutions are identified by braces ('{' and '}').\n",
            " |  \n",
            " |  index(...)\n",
            " |      S.index(sub[, start[, end]]) -> int\n",
            " |      \n",
            " |      Return the lowest index in S where substring sub is found, \n",
            " |      such that sub is contained within S[start:end].  Optional\n",
            " |      arguments start and end are interpreted as in slice notation.\n",
            " |      \n",
            " |      Raises ValueError when the substring is not found.\n",
            " |  \n",
            " |  isalnum(self, /)\n",
            " |      Return True if the string is an alpha-numeric string, False otherwise.\n",
            " |      \n",
            " |      A string is alpha-numeric if all characters in the string are alpha-numeric and\n",
            " |      there is at least one character in the string.\n",
            " |  \n",
            " |  isalpha(self, /)\n",
            " |      Return True if the string is an alphabetic string, False otherwise.\n",
            " |      \n",
            " |      A string is alphabetic if all characters in the string are alphabetic and there\n",
            " |      is at least one character in the string.\n",
            " |  \n",
            " |  isascii(self, /)\n",
            " |      Return True if all characters in the string are ASCII, False otherwise.\n",
            " |      \n",
            " |      ASCII characters have code points in the range U+0000-U+007F.\n",
            " |      Empty string is ASCII too.\n",
            " |  \n",
            " |  isdecimal(self, /)\n",
            " |      Return True if the string is a decimal string, False otherwise.\n",
            " |      \n",
            " |      A string is a decimal string if all characters in the string are decimal and\n",
            " |      there is at least one character in the string.\n",
            " |  \n",
            " |  isdigit(self, /)\n",
            " |      Return True if the string is a digit string, False otherwise.\n",
            " |      \n",
            " |      A string is a digit string if all characters in the string are digits and there\n",
            " |      is at least one character in the string.\n",
            " |  \n",
            " |  isidentifier(self, /)\n",
            " |      Return True if the string is a valid Python identifier, False otherwise.\n",
            " |      \n",
            " |      Use keyword.iskeyword() to test for reserved identifiers such as \"def\" and\n",
            " |      \"class\".\n",
            " |  \n",
            " |  islower(self, /)\n",
            " |      Return True if the string is a lowercase string, False otherwise.\n",
            " |      \n",
            " |      A string is lowercase if all cased characters in the string are lowercase and\n",
            " |      there is at least one cased character in the string.\n",
            " |  \n",
            " |  isnumeric(self, /)\n",
            " |      Return True if the string is a numeric string, False otherwise.\n",
            " |      \n",
            " |      A string is numeric if all characters in the string are numeric and there is at\n",
            " |      least one character in the string.\n",
            " |  \n",
            " |  isprintable(self, /)\n",
            " |      Return True if the string is printable, False otherwise.\n",
            " |      \n",
            " |      A string is printable if all of its characters are considered printable in\n",
            " |      repr() or if it is empty.\n",
            " |  \n",
            " |  isspace(self, /)\n",
            " |      Return True if the string is a whitespace string, False otherwise.\n",
            " |      \n",
            " |      A string is whitespace if all characters in the string are whitespace and there\n",
            " |      is at least one character in the string.\n",
            " |  \n",
            " |  istitle(self, /)\n",
            " |      Return True if the string is a title-cased string, False otherwise.\n",
            " |      \n",
            " |      In a title-cased string, upper- and title-case characters may only\n",
            " |      follow uncased characters and lowercase characters only cased ones.\n",
            " |  \n",
            " |  isupper(self, /)\n",
            " |      Return True if the string is an uppercase string, False otherwise.\n",
            " |      \n",
            " |      A string is uppercase if all cased characters in the string are uppercase and\n",
            " |      there is at least one cased character in the string.\n",
            " |  \n",
            " |  join(self, iterable, /)\n",
            " |      Concatenate any number of strings.\n",
            " |      \n",
            " |      The string whose method is called is inserted in between each given string.\n",
            " |      The result is returned as a new string.\n",
            " |      \n",
            " |      Example: '.'.join(['ab', 'pq', 'rs']) -> 'ab.pq.rs'\n",
            " |  \n",
            " |  ljust(self, width, fillchar=' ', /)\n",
            " |      Return a left-justified string of length width.\n",
            " |      \n",
            " |      Padding is done using the specified fill character (default is a space).\n",
            " |  \n",
            " |  lower(self, /)\n",
            " |      Return a copy of the string converted to lowercase.\n",
            " |  \n",
            " |  lstrip(self, chars=None, /)\n",
            " |      Return a copy of the string with leading whitespace removed.\n",
            " |      \n",
            " |      If chars is given and not None, remove characters in chars instead.\n",
            " |  \n",
            " |  partition(self, sep, /)\n",
            " |      Partition the string into three parts using the given separator.\n",
            " |      \n",
            " |      This will search for the separator in the string.  If the separator is found,\n",
            " |      returns a 3-tuple containing the part before the separator, the separator\n",
            " |      itself, and the part after it.\n",
            " |      \n",
            " |      If the separator is not found, returns a 3-tuple containing the original string\n",
            " |      and two empty strings.\n",
            " |  \n",
            " |  replace(self, old, new, count=-1, /)\n",
            " |      Return a copy with all occurrences of substring old replaced by new.\n",
            " |      \n",
            " |        count\n",
            " |          Maximum number of occurrences to replace.\n",
            " |          -1 (the default value) means replace all occurrences.\n",
            " |      \n",
            " |      If the optional argument count is given, only the first count occurrences are\n",
            " |      replaced.\n",
            " |  \n",
            " |  rfind(...)\n",
            " |      S.rfind(sub[, start[, end]]) -> int\n",
            " |      \n",
            " |      Return the highest index in S where substring sub is found,\n",
            " |      such that sub is contained within S[start:end].  Optional\n",
            " |      arguments start and end are interpreted as in slice notation.\n",
            " |      \n",
            " |      Return -1 on failure.\n",
            " |  \n",
            " |  rindex(...)\n",
            " |      S.rindex(sub[, start[, end]]) -> int\n",
            " |      \n",
            " |      Return the highest index in S where substring sub is found,\n",
            " |      such that sub is contained within S[start:end].  Optional\n",
            " |      arguments start and end are interpreted as in slice notation.\n",
            " |      \n",
            " |      Raises ValueError when the substring is not found.\n",
            " |  \n",
            " |  rjust(self, width, fillchar=' ', /)\n",
            " |      Return a right-justified string of length width.\n",
            " |      \n",
            " |      Padding is done using the specified fill character (default is a space).\n",
            " |  \n",
            " |  rpartition(self, sep, /)\n",
            " |      Partition the string into three parts using the given separator.\n",
            " |      \n",
            " |      This will search for the separator in the string, starting at the end. If\n",
            " |      the separator is found, returns a 3-tuple containing the part before the\n",
            " |      separator, the separator itself, and the part after it.\n",
            " |      \n",
            " |      If the separator is not found, returns a 3-tuple containing two empty strings\n",
            " |      and the original string.\n",
            " |  \n",
            " |  rsplit(self, /, sep=None, maxsplit=-1)\n",
            " |      Return a list of the words in the string, using sep as the delimiter string.\n",
            " |      \n",
            " |        sep\n",
            " |          The delimiter according which to split the string.\n",
            " |          None (the default value) means split according to any whitespace,\n",
            " |          and discard empty strings from the result.\n",
            " |        maxsplit\n",
            " |          Maximum number of splits to do.\n",
            " |          -1 (the default value) means no limit.\n",
            " |      \n",
            " |      Splits are done starting at the end of the string and working to the front.\n",
            " |  \n",
            " |  rstrip(self, chars=None, /)\n",
            " |      Return a copy of the string with trailing whitespace removed.\n",
            " |      \n",
            " |      If chars is given and not None, remove characters in chars instead.\n",
            " |  \n",
            " |  split(self, /, sep=None, maxsplit=-1)\n",
            " |      Return a list of the words in the string, using sep as the delimiter string.\n",
            " |      \n",
            " |      sep\n",
            " |        The delimiter according which to split the string.\n",
            " |        None (the default value) means split according to any whitespace,\n",
            " |        and discard empty strings from the result.\n",
            " |      maxsplit\n",
            " |        Maximum number of splits to do.\n",
            " |        -1 (the default value) means no limit.\n",
            " |  \n",
            " |  splitlines(self, /, keepends=False)\n",
            " |      Return a list of the lines in the string, breaking at line boundaries.\n",
            " |      \n",
            " |      Line breaks are not included in the resulting list unless keepends is given and\n",
            " |      true.\n",
            " |  \n",
            " |  startswith(...)\n",
            " |      S.startswith(prefix[, start[, end]]) -> bool\n",
            " |      \n",
            " |      Return True if S starts with the specified prefix, False otherwise.\n",
            " |      With optional start, test S beginning at that position.\n",
            " |      With optional end, stop comparing S at that position.\n",
            " |      prefix can also be a tuple of strings to try.\n",
            " |  \n",
            " |  strip(self, chars=None, /)\n",
            " |      Return a copy of the string with leading and trailing whitespace removed.\n",
            " |      \n",
            " |      If chars is given and not None, remove characters in chars instead.\n",
            " |  \n",
            " |  swapcase(self, /)\n",
            " |      Convert uppercase characters to lowercase and lowercase characters to uppercase.\n",
            " |  \n",
            " |  title(self, /)\n",
            " |      Return a version of the string where each word is titlecased.\n",
            " |      \n",
            " |      More specifically, words start with uppercased characters and all remaining\n",
            " |      cased characters have lower case.\n",
            " |  \n",
            " |  translate(self, table, /)\n",
            " |      Replace each character in the string using the given translation table.\n",
            " |      \n",
            " |        table\n",
            " |          Translation table, which must be a mapping of Unicode ordinals to\n",
            " |          Unicode ordinals, strings, or None.\n",
            " |      \n",
            " |      The table must implement lookup/indexing via __getitem__, for instance a\n",
            " |      dictionary or list.  If this operation raises LookupError, the character is\n",
            " |      left untouched.  Characters mapped to None are deleted.\n",
            " |  \n",
            " |  upper(self, /)\n",
            " |      Return a copy of the string converted to uppercase.\n",
            " |  \n",
            " |  zfill(self, width, /)\n",
            " |      Pad a numeric string with zeros on the left, to fill a field of the given width.\n",
            " |      \n",
            " |      The string is never truncated.\n",
            " |  \n",
            " |  ----------------------------------------------------------------------\n",
            " |  Static methods defined here:\n",
            " |  \n",
            " |  __new__(*args, **kwargs) from builtins.type\n",
            " |      Create and return a new object.  See help(type) for accurate signature.\n",
            " |  \n",
            " |  maketrans(x, y=None, z=None, /)\n",
            " |      Return a translation table usable for str.translate().\n",
            " |      \n",
            " |      If there is only one argument, it must be a dictionary mapping Unicode\n",
            " |      ordinals (integers) or characters to Unicode ordinals, strings or None.\n",
            " |      Character keys will be then converted to ordinals.\n",
            " |      If there are two arguments, they must be strings of equal length, and\n",
            " |      in the resulting dictionary, each character in x will be mapped to the\n",
            " |      character at the same position in y. If there is a third argument, it\n",
            " |      must be a string, whose characters will be mapped to None in the result.\n",
            "\n"
          ]
        }
      ],
      "source": [
        "help(str)"
      ]
    },
    {
      "cell_type": "code",
      "execution_count": null,
      "metadata": {
        "id": "e48oemonwPDm"
      },
      "outputs": [],
      "source": [
        "my_string = 'HELLO world!'"
      ]
    },
    {
      "cell_type": "code",
      "execution_count": null,
      "metadata": {
        "colab": {
          "base_uri": "https://localhost:8080/"
        },
        "id": "JK7eyl6-wPDn",
        "outputId": "94518d77-43a2-436d-bbf0-33636807fa35"
      },
      "outputs": [
        {
          "name": "stdout",
          "output_type": "stream",
          "text": [
            "HELLO WORLD!\n",
            "HELLO WORLD!\n",
            "HELLO world!\n"
          ]
        }
      ],
      "source": [
        "# приведение к верхнему регистру\n",
        "print(my_string.upper())\n",
        "new_string = my_string.upper()\n",
        "print(new_string)\n",
        "# my_string = my_string.upper()\n",
        "print(my_string)"
      ]
    },
    {
      "cell_type": "code",
      "execution_count": null,
      "metadata": {
        "colab": {
          "base_uri": "https://localhost:8080/"
        },
        "id": "aPk5DS8ywPDn",
        "outputId": "08172f0e-5091-4d31-ded0-32236f782a0f"
      },
      "outputs": [
        {
          "name": "stdout",
          "output_type": "stream",
          "text": [
            "hello world!\n"
          ]
        }
      ],
      "source": [
        "# приведение к нижнему регистру\n",
        "print(my_string.lower())"
      ]
    },
    {
      "cell_type": "code",
      "execution_count": null,
      "metadata": {
        "colab": {
          "base_uri": "https://localhost:8080/"
        },
        "id": "HWPO5VNowPDn",
        "outputId": "4d242217-c0ae-49c3-fa90-fcf71dbb5a83"
      },
      "outputs": [
        {
          "name": "stdout",
          "output_type": "stream",
          "text": [
            "Hello world!\n"
          ]
        }
      ],
      "source": [
        "# первая буква строки в верхнем регистре\n",
        "print(my_string.capitalize())"
      ]
    },
    {
      "cell_type": "code",
      "execution_count": null,
      "metadata": {
        "colab": {
          "base_uri": "https://localhost:8080/"
        },
        "id": "W9ni9Go_wPDn",
        "outputId": "46a32c59-5012-4dd4-e54b-7b4584b315c3"
      },
      "outputs": [
        {
          "name": "stdout",
          "output_type": "stream",
          "text": [
            "Hello World!\n"
          ]
        }
      ],
      "source": [
        "# первая буква каждого слова в верхнем регистре\n",
        "print(my_string.title())"
      ]
    },
    {
      "cell_type": "code",
      "execution_count": null,
      "metadata": {
        "colab": {
          "base_uri": "https://localhost:8080/"
        },
        "id": "aN2kLv_lwPDo",
        "outputId": "1276af9f-125d-4fea-8f7b-949b1a26039a"
      },
      "outputs": [
        {
          "name": "stdout",
          "output_type": "stream",
          "text": [
            "Goodbye world!\n"
          ]
        }
      ],
      "source": [
        "# заменяем подстроку в строке\n",
        "print(my_string.replace('HELLO', 'Goodbye'))"
      ]
    },
    {
      "cell_type": "code",
      "execution_count": null,
      "metadata": {
        "colab": {
          "base_uri": "https://localhost:8080/"
        },
        "id": "LtBj4EhJwPDo",
        "outputId": "d07e9242-2568-4a07-d47e-6654d569ba67"
      },
      "outputs": [
        {
          "name": "stdout",
          "output_type": "stream",
          "text": [
            "4\n",
            "4\n"
          ]
        }
      ],
      "source": [
        "# метод find() ищет подстроку в строке и возвращает индекс первого элемента найденной подстроки.\n",
        "# если подстрока не найдена, то возвращает -1.\n",
        "s = 'red blue orange white blue'\n",
        "print(s.find('b'))\n",
        "print(s.find('blue'))"
      ]
    },
    {
      "cell_type": "code",
      "execution_count": null,
      "metadata": {
        "colab": {
          "base_uri": "https://localhost:8080/"
        },
        "id": "1JDfygL_wPDq",
        "outputId": "5615cd49-ec09-4b20-a5f0-f55ef0eed56e"
      },
      "outputs": [
        {
          "name": "stdout",
          "output_type": "stream",
          "text": [
            "12\n"
          ]
        }
      ],
      "source": [
        "# определяем длину строки\n",
        "print(len(my_string))"
      ]
    },
    {
      "cell_type": "code",
      "execution_count": null,
      "metadata": {
        "colab": {
          "base_uri": "https://localhost:8080/"
        },
        "id": "Dqble_JqwPDq",
        "outputId": "3110efaa-5255-4f64-8428-ac6a71777f20"
      },
      "outputs": [
        {
          "name": "stdout",
          "output_type": "stream",
          "text": [
            "True\n",
            "False\n"
          ]
        }
      ],
      "source": [
        "# проверка вхождение подстроки в строку\n",
        "my_string = 'HELLO world!'\n",
        "target_string = 'world'\n",
        "print(target_string in my_string)\n",
        "print(target_string not in my_string)"
      ]
    },
    {
      "cell_type": "markdown",
      "metadata": {
        "id": "HDq-QZ_UwPDr"
      },
      "source": [
        "**[f-строки](https://blog.solidtalk.ru/f_strings)**\n",
        "\n",
        "Добавляя префикс f к строке можно встраивать в нее произвольные выражения при помощи фигурных скобок – { }."
      ]
    },
    {
      "cell_type": "code",
      "execution_count": null,
      "metadata": {
        "colab": {
          "base_uri": "https://localhost:8080/"
        },
        "id": "vWAjI25SwPDr",
        "outputId": "2ac329eb-84e7-4ab8-9236-d31803704231"
      },
      "outputs": [
        {
          "name": "stdout",
          "output_type": "stream",
          "text": [
            "Hello, my name is {name.capitalize()}, i know {lang} a bit\n"
          ]
        }
      ],
      "source": [
        "name = 'oleg'\n",
        "lang = 'python'\n",
        "my_str = f'Hello, my name is {name.capitalize()}, i know {lang} a bit'\n",
        "print(my_str)\n",
        "# print(type(my_str))"
      ]
    },
    {
      "cell_type": "markdown",
      "metadata": {
        "id": "kohJ7Byxirex"
      },
      "source": [
        "Можно разделять периоды чисел любым разделителем"
      ]
    },
    {
      "cell_type": "code",
      "execution_count": null,
      "metadata": {
        "colab": {
          "base_uri": "https://localhost:8080/"
        },
        "id": "nb0QYsTZiiGe",
        "outputId": "7d7bfeca-8431-4c83-b89e-40deee78c349"
      },
      "outputs": [
        {
          "name": "stdout",
          "output_type": "stream",
          "text": [
            "Годовая зарплата: $10,000,000\n"
          ]
        }
      ],
      "source": [
        "year_salary = 10000000\n",
        "\n",
        "print(f'Годовая зарплата: ${year_salary :,}')"
      ]
    },
    {
      "cell_type": "markdown",
      "metadata": {
        "id": "vNJl0kXqh8G9"
      },
      "source": [
        "Можно представлять числа с округлением до нужного количества знаков"
      ]
    },
    {
      "cell_type": "code",
      "execution_count": null,
      "metadata": {
        "colab": {
          "base_uri": "https://localhost:8080/",
          "height": 206
        },
        "id": "B0d8X-PmwPDs",
        "outputId": "a13c75c0-9a48-4098-e476-26b1c3628656"
      },
      "outputs": [
        {
          "ename": "ValueError",
          "evalue": "ignored",
          "output_type": "error",
          "traceback": [
            "\u001b[0;31m---------------------------------------------------------------------------\u001b[0m",
            "\u001b[0;31mValueError\u001b[0m                                Traceback (most recent call last)",
            "\u001b[0;32m<ipython-input-136-549dbf4a0420>\u001b[0m in \u001b[0;36m<module>\u001b[0;34m()\u001b[0m\n\u001b[1;32m      1\u001b[0m \u001b[0mpi_value\u001b[0m \u001b[0;34m=\u001b[0m \u001b[0;36m3.141592653589793\u001b[0m\u001b[0;34m\u001b[0m\u001b[0;34m\u001b[0m\u001b[0m\n\u001b[1;32m      2\u001b[0m \u001b[0;34m\u001b[0m\u001b[0m\n\u001b[0;32m----> 3\u001b[0;31m \u001b[0mprint\u001b[0m\u001b[0;34m(\u001b[0m\u001b[0;34mf'Число Пи: {pi_value :.-2f}'\u001b[0m\u001b[0;34m)\u001b[0m\u001b[0;34m\u001b[0m\u001b[0;34m\u001b[0m\u001b[0m\n\u001b[0m",
            "\u001b[0;31mValueError\u001b[0m: Format specifier missing precision"
          ]
        }
      ],
      "source": [
        "pi_value = 3.141592653589793\n",
        "\n",
        "print(f'Число Пи: {pi_value :.2f}')"
      ]
    },
    {
      "cell_type": "code",
      "execution_count": null,
      "metadata": {
        "colab": {
          "base_uri": "https://localhost:8080/"
        },
        "id": "hJl-zeL4zfGE",
        "outputId": "ef3c1cd8-b60f-4025-d92a-0db4c347aa87"
      },
      "outputs": [
        {
          "data": {
            "text/plain": [
              "2"
            ]
          },
          "execution_count": 135,
          "metadata": {},
          "output_type": "execute_result"
        }
      ],
      "source": [
        "number = 123456\n",
        "\n",
        "number_1 = number % 10\n",
        "number_1\n",
        "number_2 = number // 100000\n",
        "number_2\n",
        "number_3 = number // 10000 % 10\n",
        "number_3"
      ]
    },
    {
      "cell_type": "markdown",
      "metadata": {
        "id": "gAgqIV6fdb-i"
      },
      "source": [
        "**Практика**\n",
        "\n",
        "Выведите результат в виде:\n",
        "```\n",
        "Pluto weighs about 1.3e+22 kilograms (0.218% of Earth's mass). It is home to 52,910,390 Plutonians.\n",
        "```"
      ]
    },
    {
      "cell_type": "code",
      "execution_count": null,
      "metadata": {
        "id": "aVeAnbGqdbaH"
      },
      "outputs": [],
      "source": [
        "planet = 'pluto'\n",
        "pluto_mass = 1.303 * 10**22\n",
        "earth_mass = 5.9722 * 10**24\n",
        "population = 52910390"
      ]
    },
    {
      "cell_type": "code",
      "execution_count": null,
      "metadata": {
        "colab": {
          "base_uri": "https://localhost:8080/",
          "height": 36
        },
        "id": "niMc9wUIyMFa",
        "outputId": "bfccc071-a60a-4c8a-c356-0ac2b07a5994"
      },
      "outputs": [
        {
          "data": {
            "application/vnd.google.colaboratory.intrinsic+json": {
              "type": "string"
            },
            "text/plain": [
              "\"Pluto weighs about 1.3e+22 kilograms (0.218% of Earth's mass). It is home to 52,910,390 Plutonians.\""
            ]
          },
          "execution_count": 128,
          "metadata": {},
          "output_type": "execute_result"
        }
      ],
      "source": [
        "res = f\"{planet.title()} weighs about {pluto_mass :.1e} kilograms ({pluto_mass / earth_mass :.3%} of Earth's mass). It is home to {population :,} Plutonians.\"\n",
        "res"
      ]
    },
    {
      "cell_type": "markdown",
      "metadata": {
        "id": "tNbqcywHj0_W"
      },
      "source": [
        "**Индексация и срезы**\n",
        "\n",
        "Индексация – доступ к элементам объекта по их порядковому номеру в нем. Индексация элементов начинается с нуля при прямой индексаций и с -1 (последний элемент) при обратной.\n",
        "\n",
        "Получить значение элемента по индексу можно при помощи `[ ]`,\n",
        "например: `my_string[0]` и `my_string[-6]` (при обратной индексации).\n",
        "\n",
        "Можно “доставать” из строки несколько элементов при помощи “срезов” (slicing). Для указания интервала среза используется `:`\n",
        "\n",
        "`some_string[START:STOP:STEP]` - берёт срез от номера `START`, до `STOP` не включая его, с шагом `STEP`. По умолчанию `START` = 0, `STOP` = длина объекта, `STEP` = 1. Какие-либо (а возможно, и все) параметры могут быть опущены."
      ]
    },
    {
      "cell_type": "code",
      "execution_count": null,
      "metadata": {
        "id": "Nt-KH_YxwPDs"
      },
      "outputs": [],
      "source": [
        "my_string = 'Hello World'"
      ]
    },
    {
      "cell_type": "code",
      "execution_count": null,
      "metadata": {
        "colab": {
          "base_uri": "https://localhost:8080/"
        },
        "id": "8rrcmScewPDt",
        "outputId": "fd7907d5-0c5d-47dc-f7bd-1432e9fcd89a"
      },
      "outputs": [
        {
          "name": "stdout",
          "output_type": "stream",
          "text": [
            "H\n"
          ]
        }
      ],
      "source": [
        "print(my_string[0])"
      ]
    },
    {
      "cell_type": "code",
      "execution_count": null,
      "metadata": {
        "colab": {
          "base_uri": "https://localhost:8080/",
          "height": 170
        },
        "id": "wxIOU3U1wPDt",
        "outputId": "1bb64155-9de1-4cee-a642-9a5923c8f471"
      },
      "outputs": [
        {
          "ename": "IndexError",
          "evalue": "ignored",
          "output_type": "error",
          "traceback": [
            "\u001b[0;31m---------------------------------------------------------------------------\u001b[0m",
            "\u001b[0;31mIndexError\u001b[0m                                Traceback (most recent call last)",
            "\u001b[0;32m<ipython-input-139-857e65174683>\u001b[0m in \u001b[0;36m<module>\u001b[0;34m()\u001b[0m\n\u001b[0;32m----> 1\u001b[0;31m \u001b[0mprint\u001b[0m\u001b[0;34m(\u001b[0m\u001b[0mmy_string\u001b[0m\u001b[0;34m[\u001b[0m\u001b[0;36m100\u001b[0m\u001b[0;34m]\u001b[0m\u001b[0;34m)\u001b[0m\u001b[0;34m\u001b[0m\u001b[0;34m\u001b[0m\u001b[0m\n\u001b[0m",
            "\u001b[0;31mIndexError\u001b[0m: string index out of range"
          ]
        }
      ],
      "source": [
        "print(my_string[100])"
      ]
    },
    {
      "cell_type": "code",
      "execution_count": null,
      "metadata": {
        "colab": {
          "base_uri": "https://localhost:8080/"
        },
        "id": "S-06jhQmwPDt",
        "outputId": "73f0785a-2393-41ad-f348-ed7f141f02d9"
      },
      "outputs": [
        {
          "name": "stdout",
          "output_type": "stream",
          "text": [
            "W\n"
          ]
        }
      ],
      "source": [
        "print(my_string[-5])"
      ]
    },
    {
      "cell_type": "code",
      "execution_count": null,
      "metadata": {
        "colab": {
          "base_uri": "https://localhost:8080/"
        },
        "id": "pKByS2_VwPDt",
        "outputId": "9d17d8fa-c475-4639-e205-ee22144f331f"
      },
      "outputs": [
        {
          "name": "stdout",
          "output_type": "stream",
          "text": [
            "lo Wo\n"
          ]
        }
      ],
      "source": [
        "print(my_string[3:8])"
      ]
    },
    {
      "cell_type": "code",
      "execution_count": null,
      "metadata": {
        "colab": {
          "base_uri": "https://localhost:8080/"
        },
        "id": "jcYD5ZlmwpyS",
        "outputId": "3a5a2e1a-252e-4c22-8fc5-09ab9ae4f9d9"
      },
      "outputs": [
        {
          "name": "stdout",
          "output_type": "stream",
          "text": [
            "el o\n"
          ]
        }
      ],
      "source": [
        "print(my_string[1:8:2])"
      ]
    },
    {
      "cell_type": "code",
      "execution_count": null,
      "metadata": {
        "colab": {
          "base_uri": "https://localhost:8080/"
        },
        "id": "5AD3jtSG04og",
        "outputId": "272d55c3-24bf-4aac-d5b2-bb326fd6523f"
      },
      "outputs": [
        {
          "name": "stdout",
          "output_type": "stream",
          "text": [
            " ol\n"
          ]
        }
      ],
      "source": [
        "print(my_string[5::2])"
      ]
    },
    {
      "cell_type": "code",
      "execution_count": null,
      "metadata": {
        "colab": {
          "base_uri": "https://localhost:8080/"
        },
        "id": "xKkIm9aiwwT8",
        "outputId": "ff46ac14-8ef3-47a3-c41f-785e13ff26fe"
      },
      "outputs": [
        {
          "name": "stdout",
          "output_type": "stream",
          "text": [
            "dlroW olleH\n"
          ]
        }
      ],
      "source": [
        "print(my_string[::-1])"
      ]
    },
    {
      "cell_type": "markdown",
      "metadata": {
        "id": "l39r5h_rCSJe"
      },
      "source": [
        "Т.к. строки являются неимзеняемым типом, то нельзя перезаписать какой-то отдельный символ или срез в строке."
      ]
    },
    {
      "cell_type": "code",
      "execution_count": null,
      "metadata": {
        "colab": {
          "base_uri": "https://localhost:8080/",
          "height": 170
        },
        "id": "1e1ncJObCSJf",
        "outputId": "c994fbf2-c126-4b96-b0b0-cea599788237",
        "scrolled": true
      },
      "outputs": [
        {
          "ename": "TypeError",
          "evalue": "ignored",
          "output_type": "error",
          "traceback": [
            "\u001b[0;31m---------------------------------------------------------------------------\u001b[0m",
            "\u001b[0;31mTypeError\u001b[0m                                 Traceback (most recent call last)",
            "\u001b[0;32m<ipython-input-147-7470e2dc20b8>\u001b[0m in \u001b[0;36m<module>\u001b[0;34m()\u001b[0m\n\u001b[0;32m----> 1\u001b[0;31m \u001b[0mmy_string\u001b[0m\u001b[0;34m[\u001b[0m\u001b[0;34m-\u001b[0m\u001b[0;36m1\u001b[0m\u001b[0;34m]\u001b[0m \u001b[0;34m=\u001b[0m \u001b[0;34m'!'\u001b[0m\u001b[0;34m\u001b[0m\u001b[0;34m\u001b[0m\u001b[0m\n\u001b[0m",
            "\u001b[0;31mTypeError\u001b[0m: 'str' object does not support item assignment"
          ]
        }
      ],
      "source": [
        "my_string[-1] = '!'"
      ]
    },
    {
      "cell_type": "markdown",
      "metadata": {
        "id": "SFgwtcgtwPDu"
      },
      "source": [
        "**Практика**.\n",
        "Дана переменная, в которой хранится текст из четного числа символов. Напишите код, который выводит на экран две средних буквы этой строки\n",
        "\n",
        "Примеры работы программы:\n",
        "\n",
        "`word = 'test'`  \n",
        "Результат:  \n",
        "`es`"
      ]
    },
    {
      "cell_type": "code",
      "execution_count": null,
      "metadata": {
        "id": "3P6QEr_wZY28"
      },
      "outputs": [],
      "source": [
        "word = 'test'"
      ]
    },
    {
      "cell_type": "code",
      "execution_count": null,
      "metadata": {
        "colab": {
          "base_uri": "https://localhost:8080/"
        },
        "id": "qMui6ECXwPDu",
        "outputId": "59c70a86-24df-4d6a-abc6-b66dc5103fbe"
      },
      "outputs": [
        {
          "name": "stdout",
          "output_type": "stream",
          "text": [
            "es\n"
          ]
        }
      ],
      "source": [
        "print(word[len(word)//2-1:len(word)//2+1])"
      ]
    },
    {
      "cell_type": "markdown",
      "metadata": {
        "id": "nLrBxG2UuXqQ"
      },
      "source": [
        "## Рекомендуемые материалы\n",
        "\n",
        "1. Тренажеры: https://t.me/solidtalk/94\n",
        "\n",
        "2. Литература:\n",
        " - А Byte of Python [англ. версия](https://python.swaroopch.com/), [рус. перевод](https://wombat.org.ua/AByteOfPython/AByteofPythonRussian-2.02.pdf). Легально, бесплатно, без СМС и регистрации.\n",
        " - Адитья Бхаргава, Грокаем алгоритмы. [На бумаге](https://bit.ly/3c4Drq3), [Электронная](https://bit.ly/3IWxklj). Бесплатно сами.\n",
        "\n"
      ]
    },
    {
      "cell_type": "markdown",
      "metadata": {
        "id": "n0u7ea-9TC6U"
      },
      "source": [
        "**Установка  и настройка Anaconda**\n",
        "\n",
        "\n",
        "https://www.anaconda.com/distribution/\n",
        "\n",
        "1. Запустите скачанный инсталлятор. В первом появившемся окне необходимо нажать “Next”.\n",
        "2. Далее следует принять лицензионное соглашение.\n",
        "3. Выберете одну из опций установки:\n",
        "\n",
        "    * Just Me – только для пользователя, запустившего установку;\n",
        "    * All Users – для всех пользователей. (для тех, кто планирует выйти за пределы анализа данных)\n",
        "    \n",
        "4. Укажите путь, по которому будет установлена Anaconda.\n",
        "5. Укажите дополнительные опции:\n",
        "\n",
        "    * Add Anaconda to the system PATH environment variable – добавить Anaconda в системную переменную PATH\n",
        "    * Register Anaconda as the system Python  – использовать Anaconda, как интерпретатор Python по умолчанию.\n",
        "\n",
        "6. Для начала установки нажмите на кнопку “Install”\n",
        "7. После установки программы запустите Jupyter Notebook  (наберите его в поиске)\n",
        "8. В результате запустится веб-сервер и среда разработки в браузере.\n",
        "9. Создайте ноутбук для разработки, для этого нажмите на кнопку New (в правом углу окна) и в появившемся списке выберете Python.\n"
      ]
    },
    {
      "cell_type": "markdown",
      "metadata": {
        "id": "7EGuFGDPuVom"
      },
      "source": [
        "# Спасибо за внимание!\n",
        "\n",
        "[Начало](#основы-python)"
      ]
    },
    {
      "cell_type": "markdown",
      "metadata": {},
      "source": [
        "[Начало](#основы-python)"
      ]
    }
  ],
  "metadata": {
    "colab": {
      "provenance": []
    },
    "kernelspec": {
      "display_name": "Python 3",
      "language": "python",
      "name": "python3"
    },
    "language_info": {
      "codemirror_mode": {
        "name": "ipython",
        "version": 3
      },
      "file_extension": ".py",
      "mimetype": "text/x-python",
      "name": "python",
      "nbconvert_exporter": "python",
      "pygments_lexer": "ipython3",
      "version": "3.10.9"
    }
  },
  "nbformat": 4,
  "nbformat_minor": 0
}
