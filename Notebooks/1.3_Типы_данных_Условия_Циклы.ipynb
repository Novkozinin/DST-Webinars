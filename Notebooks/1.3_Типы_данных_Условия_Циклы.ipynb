{
 "cells": [
  {
   "cell_type": "markdown",
   "metadata": {},
   "source": [
    "План:\n",
    "\n",
    "* Типы данных\n",
    "* Условия\n",
    "* Циклы\n",
    "\n",
    "Встпоенные типы данных:\n",
    "\n",
    "* Логический тип: bool\n",
    "* Числовые типы: int, float, complex\n",
    "* Последовательности: list, tuple, range\n",
    "* Строки: str\n",
    "* Бинарные типы:bytres, memory view, bytes array\n",
    "* Множества: set, frozen set\n",
    "* Коллекции: dict\n",
    "* Пустой тип: None"
   ]
  },
  {
   "cell_type": "code",
   "execution_count": 1,
   "metadata": {},
   "outputs": [
    {
     "data": {
      "text/plain": [
       "True"
      ]
     },
     "execution_count": 1,
     "metadata": {},
     "output_type": "execute_result"
    }
   ],
   "source": [
    "# Логический тип\n",
    "a = 7\n",
    "b = a > 5\n",
    "b"
   ]
  },
  {
   "cell_type": "markdown",
   "metadata": {},
   "source": [
    "* 1 приоритет *not* (Унарный оператор)\n",
    "* 2 приоритет *and* (Бинарный оператор)\n",
    "* 3 приоритет *or* (Унарный оператор)"
   ]
  },
  {
   "cell_type": "code",
   "execution_count": 2,
   "metadata": {},
   "outputs": [
    {
     "name": "stdout",
     "output_type": "stream",
     "text": [
      "<class 'int'>\n",
      "<class 'float'>\n",
      "<class 'complex'>\n",
      "<class 'float'>\n"
     ]
    }
   ],
   "source": [
    "# Числовые типы\n",
    "a = 100\n",
    "print(type(a))\n",
    "b = 10.2345\n",
    "print(type(b))\n",
    "c = 100 + 3j\n",
    "print(type(c))\n",
    "d = a + b\n",
    "print(type(d))"
   ]
  },
  {
   "cell_type": "code",
   "execution_count": 3,
   "metadata": {},
   "outputs": [
    {
     "name": "stdout",
     "output_type": "stream",
     "text": [
      "<class 'list'>\n",
      "<class 'tuple'>\n",
      "<class 'range'>\n",
      "<class 'str'>\n"
     ]
    }
   ],
   "source": [
    "# Последовательности\n",
    "my_list = [1,2,3,4]\n",
    "my_tuple = (1,2,3,4)\n",
    "my_range = range(1,10,2)\n",
    "my_str = 'Hello'\n",
    "my_str2 = \"Привет\"\n",
    "\n",
    "print(type(my_list))\n",
    "print(type(my_tuple))\n",
    "print(type(my_range))\n",
    "print(type(my_str2))"
   ]
  },
  {
   "cell_type": "code",
   "execution_count": 4,
   "metadata": {},
   "outputs": [
    {
     "data": {
      "text/plain": [
       "[3, 4]"
      ]
     },
     "execution_count": 4,
     "metadata": {},
     "output_type": "execute_result"
    }
   ],
   "source": [
    "# Нарезка\n",
    "my_list[2:4]"
   ]
  },
  {
   "cell_type": "code",
   "execution_count": 5,
   "metadata": {},
   "outputs": [
    {
     "data": {
      "text/plain": [
       "range(5, 9, 2)"
      ]
     },
     "execution_count": 5,
     "metadata": {},
     "output_type": "execute_result"
    }
   ],
   "source": [
    "my_range[2:4]"
   ]
  },
  {
   "cell_type": "code",
   "execution_count": 6,
   "metadata": {},
   "outputs": [
    {
     "data": {
      "text/plain": [
       "(1, 2, 3, 4, 1, 2, 3, 4)"
      ]
     },
     "execution_count": 6,
     "metadata": {},
     "output_type": "execute_result"
    }
   ],
   "source": [
    "# Объединение\n",
    "my_tuple + tuple(my_list)"
   ]
  },
  {
   "cell_type": "code",
   "execution_count": 7,
   "metadata": {},
   "outputs": [
    {
     "data": {
      "text/plain": [
       "[1, 2, 3, 4, 5]"
      ]
     },
     "execution_count": 7,
     "metadata": {},
     "output_type": "execute_result"
    }
   ],
   "source": [
    "my_list + [5]"
   ]
  },
  {
   "cell_type": "code",
   "execution_count": 8,
   "metadata": {},
   "outputs": [
    {
     "name": "stdout",
     "output_type": "stream",
     "text": [
      "[1, 2, 3, 4, 5]\n"
     ]
    }
   ],
   "source": [
    "my_list.append(5)\n",
    "print(my_list)"
   ]
  },
  {
   "cell_type": "code",
   "execution_count": 9,
   "metadata": {},
   "outputs": [
    {
     "data": {
      "text/plain": [
       "'HelloПривет'"
      ]
     },
     "execution_count": 9,
     "metadata": {},
     "output_type": "execute_result"
    }
   ],
   "source": [
    "my_str + my_str2"
   ]
  },
  {
   "cell_type": "code",
   "execution_count": 10,
   "metadata": {},
   "outputs": [
    {
     "name": "stdout",
     "output_type": "stream",
     "text": [
      "[1, 2, 3, 4, 5, 1, 2, 3, 4, 5, 1, 2, 3, 4, 5]\n",
      "HelloHelloHello\n"
     ]
    }
   ],
   "source": [
    "# Повторение\n",
    "print(my_list*3)\n",
    "print(my_str*3)"
   ]
  },
  {
   "cell_type": "code",
   "execution_count": 11,
   "metadata": {},
   "outputs": [
    {
     "data": {
      "text/plain": [
       "{1, 2, 3, 4, 5}"
      ]
     },
     "execution_count": 11,
     "metadata": {},
     "output_type": "execute_result"
    }
   ],
   "source": [
    "set(my_list*2)"
   ]
  },
  {
   "cell_type": "code",
   "execution_count": 12,
   "metadata": {},
   "outputs": [
    {
     "data": {
      "text/plain": [
       "{'name': 'Ivanov', 'age': 30}"
      ]
     },
     "execution_count": 12,
     "metadata": {},
     "output_type": "execute_result"
    }
   ],
   "source": [
    "# Словари\n",
    "\n",
    "my_dict = dict([('name', 'Ivanov'), ('age', 30)])\n",
    "my_dict"
   ]
  },
  {
   "cell_type": "code",
   "execution_count": 13,
   "metadata": {},
   "outputs": [
    {
     "data": {
      "text/plain": [
       "NoneType"
      ]
     },
     "execution_count": 13,
     "metadata": {},
     "output_type": "execute_result"
    }
   ],
   "source": [
    "# None\n",
    "a = None\n",
    "type(a)"
   ]
  },
  {
   "cell_type": "code",
   "execution_count": 14,
   "metadata": {},
   "outputs": [
    {
     "data": {
      "text/plain": [
       "True"
      ]
     },
     "execution_count": 14,
     "metadata": {},
     "output_type": "execute_result"
    }
   ],
   "source": [
    "isinstance(my_dict, dict)\n",
    "isinstance(a, type(None))"
   ]
  },
  {
   "cell_type": "code",
   "execution_count": 15,
   "metadata": {},
   "outputs": [
    {
     "data": {
      "text/plain": [
       "True"
      ]
     },
     "execution_count": 15,
     "metadata": {},
     "output_type": "execute_result"
    }
   ],
   "source": [
    "a is None"
   ]
  },
  {
   "cell_type": "code",
   "execution_count": 16,
   "metadata": {},
   "outputs": [
    {
     "data": {
      "text/plain": [
       "False"
      ]
     },
     "execution_count": 16,
     "metadata": {},
     "output_type": "execute_result"
    }
   ],
   "source": [
    "a is not None"
   ]
  },
  {
   "cell_type": "markdown",
   "metadata": {},
   "source": [
    "Условия"
   ]
  },
  {
   "cell_type": "code",
   "execution_count": 17,
   "metadata": {},
   "outputs": [
    {
     "name": "stdout",
     "output_type": "stream",
     "text": [
      "X is positive number\n"
     ]
    }
   ],
   "source": [
    "x = 5\n",
    "\n",
    "if x > 0:\n",
    "    print('X is positive number')\n",
    "elif x < 0:\n",
    "    print('x is negative number')\n",
    "else:\n",
    "    print('x is zero')"
   ]
  },
  {
   "cell_type": "code",
   "execution_count": 18,
   "metadata": {},
   "outputs": [
    {
     "name": "stdout",
     "output_type": "stream",
     "text": [
      "X is positive\n"
     ]
    }
   ],
   "source": [
    "# тенарный оператор\n",
    "\n",
    "result = 'X is positive' if x > 0 else 'X is negative or zero'\n",
    "print(result)"
   ]
  },
  {
   "cell_type": "markdown",
   "metadata": {},
   "source": [
    "Моржовый оператор или оператор слияния :="
   ]
  },
  {
   "cell_type": "code",
   "execution_count": 19,
   "metadata": {},
   "outputs": [
    {
     "name": "stdout",
     "output_type": "stream",
     "text": [
      "17 делится на 3 с остатком 2\n"
     ]
    }
   ],
   "source": [
    "x = 17\n",
    "y = 3\n",
    "\n",
    "if (n := x % y) == 0:\n",
    "    print (f'{x} делится на {y} без остатка')\n",
    "else:\n",
    "    print(f'{x} делится на {y} с остатком {n}')\n"
   ]
  },
  {
   "cell_type": "markdown",
   "metadata": {},
   "source": [
    "**Циклы**\n",
    "\n",
    "* for in\n",
    "* while\n",
    "\n",
    "Дополнительно:\n",
    "\n",
    "* continue\n",
    "* break\n",
    "* else"
   ]
  },
  {
   "cell_type": "code",
   "execution_count": 20,
   "metadata": {},
   "outputs": [
    {
     "name": "stdout",
     "output_type": "stream",
     "text": [
      "2\n",
      "4\n",
      "6\n",
      "8\n",
      "10\n"
     ]
    }
   ],
   "source": [
    "for item in my_list:\n",
    "    print(item * 2)"
   ]
  },
  {
   "cell_type": "code",
   "execution_count": 21,
   "metadata": {},
   "outputs": [
    {
     "name": "stdout",
     "output_type": "stream",
     "text": [
      "0\n",
      "1\n",
      "2\n",
      "3\n",
      "4\n"
     ]
    }
   ],
   "source": [
    "my_range = range(5)\n",
    "\n",
    "for item in my_range:\n",
    "    print(item)"
   ]
  },
  {
   "cell_type": "code",
   "execution_count": 22,
   "metadata": {},
   "outputs": [
    {
     "name": "stdout",
     "output_type": "stream",
     "text": [
      "I found number: 16\n"
     ]
    }
   ],
   "source": [
    "numbers = [17, 18, 19, 20, 16, 25]\n",
    "\n",
    "for num in numbers:\n",
    "    if num ** 0.5 == int(num ** 0.5):\n",
    "        print (f'I found number: {num}')\n",
    "        break"
   ]
  },
  {
   "cell_type": "code",
   "execution_count": 26,
   "metadata": {},
   "outputs": [
    {
     "name": "stdout",
     "output_type": "stream",
     "text": [
      "True\n"
     ]
    }
   ],
   "source": [
    "# Is the sentence polindrome?\n",
    "\n",
    "s = 'А лис, он умен - крыса сыр к нему носила'\n",
    "start, end = 0, len(s) - 1\n",
    "while start < end:\n",
    "    startChar, endChar = s[start].lower(), s[end].lower()\n",
    "    \n",
    "    if startChar.isalnum() and endChar.isalnum():\n",
    "        if startChar != endChar:\n",
    "            print (False)\n",
    "            break\n",
    "        else:\n",
    "            start, end = start +1, end - 1\n",
    "            continue\n",
    "    start, end = start + (not startChar.isalnum()), end - (not endChar.isalnum())\n",
    "else:\n",
    "    print(True)"
   ]
  },
  {
   "cell_type": "markdown",
   "metadata": {},
   "source": [
    "Задача 1. Есть список целых чисел и целевое значение.\n",
    "Вернуть индексы двух элементов списка, которые в сумме дают целевое значение."
   ]
  },
  {
   "cell_type": "code",
   "execution_count": 42,
   "metadata": {},
   "outputs": [
    {
     "name": "stdout",
     "output_type": "stream",
     "text": [
      "1 2\n"
     ]
    }
   ],
   "source": [
    "nums = [1, 7, 3, 11, 15]\n",
    "target = 10\n",
    "for i in range(len(nums)):\n",
    "    n = target - nums[i]\n",
    "    # print(n)\n",
    "    if n in nums[i + 1:]:\n",
    "        print(i, nums.index(n, i + 1))\n",
    "        break\n"
   ]
  },
  {
   "cell_type": "code",
   "execution_count": 46,
   "metadata": {},
   "outputs": [
    {
     "name": "stdout",
     "output_type": "stream",
     "text": [
      "{}\n",
      "{1: 0}\n",
      "{1: 0, 7: 1}\n",
      "1 2\n"
     ]
    }
   ],
   "source": [
    "d= {}\n",
    "for i in range(len(nums)):\n",
    "    m = target - nums[i]\n",
    "    print(d)\n",
    "    if m in d:\n",
    "        print(d[m], i)\n",
    "        break\n",
    "    else:\n",
    "        d[nums[i]] = i"
   ]
  },
  {
   "cell_type": "markdown",
   "metadata": {},
   "source": [
    "Задача 2. Дано 2 строки s и t\n",
    "Проверить не являются ли они анограммами."
   ]
  },
  {
   "cell_type": "code",
   "execution_count": 53,
   "metadata": {},
   "outputs": [
    {
     "name": "stdout",
     "output_type": "stream",
     "text": [
      "{'п': 1, 'и': 1, 'л': 1, 'а': 1}\n",
      "{'л': 1, 'и': 1, 'п': 1, 'а': 1}\n",
      "True\n"
     ]
    }
   ],
   "source": [
    "s = 'пила'\n",
    "t = 'липа'\n",
    "\n",
    "if len(s) == len(t):\n",
    "    d1 = dict()\n",
    "    d2 = dict()\n",
    "    for i in range(len(s)):\n",
    "        if s[i] in d1:\n",
    "            d1[s[i]] += 1\n",
    "        else:\n",
    "            d1[s[i]] = 1\n",
    "        if t[i] in d2:\n",
    "            d2[t[i]] += 1\n",
    "        else:\n",
    "            d2[t[i]] = 1\n",
    "    print(d1)\n",
    "    print(d2)\n",
    "    print(d1 == d2)\n",
    "else:\n",
    "    print(False)\n"
   ]
  },
  {
   "cell_type": "code",
   "execution_count": 66,
   "metadata": {},
   "outputs": [],
   "source": [
    "A = {'a':1,\n",
    "    'b':[2,4],\n",
    "    'c':3,\n",
    "    'd':[10,1]\n",
    "    }\n",
    "B = {'a':2,\n",
    "    'b':[1,6],\n",
    "    'c':5,\n",
    "    'e':[15,8]\n",
    "    }"
   ]
  },
  {
   "cell_type": "code",
   "execution_count": 67,
   "metadata": {},
   "outputs": [
    {
     "name": "stdout",
     "output_type": "stream",
     "text": [
      "{'a': [1, 2], 'b': [2, 4, 1, 6], 'c': [3, 5], 'd': [10, 1], 'e': [15, 8]}\n"
     ]
    }
   ],
   "source": [
    "# Нужно сложить два словаря А и В и ничего не потерять из каждого словаря\n",
    "C = A|B\n",
    "# print(C)\n",
    "for key, value in A.items():\n",
    "    if key in B:\n",
    "        if isinstance(value, list):\n",
    "            C[key] = value + B[key] if isinstance(B[key], list) else value + [B[key]]\n",
    "        else:\n",
    "            C[key] = [value] + B[key] if isinstance(B[key], list) else [value, B[key]]\n",
    "    else:\n",
    "        C[key] = value\n",
    "print(C)"
   ]
  }
 ],
 "metadata": {
  "kernelspec": {
   "display_name": "Python 3",
   "language": "python",
   "name": "python3"
  },
  "language_info": {
   "codemirror_mode": {
    "name": "ipython",
    "version": 3
   },
   "file_extension": ".py",
   "mimetype": "text/x-python",
   "name": "python",
   "nbconvert_exporter": "python",
   "pygments_lexer": "ipython3",
   "version": "3.10.9"
  },
  "orig_nbformat": 4
 },
 "nbformat": 4,
 "nbformat_minor": 2
}
