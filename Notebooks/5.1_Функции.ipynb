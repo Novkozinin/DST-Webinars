{
  "cells": [
    {
      "cell_type": "markdown",
      "metadata": {
        "id": "djL0UFMoIgyt"
      },
      "source": [
        "# Функции\n",
        "\n",
        "Булыгин Олег:  \n",
        "* [LinkedIn](linkedin.com/in/obulygin)  \n",
        "* [Мой канал в ТГ по Python](https://t.me/pythontalk_ru)\n",
        "* [Чат канала](https://t.me/pythontalk_chat)\n",
        "* [Блог в Телетайпе](https://teletype.in/@pythontalk)"
      ]
    },
    {
      "cell_type": "markdown",
      "metadata": {
        "id": "-uLwA64gd7PQ"
      },
      "source": [
        "## План\n",
        "- основы;  \n",
        "- return;  \n",
        "- области видимости;\n",
        "- параметры функций;\n",
        "- составной пример;\n",
        "- lambda, map, filter;\n",
        "- цикл, рекурсия, reduce.\n",
        "\n"
      ]
    },
    {
      "cell_type": "markdown",
      "metadata": {
        "id": "pc8i9xaId7PQ"
      },
      "source": [
        "Функции – это обособленный участок кода, который можно вызывать, обратившись к нему по имени, которым он был назван (подпрограмма).\n",
        "Это объект, принимающий аргументы и возвращающий значение."
      ]
    },
    {
      "cell_type": "markdown",
      "metadata": {
        "id": "P04F-7Ntd7PR"
      },
      "source": [
        "Функции помогают избежать дублирования кода, улучшить его структурированность и читаемость."
      ]
    },
    {
      "cell_type": "markdown",
      "metadata": {
        "id": "veWjkUwNIgzL"
      },
      "source": [
        "### Объявление функции\n",
        "\n",
        "Существуют некоторые правила для создания функций в Python:\n",
        "\n",
        "+ Блок функции начинается с ключевого слова def, после которого следуют название функции и круглые скобки ()\n",
        "\n",
        "+ Любые аргументы, которые принимает функция должны находиться внутри этих скобок.\n",
        "\n",
        "+ После скобок идет двоеточие ( : ) и с новой строки с отступом начинается тело функции.\n"
      ]
    },
    {
      "cell_type": "code",
      "execution_count": 10,
      "metadata": {
        "id": "RWlt-EMpIgzN"
      },
      "outputs": [
        {
          "name": "stdout",
          "output_type": "stream",
          "text": [
            "Эта наша первая функция\n"
          ]
        }
      ],
      "source": [
        "def my_function():\n",
        "    print('Эта наша первая функция')\n",
        "\n",
        "\n",
        "my_function()"
      ]
    },
    {
      "cell_type": "markdown",
      "metadata": {
        "id": "ahaklUj0Nw3u"
      },
      "source": [
        "Когда запустится строка 'Это наша первая функция'?"
      ]
    },
    {
      "cell_type": "code",
      "execution_count": 11,
      "metadata": {
        "colab": {
          "base_uri": "https://localhost:8080/"
        },
        "id": "Gtr_IAjRNmPs",
        "outputId": "8470e7b1-ce4b-4304-803e-49b9d147c71d"
      },
      "outputs": [
        {
          "name": "stdout",
          "output_type": "stream",
          "text": [
            "Раз\n",
            "Два\n",
            "Это наша первая функция\n"
          ]
        }
      ],
      "source": [
        "print('Раз')\n",
        "\n",
        "def your_function():\n",
        "    print('Это наша первая функция')\n",
        "\n",
        "\n",
        "print('Два')\n",
        "your_function()"
      ]
    },
    {
      "cell_type": "markdown",
      "metadata": {
        "id": "9UmnsAJTN5be"
      },
      "source": [
        "Есть **объявление** и **вызов** функции. Это разные процессы"
      ]
    },
    {
      "cell_type": "markdown",
      "metadata": {
        "id": "yQlxKfmHIgz6"
      },
      "source": [
        "### Функции придают программе структуру"
      ]
    },
    {
      "cell_type": "markdown",
      "metadata": {
        "id": "1FTFp8paIgz-"
      },
      "source": [
        "Польза функций не только в возможности многократного вызова одного и того же кода из разных мест программы. Не менее важно, что благодаря им программа обретает четкую структуру. Функции как бы разделяют ее на обособленные части, каждая из которых выполняет свою конкретную задачу.\n",
        "\n",
        "Пусть надо написать программу, вычисляющую площади разных фигур. Пользователь указывает, площадь какой фигуры он хочет вычислить. После этого вводит исходные данные. Например, длину и ширину в случае прямоугольника. Чтобы разделить поток выполнения на несколько ветвей, следует использовать оператор if-elif-else:"
      ]
    },
    {
      "cell_type": "code",
      "execution_count": 12,
      "metadata": {
        "colab": {
          "base_uri": "https://localhost:8080/"
        },
        "id": "dKIiW8aSIg0A",
        "outputId": "334bf8de-bc3a-4b60-b992-0d55f856d665"
      },
      "outputs": [
        {
          "name": "stdout",
          "output_type": "stream",
          "text": [
            "Площадь: 6.0\n"
          ]
        }
      ],
      "source": [
        "figure = input('1-прямоугольник, 2-треугольник, 3-круг: ')\n",
        "\n",
        "if figure == '1':\n",
        "    a = float(input('Ширина: '))\n",
        "    b = float(input('Высота: '))\n",
        "    print(f'Площадь: {a*b}')\n",
        "elif figure == '2':\n",
        "    a = float(input('Основание: '))\n",
        "    h = float(input('Высота: '))\n",
        "    print(f'Площадь: {0.5 * a * h}')\n",
        "elif figure == '3':\n",
        "    r = float(input('Радиус: '))\n",
        "    print(f'Площадь: {3.14 * r**2}')\n",
        "else:\n",
        "    print('Ошибка ввода')"
      ]
    },
    {
      "cell_type": "code",
      "execution_count": 13,
      "metadata": {
        "colab": {
          "base_uri": "https://localhost:8080/"
        },
        "id": "X4eLEHn6Ig0G",
        "outputId": "ddcd0e37-7d39-4049-d784-c2767f4367e5"
      },
      "outputs": [
        {
          "name": "stdout",
          "output_type": "stream",
          "text": [
            "Ошибка ввода\n"
          ]
        }
      ],
      "source": [
        "def rectangle():\n",
        "    a = float(input('Ширина: '))\n",
        "    b = float(input('Высота: '))\n",
        "    print(f'Площадь: {a*b}')\n",
        "\n",
        "def triangle():\n",
        "    a = float(input('Основание: '))\n",
        "    h = float(input('Высота: '))\n",
        "    print(f'Площадь: {0.5 * a * h}')\n",
        "\n",
        "def circle():\n",
        "    r = float(input('Радиус: '))\n",
        "    print(f'Площадь: {3.14 * r**2}')\n",
        "\n",
        "def main():\n",
        "    figure = input('1-прямоугольник, 2-треугольник, 3-круг: ')\n",
        "    if figure == '1':\n",
        "        rectangle()\n",
        "    elif figure == '2':\n",
        "        triangle()\n",
        "    elif figure == '3':\n",
        "        circle()\n",
        "    else:\n",
        "        print('Ошибка ввода')\n",
        "\n",
        "main()"
      ]
    },
    {
      "cell_type": "markdown",
      "metadata": {
        "id": "v4Xh1dEWIg0e"
      },
      "source": [
        "Из общей логики программы как бы убраны и обособлены инструкции для нахождения площадей. Программа теперь состоит из отдельных 'кирпичиков Лего'. В основной ветке мы можем комбинировать их как угодно. Она играет роль управляющего механизма.\n",
        "\n",
        "Если нам когда-нибудь захочется вычислять площадь треугольника по формуле Герона, а не через высоту, то не придется искать код во всей программе (представьте, что она состоит из тысяч строк кода как реальные программы). Мы пойдем к месту определения функций и изменим тело одной из них.\n",
        "\n",
        "Если понадобиться использовать эти функции в какой-нибудь другой программе, то мы сможем импортировать их туда, сославшись на данный файл с кодом."
      ]
    },
    {
      "cell_type": "markdown",
      "metadata": {
        "id": "4oBO1B9jIgzh"
      },
      "source": [
        "### Ключевое слово return\n",
        "\n",
        "* Выражение return прекращает выполнение функции и возвращает указанное после выражения значение.\n",
        "\n",
        "* Выражение return без аргументов это то же самое, что и выражение return None.\n",
        "\n",
        "* То, что функция возвращает можно присваивать какой-либо переменной."
      ]
    },
    {
      "cell_type": "code",
      "execution_count": 14,
      "metadata": {
        "colab": {
          "base_uri": "https://localhost:8080/"
        },
        "id": "n_ohL5N9ONTL",
        "outputId": "8a0163f0-79aa-47cc-c6e6-0dbb270b1b9e"
      },
      "outputs": [
        {
          "ename": "ValueError",
          "evalue": "invalid literal for int() with base 10: ''",
          "output_type": "error",
          "traceback": [
            "\u001b[1;31m---------------------------------------------------------------------------\u001b[0m",
            "\u001b[1;31mValueError\u001b[0m                                Traceback (most recent call last)",
            "\u001b[1;32mc:\\Users\\igork\\OneDrive\\Документы\\GitHub\\DST-Webinars\\Notebooks\\5.1_Функции.ipynb Cell 16\u001b[0m line \u001b[0;36m6\n\u001b[0;32m      <a href='vscode-notebook-cell:/c%3A/Users/igork/OneDrive/%D0%94%D0%BE%D0%BA%D1%83%D0%BC%D0%B5%D0%BD%D1%82%D1%8B/GitHub/DST-Webinars/Notebooks/5.1_%D0%A4%D1%83%D0%BD%D0%BA%D1%86%D0%B8%D0%B8.ipynb#X21sZmlsZQ%3D%3D?line=2'>3</a>\u001b[0m     result \u001b[39m=\u001b[39m user_input \u001b[39m*\u001b[39m\u001b[39m*\u001b[39m \u001b[39m2\u001b[39m\n\u001b[0;32m      <a href='vscode-notebook-cell:/c%3A/Users/igork/OneDrive/%D0%94%D0%BE%D0%BA%D1%83%D0%BC%D0%B5%D0%BD%D1%82%D1%8B/GitHub/DST-Webinars/Notebooks/5.1_%D0%A4%D1%83%D0%BD%D0%BA%D1%86%D0%B8%D0%B8.ipynb#X21sZmlsZQ%3D%3D?line=3'>4</a>\u001b[0m     \u001b[39mreturn\u001b[39;00m result\n\u001b[1;32m----> <a href='vscode-notebook-cell:/c%3A/Users/igork/OneDrive/%D0%94%D0%BE%D0%BA%D1%83%D0%BC%D0%B5%D0%BD%D1%82%D1%8B/GitHub/DST-Webinars/Notebooks/5.1_%D0%A4%D1%83%D0%BD%D0%BA%D1%86%D0%B8%D0%B8.ipynb#X21sZmlsZQ%3D%3D?line=5'>6</a>\u001b[0m res \u001b[39m=\u001b[39m square()\n\u001b[0;32m      <a href='vscode-notebook-cell:/c%3A/Users/igork/OneDrive/%D0%94%D0%BE%D0%BA%D1%83%D0%BC%D0%B5%D0%BD%D1%82%D1%8B/GitHub/DST-Webinars/Notebooks/5.1_%D0%A4%D1%83%D0%BD%D0%BA%D1%86%D0%B8%D0%B8.ipynb#X21sZmlsZQ%3D%3D?line=6'>7</a>\u001b[0m \u001b[39mprint\u001b[39m(res)\n\u001b[0;32m      <a href='vscode-notebook-cell:/c%3A/Users/igork/OneDrive/%D0%94%D0%BE%D0%BA%D1%83%D0%BC%D0%B5%D0%BD%D1%82%D1%8B/GitHub/DST-Webinars/Notebooks/5.1_%D0%A4%D1%83%D0%BD%D0%BA%D1%86%D0%B8%D0%B8.ipynb#X21sZmlsZQ%3D%3D?line=7'>8</a>\u001b[0m \u001b[39m# когда вызываем функцию внутри print на экран выводится то, что она возвращает. В jupyter можно и без print\u001b[39;00m\n",
            "\u001b[1;32mc:\\Users\\igork\\OneDrive\\Документы\\GitHub\\DST-Webinars\\Notebooks\\5.1_Функции.ipynb Cell 16\u001b[0m line \u001b[0;36m2\n\u001b[0;32m      <a href='vscode-notebook-cell:/c%3A/Users/igork/OneDrive/%D0%94%D0%BE%D0%BA%D1%83%D0%BC%D0%B5%D0%BD%D1%82%D1%8B/GitHub/DST-Webinars/Notebooks/5.1_%D0%A4%D1%83%D0%BD%D0%BA%D1%86%D0%B8%D0%B8.ipynb#X21sZmlsZQ%3D%3D?line=0'>1</a>\u001b[0m \u001b[39mdef\u001b[39;00m \u001b[39msquare\u001b[39m():\n\u001b[1;32m----> <a href='vscode-notebook-cell:/c%3A/Users/igork/OneDrive/%D0%94%D0%BE%D0%BA%D1%83%D0%BC%D0%B5%D0%BD%D1%82%D1%8B/GitHub/DST-Webinars/Notebooks/5.1_%D0%A4%D1%83%D0%BD%D0%BA%D1%86%D0%B8%D0%B8.ipynb#X21sZmlsZQ%3D%3D?line=1'>2</a>\u001b[0m     user_input \u001b[39m=\u001b[39m \u001b[39mint\u001b[39;49m(\u001b[39minput\u001b[39;49m(\u001b[39m'\u001b[39;49m\u001b[39mВведите число\u001b[39;49m\u001b[39m'\u001b[39;49m))\n\u001b[0;32m      <a href='vscode-notebook-cell:/c%3A/Users/igork/OneDrive/%D0%94%D0%BE%D0%BA%D1%83%D0%BC%D0%B5%D0%BD%D1%82%D1%8B/GitHub/DST-Webinars/Notebooks/5.1_%D0%A4%D1%83%D0%BD%D0%BA%D1%86%D0%B8%D0%B8.ipynb#X21sZmlsZQ%3D%3D?line=2'>3</a>\u001b[0m     result \u001b[39m=\u001b[39m user_input \u001b[39m*\u001b[39m\u001b[39m*\u001b[39m \u001b[39m2\u001b[39m\n\u001b[0;32m      <a href='vscode-notebook-cell:/c%3A/Users/igork/OneDrive/%D0%94%D0%BE%D0%BA%D1%83%D0%BC%D0%B5%D0%BD%D1%82%D1%8B/GitHub/DST-Webinars/Notebooks/5.1_%D0%A4%D1%83%D0%BD%D0%BA%D1%86%D0%B8%D0%B8.ipynb#X21sZmlsZQ%3D%3D?line=3'>4</a>\u001b[0m     \u001b[39mreturn\u001b[39;00m result\n",
            "\u001b[1;31mValueError\u001b[0m: invalid literal for int() with base 10: ''"
          ]
        }
      ],
      "source": [
        "def square():\n",
        "    user_input = int(input('Введите число'))\n",
        "    result = user_input ** 2\n",
        "    return result\n",
        "\n",
        "res = square()\n",
        "print(res)\n",
        "# когда вызываем функцию внутри print на экран выводится то, что она возвращает. В jupyter можно и без print\n",
        "print(square())"
      ]
    },
    {
      "cell_type": "code",
      "execution_count": null,
      "metadata": {
        "colab": {
          "base_uri": "https://localhost:8080/"
        },
        "id": "9TE7U_m8d7PW",
        "outputId": "97e41b1e-534d-4d91-a4ff-25ea97e4badb"
      },
      "outputs": [
        {
          "name": "stdout",
          "output_type": "stream",
          "text": [
            "4\n",
            "None\n"
          ]
        }
      ],
      "source": [
        "# как думаете, что получим сейчас?\n",
        "def square():\n",
        "    user_input = int(input('Введите число'))\n",
        "    result = user_input ** 2\n",
        "    print(result)\n",
        "\n",
        "print(square())"
      ]
    },
    {
      "cell_type": "markdown",
      "metadata": {
        "id": "fPPXAGPHIg1Y"
      },
      "source": [
        "### Области видимости\n",
        "\n",
        "Область видимости (scope) определяет контекст объекта, в рамках которого его можно использовать.\n",
        "\n",
        "Рассмотрим 2 типа области видимости:\n",
        "\n",
        "* Локальная область видимости\n",
        "* Глобальная область видимости\n",
        "\n",
        "Глобальная область видимости подразумевает, что переменная является глобальной, она определена вне любой из функций и доступна любой функции в программе.\n",
        "\n",
        "В отличие от глобальных переменных локальная переменная определяется внутри функции и доступна только из этой функции, то есть имеет локальную область видимости."
      ]
    },
    {
      "cell_type": "code",
      "execution_count": null,
      "metadata": {
        "colab": {
          "base_uri": "https://localhost:8080/",
          "height": 210
        },
        "id": "JoUGUs04Ig1a",
        "outputId": "80a63edc-7fbe-410d-e06f-d384e6b77882"
      },
      "outputs": [
        {
          "name": "stdout",
          "output_type": "stream",
          "text": [
            "1600\n",
            "1050\n",
            "700\n"
          ]
        },
        {
          "ename": "NameError",
          "evalue": "name 'some_number' is not defined",
          "output_type": "error",
          "traceback": [
            "\u001b[1;31m---------------------------------------------------------------------------\u001b[0m",
            "\u001b[1;31mNameError\u001b[0m                                 Traceback (most recent call last)",
            "\u001b[1;32mc:\\Users\\igork\\OneDrive\\Документы\\GitHub\\DST-Webinars\\Notebooks\\5.1_Функции.ipynb Cell 19\u001b[0m line \u001b[0;36m2\n\u001b[0;32m     <a href='vscode-notebook-cell:/c%3A/Users/igork/OneDrive/%D0%94%D0%BE%D0%BA%D1%83%D0%BC%D0%B5%D0%BD%D1%82%D1%8B/GitHub/DST-Webinars/Notebooks/5.1_%D0%A4%D1%83%D0%BD%D0%BA%D1%86%D0%B8%D0%B8.ipynb#X24sZmlsZQ%3D%3D?line=19'>20</a>\u001b[0m info_2()\n\u001b[0;32m     <a href='vscode-notebook-cell:/c%3A/Users/igork/OneDrive/%D0%94%D0%BE%D0%BA%D1%83%D0%BC%D0%B5%D0%BD%D1%82%D1%8B/GitHub/DST-Webinars/Notebooks/5.1_%D0%A4%D1%83%D0%BD%D0%BA%D1%86%D0%B8%D0%B8.ipynb#X24sZmlsZQ%3D%3D?line=20'>21</a>\u001b[0m local_info()\n\u001b[1;32m---> <a href='vscode-notebook-cell:/c%3A/Users/igork/OneDrive/%D0%94%D0%BE%D0%BA%D1%83%D0%BC%D0%B5%D0%BD%D1%82%D1%8B/GitHub/DST-Webinars/Notebooks/5.1_%D0%A4%D1%83%D0%BD%D0%BA%D1%86%D0%B8%D0%B8.ipynb#X24sZmlsZQ%3D%3D?line=21'>22</a>\u001b[0m \u001b[39mprint\u001b[39m(some_number)\n",
            "\u001b[1;31mNameError\u001b[0m: name 'some_number' is not defined"
          ]
        }
      ],
      "source": [
        "# глобальные переменные\n",
        "salary = 1000\n",
        "bonus = 600\n",
        "\n",
        "def info():\n",
        "    print(salary + bonus)\n",
        "\n",
        "def info_2():\n",
        "    bonus = 50\n",
        "    print(salary + bonus)\n",
        "\n",
        "def local_info():\n",
        "    salary = 500\n",
        "    bonus = 200\n",
        "    some_number = 1\n",
        "    print(salary + bonus)\n",
        "\n",
        "\n",
        "info()\n",
        "info_2()\n",
        "local_info()\n",
        "print(some_number)"
      ]
    },
    {
      "cell_type": "markdown",
      "metadata": {
        "id": "aBdoesrjd7Pb"
      },
      "source": [
        "### Параметры функции"
      ]
    },
    {
      "cell_type": "markdown",
      "metadata": {
        "id": "BhY7_uxqd7Pb"
      },
      "source": [
        "Функция может принимать более 1 параметра (а может не принимать параметры вообще).\n",
        "\n",
        "Для всех параметров функций можно указывать значения по-умолчанию, это дает возможность вызвать функцию с меньшим числом параметров.\n",
        "\n"
      ]
    },
    {
      "cell_type": "markdown",
      "metadata": {
        "id": "G6_adbf2O_hF"
      },
      "source": [
        "Переменные в скобках – это параметры функции, которые мы указываем при объявлении функции. Когда мы её вызываем мы передаем в вызов аргументы. В нашем случае это будут числа."
      ]
    },
    {
      "cell_type": "code",
      "execution_count": null,
      "metadata": {
        "colab": {
          "base_uri": "https://localhost:8080/"
        },
        "id": "EHK_kqH3Igzj",
        "outputId": "b539003d-3b4b-4b79-f4da-dba4b2ee06dd"
      },
      "outputs": [
        {
          "name": "stdout",
          "output_type": "stream",
          "text": [
            "26\n"
          ]
        }
      ],
      "source": [
        "def bigger(a, b):\n",
        "    '''Эта функция сравнивает числа и выдает большее'''\n",
        "    if a > b:\n",
        "        return a\n",
        "    return b\n",
        "\n",
        "# присваиваем результат функции bigger переменной num\n",
        "num = bigger(26, 24)\n",
        "print(num)"
      ]
    },
    {
      "cell_type": "code",
      "execution_count": null,
      "metadata": {
        "colab": {
          "base_uri": "https://localhost:8080/"
        },
        "id": "g-mCORRUd7Pc",
        "outputId": "21bf286e-1240-4072-f403-363e5a25aadd"
      },
      "outputs": [
        {
          "name": "stdout",
          "output_type": "stream",
          "text": [
            "100\n"
          ]
        }
      ],
      "source": [
        "# функция с параметром по умолчанию\n",
        "# они всегда должны следовать параметрам без значения по умолчанию\n",
        "def power(number, number_2=2):\n",
        "    result = number ** number_2\n",
        "    return result\n",
        "print(power(10))"
      ]
    },
    {
      "cell_type": "markdown",
      "metadata": {
        "id": "Eoxt12iBd7Pc"
      },
      "source": [
        "Если при создании функции мы указали количество передаваемых ей аргументов и их порядок,\n",
        "то и вызывать ее мы должны с тем же количеством аргументов, заданных в нужном порядке.\n",
        "\n",
        "Если при вызове мы будем явно указывать имена аргументов, то их можно передавать в любом порядке"
      ]
    },
    {
      "cell_type": "code",
      "execution_count": null,
      "metadata": {
        "id": "glTwlsqed7Pc"
      },
      "outputs": [
        {
          "ename": "TypeError",
          "evalue": "power() takes from 1 to 2 positional arguments but 3 were given",
          "output_type": "error",
          "traceback": [
            "\u001b[1;31m---------------------------------------------------------------------------\u001b[0m",
            "\u001b[1;31mTypeError\u001b[0m                                 Traceback (most recent call last)",
            "\u001b[1;32mc:\\Users\\igork\\OneDrive\\Документы\\GitHub\\DST-Webinars\\Notebooks\\5.1_Функции.ipynb Cell 26\u001b[0m line \u001b[0;36m1\n\u001b[1;32m----> <a href='vscode-notebook-cell:/c%3A/Users/igork/OneDrive/%D0%94%D0%BE%D0%BA%D1%83%D0%BC%D0%B5%D0%BD%D1%82%D1%8B/GitHub/DST-Webinars/Notebooks/5.1_%D0%A4%D1%83%D0%BD%D0%BA%D1%86%D0%B8%D0%B8.ipynb#X34sZmlsZQ%3D%3D?line=0'>1</a>\u001b[0m \u001b[39mprint\u001b[39m(power(\u001b[39m2\u001b[39;49m, \u001b[39m3\u001b[39;49m, \u001b[39m1\u001b[39;49m))\n",
            "\u001b[1;31mTypeError\u001b[0m: power() takes from 1 to 2 positional arguments but 3 were given"
          ]
        }
      ],
      "source": [
        "print(power(2, 3, 1))"
      ]
    },
    {
      "cell_type": "code",
      "execution_count": null,
      "metadata": {
        "id": "DuIz2T3pd7Pd"
      },
      "outputs": [
        {
          "ename": "TypeError",
          "evalue": "power() missing 1 required positional argument: 'number'",
          "output_type": "error",
          "traceback": [
            "\u001b[1;31m---------------------------------------------------------------------------\u001b[0m",
            "\u001b[1;31mTypeError\u001b[0m                                 Traceback (most recent call last)",
            "\u001b[1;32mc:\\Users\\igork\\OneDrive\\Документы\\GitHub\\DST-Webinars\\Notebooks\\5.1_Функции.ipynb Cell 27\u001b[0m line \u001b[0;36m1\n\u001b[1;32m----> <a href='vscode-notebook-cell:/c%3A/Users/igork/OneDrive/%D0%94%D0%BE%D0%BA%D1%83%D0%BC%D0%B5%D0%BD%D1%82%D1%8B/GitHub/DST-Webinars/Notebooks/5.1_%D0%A4%D1%83%D0%BD%D0%BA%D1%86%D0%B8%D0%B8.ipynb#X35sZmlsZQ%3D%3D?line=0'>1</a>\u001b[0m \u001b[39mprint\u001b[39m(power())\n",
            "\u001b[1;31mTypeError\u001b[0m: power() missing 1 required positional argument: 'number'"
          ]
        }
      ],
      "source": [
        "print(power())"
      ]
    },
    {
      "cell_type": "code",
      "execution_count": null,
      "metadata": {
        "colab": {
          "base_uri": "https://localhost:8080/"
        },
        "id": "9WzJnXYBd7Pd",
        "outputId": "95baa2b7-2622-4b37-b9eb-9679a8d16c1f"
      },
      "outputs": [
        {
          "name": "stdout",
          "output_type": "stream",
          "text": [
            "8\n"
          ]
        }
      ],
      "source": [
        "# если передавать аргументы не в том порядке, в каком они были описаны при объявлении\n",
        "print(power(number_2=3, number=2))"
      ]
    },
    {
      "cell_type": "markdown",
      "metadata": {
        "id": "BF7EhPbcSVBV"
      },
      "source": [
        "Иногда возникает ситуация, когда вы заранее не знаете, какое количество аргументов будет необходимо принять функции. В этом случае следует использовать аргументы произвольной длины ([args и kwargs](https://teletype.in/@pythontalk/python_asteriks)). Они задаются произвольным именем переменной, перед которой ставится звездочка (args) или две здездочки (kwargs)."
      ]
    },
    {
      "cell_type": "code",
      "execution_count": null,
      "metadata": {
        "colab": {
          "base_uri": "https://localhost:8080/"
        },
        "id": "ilXaysWUawBT",
        "outputId": "43bcb7b3-2259-49bd-f3d2-a5aff6fff59c"
      },
      "outputs": [
        {
          "name": "stdout",
          "output_type": "stream",
          "text": [
            "(1, 2, 3, 4, 5, 6, 7, 8, 9, 10)\n",
            "{'divisor': 7, 'accuracy': 2}\n",
            "7.86\n"
          ]
        }
      ],
      "source": [
        "# Сумму всех позиционных аргументов вычисляем с помощью sum\n",
        "# *args упаковывает все позиционные аргументы в кортеж\n",
        "# **kwargs упаковывает все именованные аргументы в словарь, из которого получаем значение по ключу\n",
        "\n",
        "def sum_division(*args, **kwargs):\n",
        "    print(args)\n",
        "    print(kwargs)\n",
        "    return round(sum(args) / kwargs['divisor'], kwargs['accuracy'])\n",
        "\n",
        "print(sum_division(1, 2, 3, 4, 5, 6, 7, 8, 9, 10, divisor=7, accuracy=2))"
      ]
    },
    {
      "cell_type": "code",
      "execution_count": null,
      "metadata": {
        "colab": {
          "base_uri": "https://localhost:8080/"
        },
        "id": "9XSfxweRawBT",
        "outputId": "af0e2597-4fe3-4ed3-8431-69fd0a745c18"
      },
      "outputs": [
        {
          "name": "stdout",
          "output_type": "stream",
          "text": [
            "(1, 2, 3, 4, 5, 6, 7, 8, 9, 10)\n",
            "{'divisor': 7, 'accuracy': 2}\n",
            "7.86\n"
          ]
        }
      ],
      "source": [
        "# распаковка позволяет отделить создание списка аргументов от их передачи в функцию\n",
        "numbers = [1, 2, 3, 4, 5, 6, 7, 8, 9, 10]\n",
        "params = {'divisor': 7,'accuracy': 2}\n",
        "\n",
        "print(sum_division(*numbers, **params))"
      ]
    },
    {
      "cell_type": "markdown",
      "metadata": {
        "id": "6GGM5SzuRYl3"
      },
      "source": [
        "#### Практика. Напишем функцию, которая будет находить среднюю цену за квартиры по всем районам города"
      ]
    },
    {
      "cell_type": "code",
      "execution_count": null,
      "metadata": {
        "id": "CRljX_0tRexA"
      },
      "outputs": [],
      "source": [
        "district_1 = {'flat_1': 10500, 'flat_2': 11000}\n",
        "district_2 = {'flat_3': 15000}\n",
        "district_3 = {'flat_4': 6500, 'flat_5': 7000, 'flat_6': 6000}"
      ]
    },
    {
      "cell_type": "code",
      "execution_count": null,
      "metadata": {
        "colab": {
          "base_uri": "https://localhost:8080/"
        },
        "id": "k5pkpujL9LS5",
        "outputId": "998eb563-e614-4320-c2b1-1e01241d78f3"
      },
      "outputs": [
        {
          "name": "stdout",
          "output_type": "stream",
          "text": [
            "(10500, 11000, 15000, 6500, 7000, 6000)\n",
            "9333.33\n",
            "(10500, 11000, 15000)\n",
            "12166.67\n"
          ]
        }
      ],
      "source": [
        "def get_avg_price(*distrcits):\n",
        "    print(distrcits)\n",
        "    return round(sum(distrcits) / len(distrcits), 2)\n",
        "\n",
        "print(get_avg_price(*district_1.values(), *district_2.values(), *district_3.values()))\n",
        "print(get_avg_price(*district_1.values(), *district_2.values()))"
      ]
    },
    {
      "cell_type": "code",
      "execution_count": null,
      "metadata": {
        "colab": {
          "base_uri": "https://localhost:8080/"
        },
        "id": "dcTO0kkI9LVu",
        "outputId": "4ce160ee-f3b8-481b-e1c5-7b0e2c8ac1b0"
      },
      "outputs": [
        {
          "name": "stdout",
          "output_type": "stream",
          "text": [
            "{'flat_1': 10500, 'flat_2': 11000, 'flat_3': 15000, 'flat_4': 6500, 'flat_5': 7000, 'flat_6': 6000}\n",
            "9333.33\n"
          ]
        }
      ],
      "source": [
        "def get_avg_price(**districts):\n",
        "    print(districts)\n",
        "    return round(sum(districts.values()) / len(districts.values()), 2)\n",
        "\n",
        "print(get_avg_price(**district_1, **district_2, **district_3))"
      ]
    },
    {
      "cell_type": "markdown",
      "metadata": {
        "id": "ZpbWF9Spd7Pj"
      },
      "source": [
        "### Комплексный пример"
      ]
    },
    {
      "cell_type": "code",
      "execution_count": 20,
      "metadata": {
        "id": "Gvct0-t8d7Pk"
      },
      "outputs": [],
      "source": [
        "students_list = [\n",
        "    {'name': 'Василий', 'surname': 'Теркин', 'gender': 'м', 'program_exp': True, 'grade': [8, 8, 9, 10, 9], 'exam': 8},\n",
        "    {'name': 'Мария', 'surname': 'Павлова', 'gender': 'ж', 'program_exp': True, 'grade': [7, 8, 9, 7, 9], 'exam': 9},\n",
        "    {'name': 'Ирина', 'surname': 'Андреева', 'gender': 'ж', 'program_exp': False, 'grade': [10, 9, 8, 10, 10], 'exam': 7},\n",
        "    {'name': 'Татьяна', 'surname': 'Сидорова', 'gender': 'ж', 'program_exp': False, 'grade': [7, 8, 8, 9, 8],'exam': 10},\n",
        "    {'name': 'Иван', 'surname': 'Васильев', 'gender': 'м', 'program_exp': True, 'grade': [9, 8, 9, 6, 9], 'exam': 5},\n",
        "    {'name': 'Роман', 'surname': 'Золотарев', 'gender': 'м', 'program_exp': False, 'grade': [8, 9, 9, 6, 9], 'exam': 6}\n",
        "]"
      ]
    },
    {
      "cell_type": "code",
      "execution_count": 21,
      "metadata": {
        "colab": {
          "base_uri": "https://localhost:8080/"
        },
        "id": "25OprS8K_lET",
        "outputId": "c4f040e6-99f7-4d3d-e9e1-e4e7af345762"
      },
      "outputs": [
        {
          "name": "stdout",
          "output_type": "stream",
          "text": [
            "7.5\n"
          ]
        }
      ],
      "source": [
        "def get_avg_exam_grade(students):\n",
        "    sum_ = 0\n",
        "    for student in students:\n",
        "        sum_ += student['exam']\n",
        "    return round(sum_ / len(students), 2)\n",
        "\n",
        "def get_avg_exam_grade(students):\n",
        "    return round(sum(map(lambda student: student['exam'], students)) / len(students), 2)\n",
        "\n",
        "print(get_avg_exam_grade(students_list))"
      ]
    },
    {
      "cell_type": "code",
      "execution_count": 22,
      "metadata": {
        "id": "QVqNS1Xx_lHE"
      },
      "outputs": [],
      "source": [
        "def filter_students(students, exp=None, gender=None):\n",
        "    res = []\n",
        "\n",
        "    for student in students:\n",
        "        if (student['program_exp'] is exp or exp is None) and (student['gender'] == gender or gender is None):\n",
        "            res.append(student)\n",
        "\n",
        "    return res\n",
        "\n",
        "def filter_students(students, exp=None, gender=None):\n",
        "    filter_func = lambda student: (student['program_exp'] is exp or exp is None) and (student['gender'] == gender or gender is None)\n",
        "    return list(filter(filter_func, students))\n",
        "\n",
        "def filter_students(students, exp=None, gender=None):\n",
        "    filter_func = lambda student: (student['program_exp'] is exp or exp is None) and (student['gender'] == gender or gender is None)\n",
        "    return list(filter(filter_func, students))\n",
        "\n"
      ]
    },
    {
      "cell_type": "code",
      "execution_count": 23,
      "metadata": {
        "colab": {
          "base_uri": "https://localhost:8080/"
        },
        "id": "oqeTutJ5_lJ5",
        "outputId": "7e5b1307-890c-4e57-ade9-947d6b6becb3"
      },
      "outputs": [
        {
          "name": "stdout",
          "output_type": "stream",
          "text": [
            "6.5\n",
            "8.5\n"
          ]
        }
      ],
      "source": [
        "# print(filter_students(students_list, True, 'м'))\n",
        "# print(filter_students(students_list, False, 'ж'))\n",
        "\n",
        "print(get_avg_exam_grade(filter_students(students_list, True, 'м')))\n",
        "\n",
        "# exp_students = filter_students(students_list, True, 'ж')\n",
        "\n",
        "# print(get_avg_exam_grade(exp_students))\n",
        "\n",
        "print(get_avg_exam_grade(filter_students(students_list, False, 'ж')))"
      ]
    },
    {
      "cell_type": "code",
      "execution_count": 24,
      "metadata": {
        "colab": {
          "base_uri": "https://localhost:8080/"
        },
        "id": "gCXGPoBLDW8e",
        "outputId": "e8397c88-ff92-49c0-9c77-48c337dcd3a8"
      },
      "outputs": [
        {
          "name": "stdout",
          "output_type": "stream",
          "text": [
            "[{'name': 'Василий', 'surname': 'Теркин', 'gender': 'м', 'program_exp': True, 'grade': [8, 8, 9, 10, 9], 'exam': 8}, {'name': 'Иван', 'surname': 'Васильев', 'gender': 'м', 'program_exp': True, 'grade': [9, 8, 9, 6, 9], 'exam': 5}]\n",
            "[{'name': 'Ирина', 'surname': 'Андреева', 'gender': 'ж', 'program_exp': False, 'grade': [10, 9, 8, 10, 10], 'exam': 7}, {'name': 'Татьяна', 'surname': 'Сидорова', 'gender': 'ж', 'program_exp': False, 'grade': [7, 8, 8, 9, 8], 'exam': 10}]\n",
            "[{'name': 'Ирина', 'surname': 'Андреева', 'gender': 'ж', 'program_exp': False, 'grade': [10, 9, 8, 10, 10], 'exam': 7}, {'name': 'Татьяна', 'surname': 'Сидорова', 'gender': 'ж', 'program_exp': False, 'grade': [7, 8, 8, 9, 8], 'exam': 10}, {'name': 'Роман', 'surname': 'Золотарев', 'gender': 'м', 'program_exp': False, 'grade': [8, 9, 9, 6, 9], 'exam': 6}]\n",
            "[{'name': 'Мария', 'surname': 'Павлова', 'gender': 'ж', 'program_exp': True, 'grade': [7, 8, 9, 7, 9], 'exam': 9}, {'name': 'Ирина', 'surname': 'Андреева', 'gender': 'ж', 'program_exp': False, 'grade': [10, 9, 8, 10, 10], 'exam': 7}, {'name': 'Татьяна', 'surname': 'Сидорова', 'gender': 'ж', 'program_exp': False, 'grade': [7, 8, 8, 9, 8], 'exam': 10}]\n",
            "[{'name': 'Мария', 'surname': 'Павлова', 'gender': 'ж', 'program_exp': True, 'grade': [7, 8, 9, 7, 9], 'exam': 9}, {'name': 'Ирина', 'surname': 'Андреева', 'gender': 'ж', 'program_exp': False, 'grade': [10, 9, 8, 10, 10], 'exam': 7}, {'name': 'Татьяна', 'surname': 'Сидорова', 'gender': 'ж', 'program_exp': False, 'grade': [7, 8, 8, 9, 8], 'exam': 10}]\n"
          ]
        }
      ],
      "source": [
        "print(filter_students(students_list, True, 'м'))\n",
        "print(filter_students(students_list, False, 'ж'))\n",
        "print(filter_students(students_list, False))\n",
        "print(filter_students(students_list, None, 'ж'))\n",
        "print(filter_students(students_list, gender='ж'))"
      ]
    },
    {
      "cell_type": "code",
      "execution_count": 25,
      "metadata": {
        "colab": {
          "base_uri": "https://localhost:8080/"
        },
        "id": "6Yk80JAu_lMe",
        "outputId": "80716c0e-8c2a-47e7-c31a-129d14835a28"
      },
      "outputs": [
        {
          "name": "stdout",
          "output_type": "stream",
          "text": [
            "8.67\n",
            "8.5\n"
          ]
        }
      ],
      "source": [
        "print(get_avg_exam_grade(filter_students(students_list, gender='ж')))\n",
        "print(get_avg_exam_grade(filter_students(students_list, False, 'ж')))"
      ]
    },
    {
      "cell_type": "code",
      "execution_count": 26,
      "metadata": {
        "colab": {
          "base_uri": "https://localhost:8080/",
          "height": 369
        },
        "id": "UD3ufIqN_lPU",
        "outputId": "1e00665f-d5ed-4332-bdc3-72e77727bd16"
      },
      "outputs": [],
      "source": [
        "# filter_dict = {'program_exp': True, 'gender': 'ж'}\n",
        "\n",
        "# def filter_students(students, filter_dict):\n",
        "\n",
        "#     students_set = set(students)\n",
        "#     for key, value in filter_dict.items():\n",
        "#         filter_func = lambda student: student[key] == value\n",
        "#         students_set = students_set & set(filter(filter_func, students))\n",
        "#     return students_set\n",
        "\n",
        "# print(filter_students(students_list, filter_dict))"
      ]
    },
    {
      "cell_type": "code",
      "execution_count": 27,
      "metadata": {
        "colab": {
          "base_uri": "https://localhost:8080/"
        },
        "id": "FA-HjFXq_lSD",
        "outputId": "0f8c65c7-6bf5-4a6a-c729-6408ceee8639"
      },
      "outputs": [
        {
          "name": "stdout",
          "output_type": "stream",
          "text": [
            "7.5\n",
            "[{'name': 'Василий', 'surname': 'Теркин', 'gender': 'м', 'program_exp': True, 'grade': [8, 8, 9, 10, 9], 'exam': 8}, {'name': 'Иван', 'surname': 'Васильев', 'gender': 'м', 'program_exp': True, 'grade': [9, 8, 9, 6, 9], 'exam': 5}]\n",
            "выход\n"
          ]
        }
      ],
      "source": [
        "def main(students):\n",
        "    while True:\n",
        "        user_input = input('Введите команду: ')\n",
        "        if user_input == 'q':\n",
        "            print('выход')\n",
        "            break\n",
        "        elif user_input == '1':\n",
        "            print(get_avg_exam_grade(students))\n",
        "        elif user_input == '2':\n",
        "            print(filter_students(students, True, 'м'))\n",
        "        elif user_input == '3':\n",
        "            print(filter_students(students, gender='ж'))\n",
        "\n",
        "main(students_list)"
      ]
    },
    {
      "cell_type": "markdown",
      "metadata": {
        "id": "mgMjftejd7Ph"
      },
      "source": [
        "### Анонимные функции, функции map и filter"
      ]
    },
    {
      "cell_type": "markdown",
      "metadata": {
        "id": "johkgSPXd7Ph"
      },
      "source": [
        "[Анонимные функции](https://habr.com/ru/post/507642/) создаются при помощи инструкции lambda и используются для более краткой записи функций с одним выражением. Выполняются быстрее обычных и не требуют инструкции return."
      ]
    },
    {
      "cell_type": "code",
      "execution_count": null,
      "metadata": {
        "colab": {
          "base_uri": "https://localhost:8080/"
        },
        "id": "go0gAu5Qd7Ph",
        "outputId": "42f9b76d-43d2-40ae-e3c9-de4baa1dc669"
      },
      "outputs": [
        {
          "name": "stdout",
          "output_type": "stream",
          "text": [
            "9\n"
          ]
        }
      ],
      "source": [
        "func = lambda x, y: x + y\n",
        "print(func(1, 8))"
      ]
    },
    {
      "cell_type": "code",
      "execution_count": null,
      "metadata": {
        "colab": {
          "base_uri": "https://localhost:8080/"
        },
        "id": "RQqB-oQ8d7Ph",
        "outputId": "28912b0b-1b65-42ce-c50b-d76d91c08b64"
      },
      "outputs": [
        {
          "name": "stdout",
          "output_type": "stream",
          "text": [
            "(3.0, 81)\n"
          ]
        }
      ],
      "source": [
        "sqrt = lambda x: (x**0.5, x**2)\n",
        "print(sqrt(9))"
      ]
    },
    {
      "cell_type": "markdown",
      "metadata": {
        "id": "Y-BEeoayd7Ph"
      },
      "source": [
        "### lambda + map"
      ]
    },
    {
      "cell_type": "markdown",
      "metadata": {
        "id": "vQikb7snd7Pi"
      },
      "source": [
        "В Python функция map принимает два аргумента: функцию и итерируемый объект, например, список. map применяет к каждому элементу объекта переданного в функцию."
      ]
    },
    {
      "cell_type": "markdown",
      "metadata": {
        "id": "KfsvVpu-d7Pi"
      },
      "source": [
        "Пишем программу, которая создает список, содержащий квадраты натуральных чисел от 1 до 9"
      ]
    },
    {
      "cell_type": "code",
      "execution_count": 28,
      "metadata": {
        "colab": {
          "base_uri": "https://localhost:8080/"
        },
        "id": "z1T6oKmvd7Pi",
        "outputId": "bb6d986a-d96a-49e5-9086-d30035602780"
      },
      "outputs": [
        {
          "name": "stdout",
          "output_type": "stream",
          "text": [
            "[1, 4, 9, 16, 25, 36, 49, 64, 81]\n"
          ]
        }
      ],
      "source": [
        "# Традиционным способом\n",
        "my_list = []\n",
        "for i in range(1, 10):\n",
        "    my_list.append(i ** 2)\n",
        "print(my_list)"
      ]
    },
    {
      "cell_type": "code",
      "execution_count": 29,
      "metadata": {
        "colab": {
          "base_uri": "https://localhost:8080/"
        },
        "id": "lAVF34Fed7Pi",
        "outputId": "6891f91b-dd52-46f3-9922-1fa5ca1c5a8b"
      },
      "outputs": [
        {
          "name": "stdout",
          "output_type": "stream",
          "text": [
            "[1, 4, 9, 16, 25, 36, 49, 64, 81]\n"
          ]
        }
      ],
      "source": [
        "# С помощью map+lambda\n",
        "print(list(map(lambda x: x**2, range(1,10))))"
      ]
    },
    {
      "cell_type": "code",
      "execution_count": 30,
      "metadata": {
        "id": "FLqx6pfXIg3j",
        "scrolled": true
      },
      "outputs": [
        {
          "name": "stdout",
          "output_type": "stream",
          "text": [
            "[1.6, 10.4, 27.84, 3.84, 14.4]\n"
          ]
        }
      ],
      "source": [
        "def miles_to_kilometers(num_miles):\n",
        "    return num_miles * 1.6\n",
        "\n",
        "mile_distances = [1.0, 6.5, 17.4, 2.4, 9]\n",
        "kilometer_distances = list(map(miles_to_kilometers, mile_distances))\n",
        "print(kilometer_distances)"
      ]
    },
    {
      "cell_type": "code",
      "execution_count": 31,
      "metadata": {
        "id": "tz099Zb1Ig3n",
        "scrolled": true
      },
      "outputs": [
        {
          "name": "stdout",
          "output_type": "stream",
          "text": [
            "[1.6, 10.4, 27.84, 3.84, 14.4]\n"
          ]
        }
      ],
      "source": [
        "mile_distances = [1.0, 6.5, 17.4, 2.4, 9]\n",
        "kilometer_distances = list(map(lambda x: x * 1.6, mile_distances))\n",
        "print(kilometer_distances)"
      ]
    },
    {
      "cell_type": "markdown",
      "metadata": {
        "id": "vUJMJrW7d7Pj"
      },
      "source": [
        "#### Практика. Напишите функцию, которая будет находить среднюю цену на товары в каждой категории по отдельности."
      ]
    },
    {
      "cell_type": "code",
      "execution_count": null,
      "metadata": {
        "id": "Up5GPORUIg0o"
      },
      "outputs": [],
      "source": [
        "prices = [[100, 200, 400, 600], [200, 500], [100, 200, 100, 100], [800, 900]]"
      ]
    },
    {
      "cell_type": "code",
      "execution_count": null,
      "metadata": {
        "id": "Mev3JY5PFoXD"
      },
      "outputs": [],
      "source": []
    },
    {
      "cell_type": "markdown",
      "metadata": {
        "id": "p_Z4uw73j8Xx"
      },
      "source": [
        "### lambda + filter"
      ]
    },
    {
      "cell_type": "code",
      "execution_count": 32,
      "metadata": {
        "id": "EBLHeZpvQnFZ"
      },
      "outputs": [],
      "source": [
        "geo_logs = [\n",
        "    {'visit1': ['Москва', 'Россия']},\n",
        "    {'visit2': ['Дели', 'Индия']},\n",
        "    {'visit3': ['Владимир', 'Россия']},\n",
        "    {'visit4': ['Лиссабон', 'Португалия']},\n",
        "    {'visit5': ['Париж', 'Франция']},\n",
        "    {'visit7': ['Тула', 'Россия']},\n",
        "    {'visit9': ['Курск', 'Россия']},\n",
        "    {'visit10': ['Архангельск', 'Россия']}\n",
        "]"
      ]
    },
    {
      "cell_type": "code",
      "execution_count": 38,
      "metadata": {
        "colab": {
          "base_uri": "https://localhost:8080/"
        },
        "id": "DaRAQ3R1QsP1",
        "outputId": "19255a2b-855c-42eb-df67-418be6de0bd0"
      },
      "outputs": [
        {
          "name": "stdout",
          "output_type": "stream",
          "text": [
            "[{'visit1': ['Москва', 'Россия']}, {'visit3': ['Владимир', 'Россия']}, {'visit7': ['Тула', 'Россия']}, {'visit9': ['Курск', 'Россия']}, {'visit10': ['Архангельск', 'Россия']}]\n"
          ]
        }
      ],
      "source": [
        "# раньше мы бы сделали так\n",
        "result = []\n",
        "for log in geo_logs:\n",
        "    if 'Россия' in list(log.values())[0]:\n",
        "        result.append(log)\n",
        "\n",
        "print(result)"
      ]
    },
    {
      "cell_type": "code",
      "execution_count": 35,
      "metadata": {
        "colab": {
          "base_uri": "https://localhost:8080/"
        },
        "id": "69ru-aTZQu8j",
        "outputId": "05bb83e8-60c8-436d-af16-bd7366319d14"
      },
      "outputs": [
        {
          "name": "stdout",
          "output_type": "stream",
          "text": [
            "[{'visit1': ['Москва', 'Россия']}, {'visit3': ['Владимир', 'Россия']}, {'visit7': ['Тула', 'Россия']}, {'visit9': ['Курск', 'Россия']}, {'visit10': ['Архангельск', 'Россия']}]\n"
          ]
        }
      ],
      "source": [
        "# а теперь можем так\n",
        "print(list(filter(lambda log: 'Россия' in list(log.values())[0], geo_logs)))"
      ]
    },
    {
      "cell_type": "markdown",
      "metadata": {
        "id": "ONpdieq_fpaF"
      },
      "source": [
        "### Цикл  / reduce\n",
        "\n",
        "Напишем функцию, преобразующую произвольный список вида `['2018-01-01', 'yandex', 'cpc', 100]` (он может быть любой длины) в словарь `{'2018-01-01': {'yandex': {'cpc': 100}}}`"
      ]
    },
    {
      "cell_type": "code",
      "execution_count": null,
      "metadata": {
        "colab": {
          "base_uri": "https://localhost:8080/"
        },
        "id": "GEn97dBdfxx_",
        "outputId": "f929b476-06aa-44b1-ad7d-4972448ef8be"
      },
      "outputs": [
        {
          "name": "stdout",
          "output_type": "stream",
          "text": [
            "{'2023-01-01': {'yandex': {'cpc': 100}}}\n",
            "{'2023-01-01': {'yandex': {'cpc': 100}}}\n"
          ]
        }
      ],
      "source": [
        "crazy_list = ['2023-01-01', 'yandex', 'cpc', 100]\n",
        "\n",
        "def get_dict(list_):\n",
        "    res = list_[-1]\n",
        "\n",
        "    for el in reversed(list_[:-1]):\n",
        "        res = {el: res}\n",
        "    return res\n",
        "print(get_dict(crazy_list))\n",
        "print(reduce(lambda key, value: {value: key}, reversed(crazy_list)))"
      ]
    },
    {
      "cell_type": "code",
      "execution_count": null,
      "metadata": {
        "colab": {
          "base_uri": "https://localhost:8080/"
        },
        "id": "tlDiwj_8KaUe",
        "outputId": "0f3f9c6f-395a-4edb-bbdd-ece1fedaae99"
      },
      "outputs": [
        {
          "data": {
            "text/plain": [
              "720"
            ]
          },
          "execution_count": 77,
          "metadata": {},
          "output_type": "execute_result"
        }
      ],
      "source": [
        "from functools import reduce\n",
        "\n",
        "res = reduce(lambda a, b: a*b, [2, 3, 4, 5, 6])\n",
        "res"
      ]
    },
    {
      "cell_type": "markdown",
      "metadata": {
        "id": "OgFcwZp-Z-ck"
      },
      "source": [
        "### Спасибо за внимание!"
      ]
    }
  ],
  "metadata": {
    "colab": {
      "provenance": []
    },
    "kernelspec": {
      "display_name": "Python 3",
      "language": "python",
      "name": "python3"
    },
    "language_info": {
      "codemirror_mode": {
        "name": "ipython",
        "version": 3
      },
      "file_extension": ".py",
      "mimetype": "text/x-python",
      "name": "python",
      "nbconvert_exporter": "python",
      "pygments_lexer": "ipython3",
      "version": "3.10.9"
    }
  },
  "nbformat": 4,
  "nbformat_minor": 0
}
